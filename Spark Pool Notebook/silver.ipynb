{
  "cells": [
    {
      "cell_type": "markdown",
      "source": [
        "# 1. Cities"
      ],
      "metadata": {
        "nteract": {
          "transient": {
            "deleting": false
          }
        }
      }
    },
    {
      "cell_type": "code",
      "source": [
        "# Read parquet file in bronze\n",
        "df = spark.read.load(path='abfss://final@bibik224161840.dfs.core.windows.net/bronze/Application.Cities.parquet', format='parquet')\n",
        "\n",
        "# Add surrogate key column\n",
        "from pyspark.sql.window import Window\n",
        "from pyspark.sql.functions import row_number\n",
        "\n",
        "window_spec = Window.orderBy(\"CityID\")  \n",
        "df = df.withColumn(\"CityKey\", row_number().over(window_spec))\n",
        "\n",
        "# Create a temporary view from the bronze Parquet data (df) as the source\n",
        "df.createOrReplaceTempView(\"v_bronze_Cities\")"
      ],
      "outputs": [
        {
          "output_type": "display_data",
          "data": {
            "application/vnd.livy.statement-meta+json": {
              "spark_pool": null,
              "statement_id": -1,
              "statement_ids": [],
              "state": "cancelled",
              "livy_statement_state": null,
              "spark_jobs": null,
              "session_id": null,
              "normalized_state": "cancelled",
              "queued_time": "2025-03-20T10:21:23.2873853Z",
              "session_start_time": "2025-03-20T10:21:23.288639Z",
              "execution_start_time": null,
              "execution_finish_time": "2025-03-20T10:21:24.6730169Z",
              "parent_msg_id": "25e01490-e0b8-4dda-95e6-0eb0b26a723c"
            },
            "text/plain": "StatementMeta(, , -1, Cancelled, , Cancelled)"
          },
          "metadata": {}
        }
      ],
      "execution_count": 2,
      "metadata": {}
    },
    {
      "cell_type": "code",
      "source": [
        "%%sql\n",
        "--Create table in Lake Database\n",
        "USE silver;\n",
        "\n",
        "CREATE TABLE IF NOT EXISTS silver.Cities (\n",
        "    CityKey int,\n",
        "\tCityID int,\n",
        "\tCityName string,\n",
        "    StateProvinceID int,\n",
        "    Location string,\n",
        "    LatestRecordedPopulation int,\n",
        "\tlast_updated timestamp,\n",
        "    start_date timestamp,\n",
        "    end_date timestamp,\n",
        "    is_active boolean\n",
        ");"
      ],
      "outputs": [
        {
          "output_type": "display_data",
          "data": {
            "application/vnd.livy.statement-meta+json": {
              "spark_pool": null,
              "statement_id": -1,
              "statement_ids": null,
              "state": "cancelled",
              "livy_statement_state": null,
              "spark_jobs": null,
              "session_id": null,
              "normalized_state": "cancelled",
              "queued_time": "2025-03-20T10:21:23.4256689Z",
              "session_start_time": null,
              "execution_start_time": null,
              "execution_finish_time": "2025-03-20T10:21:24.6692805Z",
              "parent_msg_id": "44eb5a34-7275-442c-bcae-676dfe58662e"
            },
            "text/plain": "StatementMeta(, , -1, Cancelled, , Cancelled)"
          },
          "metadata": {}
        }
      ],
      "execution_count": null,
      "metadata": {
        "microsoft": {
          "language": "sparksql"
        },
        "collapsed": false
      }
    },
    {
      "cell_type": "code",
      "source": [
        "%%sql\n",
        "-- SCD type 2: Insert the updated rows (setting is_active = 0 and end_date for historical rows)\n",
        "INSERT INTO silver.Cities\n",
        "SELECT\n",
        "    target.CityKey,\n",
        "    target.CityID,\n",
        "    target.CityName,\n",
        "    target.StateProvinceID,\n",
        "    target.Location,\n",
        "    target.LatestRecordedPopulation,\n",
        "    target.last_updated,\n",
        "    target.start_date,\n",
        "    FROM_UTC_TIMESTAMP(current_timestamp(), 'Asia/Ho_Chi_Minh') AS end_date, \n",
        "    false AS is_active\n",
        "FROM\n",
        "    silver.Cities AS target\n",
        "JOIN\n",
        "    v_bronze_Cities AS source\n",
        "    ON target.CityID = source.CityID\n",
        "WHERE\n",
        "    target.is_active = true  -- Only update active rows\n",
        "    AND (\n",
        "        target.CityName <> source.CityName\n",
        "        OR target.StateProvinceID <> source.StateProvinceID\n",
        "        OR target.Location <> source.Location\n",
        "        OR target.LatestRecordedPopulation <> source.LatestRecordedPopulation\n",
        "        OR target.last_updated <> source.last_updated\n",
        "    );"
      ],
      "outputs": [
        {
          "output_type": "display_data",
          "data": {
            "application/vnd.livy.statement-meta+json": {
              "spark_pool": null,
              "statement_id": -1,
              "statement_ids": null,
              "state": "cancelled",
              "livy_statement_state": null,
              "spark_jobs": null,
              "session_id": null,
              "normalized_state": "cancelled",
              "queued_time": "2025-03-20T10:21:23.549951Z",
              "session_start_time": null,
              "execution_start_time": null,
              "execution_finish_time": "2025-03-20T10:21:24.6698664Z",
              "parent_msg_id": "f69ef688-d42a-4f41-9a16-767628a8503b"
            },
            "text/plain": "StatementMeta(, , -1, Cancelled, , Cancelled)"
          },
          "metadata": {}
        }
      ],
      "execution_count": null,
      "metadata": {
        "microsoft": {
          "language": "sparksql"
        },
        "collapsed": false
      }
    },
    {
      "cell_type": "code",
      "source": [
        "%%sql\n",
        "-- SCD Type 2: Drop old rows after update (which have is_active = 1)\n",
        "INSERT OVERWRITE silver.Cities\n",
        "SELECT *\n",
        "FROM silver.Cities AS target\n",
        "WHERE NOT EXISTS (\n",
        "    SELECT 1\n",
        "    FROM v_bronze_Cities AS source\n",
        "    WHERE target.CityID = source.CityID\n",
        "    AND target.is_active = true\n",
        "    AND (\n",
        "        target.CityName <> source.CityName\n",
        "        OR target.StateProvinceID <> source.StateProvinceID\n",
        "        OR target.Location <> source.Location\n",
        "        OR target.LatestRecordedPopulation <> source.LatestRecordedPopulation\n",
        "        OR target.last_updated <> source.last_updated\n",
        "    )\n",
        ");"
      ],
      "outputs": [
        {
          "output_type": "display_data",
          "data": {
            "application/vnd.livy.statement-meta+json": {
              "spark_pool": null,
              "statement_id": -1,
              "statement_ids": null,
              "state": "cancelled",
              "livy_statement_state": null,
              "spark_jobs": null,
              "session_id": null,
              "normalized_state": "cancelled",
              "queued_time": "2025-03-20T10:21:23.6342457Z",
              "session_start_time": null,
              "execution_start_time": null,
              "execution_finish_time": "2025-03-20T10:21:24.6703303Z",
              "parent_msg_id": "99adcaa8-fdd9-408b-89a4-1f679a800194"
            },
            "text/plain": "StatementMeta(, , -1, Cancelled, , Cancelled)"
          },
          "metadata": {}
        }
      ],
      "execution_count": null,
      "metadata": {
        "microsoft": {
          "language": "sparksql"
        }
      }
    },
    {
      "cell_type": "code",
      "source": [
        "%%sql\n",
        "-- SCD Type 2: Insert new rows (new records)\n",
        "WITH max_key AS (  \n",
        "    SELECT COALESCE(MAX(CityKey), 0) AS max_id FROM silver.Cities  \n",
        "),  \n",
        "new_data AS (  \n",
        "    SELECT  \n",
        "        source.CityID,  \n",
        "        source.CityName,  \n",
        "        source.StateProvinceID,  \n",
        "        source.Location,  \n",
        "        source.LatestRecordedPopulation,  \n",
        "        source.last_updated,  \n",
        "        FROM_UTC_TIMESTAMP(current_timestamp(), 'Asia/Ho_Chi_Minh') AS start_date,  \n",
        "        NULL AS end_date,  \n",
        "        true AS is_active,  \n",
        "        ROW_NUMBER() OVER (ORDER BY source.CityID) AS rn  \n",
        "    FROM v_bronze_Cities AS source  \n",
        "    LEFT JOIN silver.Cities AS target  \n",
        "        ON source.CityID = target.CityID  \n",
        "        AND target.is_active = true  \n",
        "    WHERE target.CityID IS NULL  \n",
        "       OR target.CityName <> source.CityName  \n",
        "       OR target.StateProvinceID <> source.StateProvinceID  \n",
        "       OR target.Location <> source.Location  \n",
        "       OR target.LatestRecordedPopulation <> source.LatestRecordedPopulation  \n",
        "       OR target.last_updated <> source.last_updated  \n",
        ")  \n",
        "INSERT INTO silver.Cities  \n",
        "SELECT  \n",
        "    max_key.max_id + new_data.rn AS CityKey,  \n",
        "    new_data.CityID,  \n",
        "    new_data.CityName,  \n",
        "    new_data.StateProvinceID,  \n",
        "    new_data.Location,  \n",
        "    new_data.LatestRecordedPopulation,  \n",
        "    new_data.last_updated,  \n",
        "    new_data.start_date,  \n",
        "    new_data.end_date,  \n",
        "    new_data.is_active  \n",
        "FROM new_data  \n",
        "CROSS JOIN max_key;\n"
      ],
      "outputs": [
        {
          "output_type": "display_data",
          "data": {
            "application/vnd.livy.statement-meta+json": {
              "spark_pool": null,
              "statement_id": -1,
              "statement_ids": null,
              "state": "cancelled",
              "livy_statement_state": null,
              "spark_jobs": null,
              "session_id": null,
              "normalized_state": "cancelled",
              "queued_time": "2025-03-20T10:21:23.9489326Z",
              "session_start_time": null,
              "execution_start_time": null,
              "execution_finish_time": "2025-03-20T10:21:24.670791Z",
              "parent_msg_id": "fda2f4f5-dca8-4a68-8b9c-f2da1b37f128"
            },
            "text/plain": "StatementMeta(, , -1, Cancelled, , Cancelled)"
          },
          "metadata": {}
        }
      ],
      "execution_count": null,
      "metadata": {
        "microsoft": {
          "language": "sparksql"
        },
        "collapsed": false
      }
    },
    {
      "cell_type": "code",
      "source": [
        "# Write to a Parquet file in the Silver layer of the storage account\n",
        "df_Cities = spark.sql(\"SELECT * FROM silver.Cities\")\n",
        "df_Cities.repartition(1).write.mode(\"overwrite\").parquet(\"abfss://final@bibik224161840.dfs.core.windows.net/silver/silver.Cities.parquet\")"
      ],
      "outputs": [
        {
          "output_type": "display_data",
          "data": {
            "application/vnd.livy.statement-meta+json": {
              "spark_pool": null,
              "statement_id": -1,
              "statement_ids": null,
              "state": "cancelled",
              "livy_statement_state": null,
              "spark_jobs": null,
              "session_id": null,
              "normalized_state": "cancelled",
              "queued_time": "2025-03-20T10:21:24.2219163Z",
              "session_start_time": null,
              "execution_start_time": null,
              "execution_finish_time": "2025-03-20T10:21:24.6712594Z",
              "parent_msg_id": "251f6d81-851a-4d44-aa2b-dcc08318dd7b"
            },
            "text/plain": "StatementMeta(, , -1, Cancelled, , Cancelled)"
          },
          "metadata": {}
        }
      ],
      "execution_count": null,
      "metadata": {}
    },
    {
      "cell_type": "markdown",
      "source": [
        "# 2. StateProvince"
      ],
      "metadata": {
        "nteract": {
          "transient": {
            "deleting": false
          }
        }
      }
    },
    {
      "cell_type": "code",
      "source": [
        "# Read parquet file in bronze\n",
        "df = spark.read.load(path='abfss://final@bibik224161840.dfs.core.windows.net/bronze/Application.StateProvinces.parquet', format='parquet')\n",
        "\n",
        "# Add surrogate key column\n",
        "from pyspark.sql.window import Window\n",
        "from pyspark.sql.functions import row_number\n",
        "\n",
        "window_spec = Window.orderBy(\"StateProvinceID\")\n",
        "df = df.withColumn(\"StateProvinceKey\", row_number().over(window_spec))\n",
        "\n",
        "df = df.select(\"StateProvinceKey\", *[col for col in df.columns if col != \"StateProvinceKey\"])\n",
        "\n",
        "# Create a temporary view from the bronze Parquet data (df) as the source\n",
        "df.createOrReplaceTempView(\"v_bronze_StateProvinces\")"
      ],
      "outputs": [
        {
          "output_type": "display_data",
          "data": {
            "application/vnd.livy.statement-meta+json": {
              "spark_pool": null,
              "statement_id": -1,
              "statement_ids": null,
              "state": "cancelled",
              "livy_statement_state": null,
              "spark_jobs": null,
              "session_id": null,
              "normalized_state": "cancelled",
              "queued_time": "2025-03-20T10:21:24.3081097Z",
              "session_start_time": null,
              "execution_start_time": null,
              "execution_finish_time": "2025-03-20T10:21:24.6716601Z",
              "parent_msg_id": "1b86d6e7-4eb4-483c-8878-1cbd61cd9566"
            },
            "text/plain": "StatementMeta(, , -1, Cancelled, , Cancelled)"
          },
          "metadata": {}
        }
      ],
      "execution_count": null,
      "metadata": {}
    },
    {
      "cell_type": "code",
      "source": [
        "%%sql\n",
        "-- Create table in Lake Database\n",
        "USE silver;\n",
        "CREATE TABLE IF NOT EXISTS silver.StateProvinces (\n",
        "    StateProvinceKey INT, -- Surrogate Key\n",
        "    StateProvinceID INT,\n",
        "    StateProvinceCode STRING,\n",
        "    StateProvinceName STRING,\n",
        "    CountryID INT,\n",
        "    SalesTerritory STRING,\n",
        "    Border STRING,\n",
        "    LatestRecordedPopulation INT,\n",
        "    last_updated TIMESTAMP,\n",
        "    start_date TIMESTAMP,\n",
        "    end_date TIMESTAMP,\n",
        "    is_active BOOLEAN\n",
        ");\n"
      ],
      "outputs": [
        {
          "output_type": "display_data",
          "data": {
            "application/vnd.livy.statement-meta+json": {
              "spark_pool": null,
              "statement_id": -1,
              "statement_ids": null,
              "state": "cancelled",
              "livy_statement_state": null,
              "spark_jobs": null,
              "session_id": null,
              "normalized_state": "cancelled",
              "queued_time": "2025-03-20T10:21:24.4569035Z",
              "session_start_time": null,
              "execution_start_time": null,
              "execution_finish_time": "2025-03-20T10:21:24.6722932Z",
              "parent_msg_id": "0ecef725-8c3b-44f9-bb05-74d53d957c92"
            },
            "text/plain": "StatementMeta(, , -1, Cancelled, , Cancelled)"
          },
          "metadata": {}
        }
      ],
      "execution_count": null,
      "metadata": {
        "microsoft": {
          "language": "sparksql"
        }
      }
    },
    {
      "cell_type": "code",
      "source": [
        "%%sql\n",
        "-- SCD Type 2: Insert the updated rows (setting is_active = 0 and end_date for historical rows)\n",
        "INSERT INTO silver.StateProvinces\n",
        "SELECT\n",
        "    target.StateProvinceKey,\n",
        "    target.StateProvinceID,\n",
        "    target.StateProvinceCode,\n",
        "    target.StateProvinceName,\n",
        "    target.CountryID,\n",
        "    target.SalesTerritory,\n",
        "    target.Border,\n",
        "    target.LatestRecordedPopulation,\n",
        "    target.last_updated,\n",
        "    target.start_date,\n",
        "    FROM_UTC_TIMESTAMP(current_timestamp(), 'Asia/Ho_Chi_Minh') AS end_date, -- Expiration date\n",
        "    false AS is_active\n",
        "FROM silver.StateProvinces AS target\n",
        "JOIN v_bronze_StateProvinces AS source\n",
        "    ON target.StateProvinceID = source.StateProvinceID\n",
        "WHERE target.is_active = true\n",
        "    AND (\n",
        "        target.StateProvinceCode <> source.StateProvinceCode\n",
        "        OR target.StateProvinceName <> source.StateProvinceName\n",
        "        OR target.CountryID <> source.CountryID\n",
        "        OR target.SalesTerritory <> source.SalesTerritory\n",
        "        OR target.Border <> source.Border\n",
        "        OR target.LatestRecordedPopulation <> source.LatestRecordedPopulation\n",
        "        OR target.last_updated <> source.last_updated\n",
        "    );\n"
      ],
      "outputs": [
        {
          "output_type": "display_data",
          "data": {
            "application/vnd.livy.statement-meta+json": {
              "spark_pool": null,
              "statement_id": -1,
              "statement_ids": null,
              "state": "cancelled",
              "livy_statement_state": null,
              "spark_jobs": null,
              "session_id": null,
              "normalized_state": "cancelled",
              "queued_time": "2025-03-20T10:21:24.5612071Z",
              "session_start_time": null,
              "execution_start_time": null,
              "execution_finish_time": "2025-03-20T10:21:24.6726516Z",
              "parent_msg_id": "a9b8321a-b0f0-41f2-acc0-3bcbdd6e9646"
            },
            "text/plain": "StatementMeta(, , -1, Cancelled, , Cancelled)"
          },
          "metadata": {}
        }
      ],
      "execution_count": null,
      "metadata": {
        "microsoft": {
          "language": "sparksql"
        }
      }
    },
    {
      "cell_type": "code",
      "source": [
        "%%sql\n",
        "-- SCD Type 2: Drop old rows after update (which have is_active = 1)\n",
        "INSERT OVERWRITE silver.StateProvinces\n",
        "SELECT *\n",
        "FROM silver.StateProvinces AS target\n",
        "WHERE NOT EXISTS (\n",
        "    SELECT 1\n",
        "    FROM v_bronze_StateProvinces AS source\n",
        "    WHERE target.StateProvinceID = source.StateProvinceID\n",
        "    AND target.is_active = true\n",
        "    AND (\n",
        "        target.StateProvinceCode <> source.StateProvinceCode\n",
        "        OR target.StateProvinceName <> source.StateProvinceName\n",
        "        OR target.CountryID <> source.CountryID\n",
        "        OR target.SalesTerritory <> source.SalesTerritory\n",
        "        OR target.Border <> source.Border\n",
        "        OR target.LatestRecordedPopulation <> source.LatestRecordedPopulation\n",
        "        OR target.last_updated <> source.last_updated\n",
        "    )\n",
        ");"
      ],
      "outputs": [],
      "execution_count": null,
      "metadata": {
        "microsoft": {
          "language": "sparksql"
        }
      }
    },
    {
      "cell_type": "code",
      "source": [
        "%%sql\n",
        "-- SCD Type 2: Insert new rows (new records)\n",
        "WITH max_key AS (  \n",
        "    SELECT COALESCE(MAX(StateProvinceKey), 0) AS max_id FROM silver.StateProvinces  \n",
        "),  \n",
        "new_data AS (  \n",
        "    SELECT  \n",
        "        source.StateProvinceID,  \n",
        "        source.StateProvinceCode,  \n",
        "        source.StateProvinceName,  \n",
        "        source.CountryID,  \n",
        "        source.SalesTerritory,  \n",
        "        source.Border,  \n",
        "        source.LatestRecordedPopulation,  \n",
        "        source.last_updated,  \n",
        "        FROM_UTC_TIMESTAMP(current_timestamp(), 'Asia/Ho_Chi_Minh') AS start_date,  \n",
        "        NULL AS end_date,  \n",
        "        true AS is_active,  \n",
        "        ROW_NUMBER() OVER (ORDER BY source.StateProvinceID) AS rn  \n",
        "    FROM v_bronze_StateProvinces AS source  \n",
        "    LEFT JOIN silver.StateProvinces AS target  \n",
        "        ON source.StateProvinceID = target.StateProvinceID  \n",
        "        AND target.is_active = true  \n",
        "    WHERE target.StateProvinceID IS NULL  \n",
        "       OR target.StateProvinceCode <> source.StateProvinceCode  \n",
        "       OR target.StateProvinceName <> source.StateProvinceName  \n",
        "       OR target.CountryID <> source.CountryID  \n",
        "       OR target.SalesTerritory <> source.SalesTerritory  \n",
        "       OR target.Border <> source.Border  \n",
        "       OR target.LatestRecordedPopulation <> source.LatestRecordedPopulation  \n",
        "       OR target.last_updated <> source.last_updated  \n",
        ")  \n",
        "INSERT INTO silver.StateProvinces  \n",
        "SELECT  \n",
        "    max_key.max_id + new_data.rn AS StateProvinceKey,  \n",
        "    new_data.StateProvinceID,  \n",
        "    new_data.StateProvinceCode,  \n",
        "    new_data.StateProvinceName,  \n",
        "    new_data.CountryID,  \n",
        "    new_data.SalesTerritory,  \n",
        "    new_data.Border,  \n",
        "    new_data.LatestRecordedPopulation,  \n",
        "    new_data.last_updated,  \n",
        "    new_data.start_date,  \n",
        "    new_data.end_date,  \n",
        "    new_data.is_active  \n",
        "FROM new_data  \n",
        "CROSS JOIN max_key;\n"
      ],
      "outputs": [],
      "execution_count": null,
      "metadata": {
        "microsoft": {
          "language": "sparksql"
        }
      }
    },
    {
      "cell_type": "code",
      "source": [
        "# Write to a Parquet file in the Silver layer of the storage account\n",
        "df_StateProvinces = spark.sql(\"SELECT * FROM silver.StateProvinces\")\n",
        "df_StateProvinces.repartition(1).write.mode(\"overwrite\").parquet(\"abfss://final@bibik224161840.dfs.core.windows.net/silver/silver.StateProvinces.parquet\")"
      ],
      "outputs": [],
      "execution_count": null,
      "metadata": {}
    },
    {
      "cell_type": "markdown",
      "source": [
        "# 3. Countries"
      ],
      "metadata": {
        "nteract": {
          "transient": {
            "deleting": false
          }
        }
      }
    },
    {
      "cell_type": "code",
      "source": [
        "# Read parquet file in bronze\n",
        "df = spark.read.load(path='abfss://final@bibik224161840.dfs.core.windows.net/bronze/Application.Countries.parquet', format='parquet')\n",
        "\n",
        "# Add surrogate key column\n",
        "from pyspark.sql.window import Window\n",
        "from pyspark.sql.functions import row_number\n",
        "\n",
        "window_spec = Window.orderBy(\"CountryID\")\n",
        "df = df.withColumn(\"CountryKey\", row_number().over(window_spec))\n",
        "\n",
        "df = df.select(\"CountryKey\", *[col for col in df.columns if col != \"CountryKey\"])\n",
        "\n",
        "# Create a temporary view from the bronze Parquet data (df) as the source\n",
        "df.createOrReplaceTempView(\"v_bronze_Countries\")"
      ],
      "outputs": [
        {
          "output_type": "display_data",
          "data": {
            "application/vnd.livy.statement-meta+json": {
              "spark_pool": "sparkpool",
              "statement_id": 4,
              "statement_ids": [
                4
              ],
              "state": "finished",
              "livy_statement_state": "available",
              "spark_jobs": null,
              "session_id": "60",
              "normalized_state": "finished",
              "queued_time": "2025-03-19T11:56:15.7367244Z",
              "session_start_time": null,
              "execution_start_time": "2025-03-19T11:56:58.7651728Z",
              "execution_finish_time": "2025-03-19T11:57:12.191118Z",
              "parent_msg_id": "8480d05f-67d2-4d99-b944-bfc957012270"
            },
            "text/plain": "StatementMeta(sparkpool, 60, 4, Finished, Available, Finished)"
          },
          "metadata": {}
        }
      ],
      "execution_count": 8,
      "metadata": {}
    },
    {
      "cell_type": "code",
      "source": [
        "%%sql\n",
        "-- Create table in Lake Database\n",
        "USE silver;\n",
        "CREATE TABLE IF NOT EXISTS silver.Countries (\n",
        "    CountryKey INT, -- Surrogate Key\n",
        "    CountryID INT,\n",
        "    CountryName STRING,\n",
        "    FormalName STRING,\n",
        "    IsoAlpha3Code STRING,\n",
        "    IsoNumericCode INT,\n",
        "    CountryType STRING,\n",
        "    LatestRecordedPopulation INT,\n",
        "    Continent STRING,\n",
        "    Region STRING,\n",
        "    Subregion STRING,\n",
        "    Border STRING,\n",
        "    last_updated TIMESTAMP,\n",
        "    start_date TIMESTAMP,\n",
        "    end_date TIMESTAMP,\n",
        "    is_active BOOLEAN\n",
        ");"
      ],
      "outputs": [],
      "execution_count": null,
      "metadata": {
        "microsoft": {
          "language": "sparksql"
        }
      }
    },
    {
      "cell_type": "code",
      "source": [
        "%%sql\n",
        "-- SCD Type 2: Insert the updated rows (setting is_active = 0 and end_date for historical rows)\n",
        "INSERT INTO silver.Countries\n",
        "SELECT\n",
        "    target.CountryKey,\n",
        "    target.CountryID,\n",
        "    target.CountryName,\n",
        "    target.FormalName,\n",
        "    target.IsoAlpha3Code,\n",
        "    target.IsoNumericCode,\n",
        "    target.CountryType,\n",
        "    target.LatestRecordedPopulation,\n",
        "    target.Continent,\n",
        "    target.Region,\n",
        "    target.Subregion,\n",
        "    target.Border,\n",
        "    target.last_updated,\n",
        "    target.start_date,\n",
        "    FROM_UTC_TIMESTAMP(current_timestamp(), 'Asia/Ho_Chi_Minh') AS end_date, -- Expiration date\n",
        "    false AS is_active\n",
        "FROM silver.Countries AS target\n",
        "JOIN v_bronze_Countries AS source\n",
        "    ON target.CountryID = source.CountryID\n",
        "WHERE target.is_active = true\n",
        "    AND (\n",
        "        target.CountryName <> source.CountryName\n",
        "        OR target.FormalName <> source.FormalName\n",
        "        OR target.IsoAlpha3Code <> source.IsoAlpha3Code\n",
        "        OR target.IsoNumericCode <> source.IsoNumericCode\n",
        "        OR target.CountryType <> source.CountryType\n",
        "        OR target.LatestRecordedPopulation <> source.LatestRecordedPopulation\n",
        "        OR target.Continent <> source.Continent\n",
        "        OR target.Region <> source.Region\n",
        "        OR target.Subregion <> source.Subregion\n",
        "        OR target.Border <> source.Border\n",
        "        OR target.last_updated <> source.last_updated\n",
        "    );\n"
      ],
      "outputs": [],
      "execution_count": null,
      "metadata": {
        "microsoft": {
          "language": "sparksql"
        }
      }
    },
    {
      "cell_type": "code",
      "source": [
        "%%sql\n",
        "-- SCD Type 2: Drop old rows after update (which have is_active = 1)\n",
        "INSERT OVERWRITE silver.Countries\n",
        "SELECT *\n",
        "FROM silver.Countries AS target\n",
        "WHERE NOT EXISTS (\n",
        "    SELECT 1\n",
        "    FROM v_bronze_Countries AS source\n",
        "    WHERE target.CountryID = source.CountryID\n",
        "    AND target.is_active = true\n",
        "    AND (\n",
        "        target.CountryName <> source.CountryName\n",
        "        OR target.FormalName <> source.FormalName\n",
        "        OR target.IsoAlpha3Code <> source.IsoAlpha3Code\n",
        "        OR target.IsoNumericCode <> source.IsoNumericCode\n",
        "        OR target.CountryType <> source.CountryType\n",
        "        OR target.LatestRecordedPopulation <> source.LatestRecordedPopulation\n",
        "        OR target.Continent <> source.Continent\n",
        "        OR target.Region <> source.Region\n",
        "        OR target.Subregion <> source.Subregion\n",
        "        OR target.Border <> source.Border\n",
        "        OR target.last_updated <> source.last_updated\n",
        "    )\n",
        ");"
      ],
      "outputs": [],
      "execution_count": null,
      "metadata": {
        "microsoft": {
          "language": "sparksql"
        }
      }
    },
    {
      "cell_type": "code",
      "source": [
        "%%sql\n",
        "-- SCD Type 2: Insert new rows (new records)\n",
        "WITH max_key AS (  \n",
        "    SELECT COALESCE(MAX(CountryKey), 0) AS max_id FROM silver.Countries  \n",
        "),  \n",
        "new_data AS (  \n",
        "    SELECT  \n",
        "        source.CountryID,  \n",
        "        source.CountryName,  \n",
        "        source.FormalName,  \n",
        "        source.IsoAlpha3Code,  \n",
        "        source.IsoNumericCode,  \n",
        "        source.CountryType,  \n",
        "        source.LatestRecordedPopulation,  \n",
        "        source.Continent,  \n",
        "        source.Region,  \n",
        "        source.Subregion,  \n",
        "        source.Border,  \n",
        "        source.last_updated,  \n",
        "        FROM_UTC_TIMESTAMP(current_timestamp(), 'Asia/Ho_Chi_Minh') AS start_date,  \n",
        "        NULL AS end_date,  \n",
        "        true AS is_active,  \n",
        "        ROW_NUMBER() OVER (ORDER BY source.CountryID) AS rn  \n",
        "    FROM v_bronze_Countries AS source  \n",
        "    LEFT JOIN silver.Countries AS target  \n",
        "        ON source.CountryID = target.CountryID  \n",
        "        AND target.is_active = true  \n",
        "    WHERE target.CountryID IS NULL  \n",
        "       OR target.CountryName <> source.CountryName  \n",
        "       OR target.FormalName <> source.FormalName  \n",
        "       OR target.IsoAlpha3Code <> source.IsoAlpha3Code  \n",
        "       OR target.IsoNumericCode <> source.IsoNumericCode  \n",
        "       OR target.CountryType <> source.CountryType  \n",
        "       OR target.LatestRecordedPopulation <> source.LatestRecordedPopulation  \n",
        "       OR target.Continent <> source.Continent  \n",
        "       OR target.Region <> source.Region  \n",
        "       OR target.Subregion <> source.Subregion  \n",
        "       OR target.Border <> source.Border  \n",
        "       OR target.last_updated <> source.last_updated  \n",
        ")  \n",
        "INSERT INTO silver.Countries  \n",
        "SELECT  \n",
        "    max_key.max_id + new_data.rn AS CountryKey,  \n",
        "    new_data.CountryID,  \n",
        "    new_data.CountryName,  \n",
        "    new_data.FormalName,  \n",
        "    new_data.IsoAlpha3Code,  \n",
        "    new_data.IsoNumericCode,  \n",
        "    new_data.CountryType,  \n",
        "    new_data.LatestRecordedPopulation,  \n",
        "    new_data.Continent,  \n",
        "    new_data.Region,  \n",
        "    new_data.Subregion,  \n",
        "    new_data.Border,  \n",
        "    new_data.last_updated,  \n",
        "    new_data.start_date,  \n",
        "    new_data.end_date,  \n",
        "    new_data.is_active  \n",
        "FROM new_data  \n",
        "CROSS JOIN max_key;"
      ],
      "outputs": [],
      "execution_count": null,
      "metadata": {
        "microsoft": {
          "language": "sparksql"
        }
      }
    },
    {
      "cell_type": "code",
      "source": [
        "# Write to a Parquet file in the Silver layer of the storage account\n",
        "df_Countries = spark.sql(\"SELECT * FROM silver.Countries\")\n",
        "df_Countries.repartition(1).write.mode(\"overwrite\").parquet(\"abfss://final@bibik224161840.dfs.core.windows.net/silver/silver.Countries.parquet\")"
      ],
      "outputs": [],
      "execution_count": null,
      "metadata": {}
    },
    {
      "cell_type": "markdown",
      "source": [
        "# 4. DeliveryMethods"
      ],
      "metadata": {
        "nteract": {
          "transient": {
            "deleting": false
          }
        }
      }
    },
    {
      "cell_type": "code",
      "source": [
        "# Read parquet file in bronze\n",
        "df = spark.read.load(path='abfss://final@bibik224161840.dfs.core.windows.net/bronze/Application.DeliveryMethods.parquet',format='parquet')\n",
        "\n",
        "# Add surrogate key column\n",
        "from pyspark.sql.window import Window\n",
        "from pyspark.sql.functions import row_number\n",
        "\n",
        "window_spec = Window.orderBy(\"DeliveryMethodID\")  \n",
        "df = df.withColumn(\"DeliveryMethodKey\", row_number().over(window_spec))\n",
        "\n",
        "df = df.select(\"DeliveryMethodKey\", *[col for col in df.columns if col != \"DeliveryMethodKey\"])\n",
        "\n",
        "# Create a temporary view from the bronze Parquet data (df) as the source\n",
        "df.createOrReplaceTempView(\"v_bronze_DeliveryMethods\")"
      ],
      "outputs": [],
      "execution_count": null,
      "metadata": {}
    },
    {
      "cell_type": "code",
      "source": [
        "%%sql\n",
        "--Create table in Lake Database\n",
        "USE silver;\n",
        "CREATE TABLE IF NOT EXISTS silver.DeliveryMethods (\n",
        "    DeliveryMethodKey INT, -- Surrogate Key (Auto Increment)\n",
        "    DeliveryMethodID INT,\n",
        "    DeliveryMethodName STRING,\n",
        "    last_updated TIMESTAMP,\n",
        "    start_date TIMESTAMP,\n",
        "    end_date TIMESTAMP,\n",
        "    is_active BOOLEAN\n",
        ");"
      ],
      "outputs": [],
      "execution_count": null,
      "metadata": {
        "microsoft": {
          "language": "sparksql"
        }
      }
    },
    {
      "cell_type": "code",
      "source": [
        "%%sql\n",
        "-- SCD type 2: Insert the updated rows (setting is_active = 0 and end_date for historical rows)\n",
        "INSERT INTO silver.DeliveryMethods\n",
        "SELECT \n",
        "    target.DeliveryMethodKey,\n",
        "    target.DeliveryMethodID,\n",
        "    target.DeliveryMethodName,\n",
        "    target.last_updated,\n",
        "    target.start_date, \n",
        "    FROM_UTC_TIMESTAMP(current_timestamp(), 'Asia/Ho_Chi_Minh') AS end_date, -- Expiration date\n",
        "    false AS is_active\n",
        "FROM silver.DeliveryMethods AS target\n",
        "JOIN v_bronze_DeliveryMethods AS source \n",
        "    ON target.DeliveryMethodID = source.DeliveryMethodID\n",
        "WHERE target.is_active = true  -- Only update active rows\n",
        "    AND (\n",
        "        target.DeliveryMethodName <> source.DeliveryMethodName -- Name has changed\n",
        "        OR target.last_updated <> source.last_updated -- Update timestamp has changed\n",
        "    );"
      ],
      "outputs": [],
      "execution_count": null,
      "metadata": {
        "microsoft": {
          "language": "sparksql"
        }
      }
    },
    {
      "cell_type": "code",
      "source": [
        "%%sql\n",
        "-- SCD Type 2: Drop old rows after update (which have is_active = 1)\n",
        "INSERT OVERWRITE silver.DeliveryMethods\n",
        "SELECT * \n",
        "FROM silver.DeliveryMethods AS target\n",
        "WHERE NOT EXISTS (\n",
        "    SELECT 1 \n",
        "    FROM v_bronze_DeliveryMethods AS source \n",
        "    WHERE target.DeliveryMethodID = source.DeliveryMethodID\n",
        "    AND target.is_active = true\n",
        "    AND (\n",
        "        target.DeliveryMethodName <> source.DeliveryMethodName\n",
        "        OR target.last_updated <> source.last_updated\n",
        "    )\n",
        ");"
      ],
      "outputs": [],
      "execution_count": null,
      "metadata": {
        "microsoft": {
          "language": "sparksql"
        }
      }
    },
    {
      "cell_type": "code",
      "source": [
        "%%sql\n",
        "-- SCD Type 2: Insert new rows (new records)  \n",
        "WITH max_key AS (  \n",
        "    --Retrieve the maximum existing DeliveryMethodKey in the Silver table  \n",
        "    SELECT COALESCE(MAX(DeliveryMethodKey), 0) AS max_id FROM silver.DeliveryMethods  \n",
        "),  \n",
        "new_data AS (  \n",
        "    --Create a list of new records to be inserted into the Silver table  \n",
        "    SELECT   \n",
        "        source.DeliveryMethodID,  \n",
        "        source.DeliveryMethodName,  \n",
        "        source.last_updated,  \n",
        "        FROM_UTC_TIMESTAMP(current_timestamp(), 'Asia/Ho_Chi_Minh') AS start_date, -- Start date of validity  \n",
        "        NULL AS end_date,  -- NULL value for end_date  \n",
        "        true AS is_active,  -- Mark the new record as active  \n",
        "        ROW_NUMBER() OVER (ORDER BY source.DeliveryMethodID) AS rn -- Assign row numbers to new records rn\n",
        "    FROM v_bronze_DeliveryMethods AS source  \n",
        "    LEFT JOIN silver.DeliveryMethods AS target   \n",
        "        ON source.DeliveryMethodID = target.DeliveryMethodID  \n",
        "        AND target.is_active = true  -- Compare only with currently active records  \n",
        "    WHERE target.DeliveryMethodID IS NULL  -- New records that do not exist in the Silver table  \n",
        "       OR target.DeliveryMethodName <> source.DeliveryMethodName  -- Name has changed  \n",
        "       OR target.last_updated <> source.last_updated  -- Last updated timestamp has changed  \n",
        ")  \n",
        "-- Insert new data into the Silver table  \n",
        "INSERT INTO silver.DeliveryMethods  \n",
        "SELECT   \n",
        "    max_key.max_id + new_data.rn AS DeliveryMethodKey, -- New surrogate key\n",
        "    new_data.DeliveryMethodID,  \n",
        "    new_data.DeliveryMethodName,  \n",
        "    new_data.last_updated,  \n",
        "    new_data.start_date,  \n",
        "    new_data.end_date,  \n",
        "    new_data.is_active  \n",
        "FROM new_data  \n",
        "CROSS JOIN max_key;  \n"
      ],
      "outputs": [],
      "execution_count": null,
      "metadata": {
        "microsoft": {
          "language": "sparksql"
        }
      }
    },
    {
      "cell_type": "code",
      "source": [
        "# Write to a Parquet file in the Silver layer of the storage account\n",
        "df_DeliveryMethods = spark.sql(\"SELECT * FROM silver.DeliveryMethods\")\n",
        "df_DeliveryMethods.repartition(1).write.mode(\"overwrite\").parquet(\"abfss://final@bibik224161840.dfs.core.windows.net/silver/silver.DeliveryMethods.parquet\")"
      ],
      "outputs": [],
      "execution_count": null,
      "metadata": {}
    },
    {
      "cell_type": "markdown",
      "source": [
        "# 5. PaymentMethods"
      ],
      "metadata": {
        "nteract": {
          "transient": {
            "deleting": false
          }
        }
      }
    },
    {
      "cell_type": "code",
      "source": [
        "# Read parquet file in bronze\n",
        "df = spark.read.load(path='abfss://final@bibik224161840.dfs.core.windows.net/bronze/Application.PaymentMethods.parquet',format='parquet')\n",
        "\n",
        "# Add surrogate key column\n",
        "from pyspark.sql.window import Window\n",
        "from pyspark.sql.functions import row_number\n",
        "\n",
        "window_spec = Window.orderBy(\"PaymentMethodID\")  \n",
        "df = df.withColumn(\"PaymentMethodKey\", row_number().over(window_spec))\n",
        "\n",
        "df = df.select(\"PaymentMethodKey\", *[col for col in df.columns if col != \"PaymentMethodKey\"])\n",
        "\n",
        "# Create a temporary view from the bronze Parquet data (df) as the source\n",
        "df.createOrReplaceTempView(\"v_bronze_PaymentMethods\")"
      ],
      "outputs": [],
      "execution_count": null,
      "metadata": {}
    },
    {
      "cell_type": "code",
      "source": [
        "%%sql\n",
        "--Create table in Lake Database\n",
        "USE silver;\n",
        "CREATE TABLE IF NOT EXISTS silver.PaymentMethods (\n",
        "    PaymentMethodKey INT, -- Surrogate Key (Auto Increment)\n",
        "    PaymentMethodID INT,\n",
        "    PaymentMethodName STRING,\n",
        "    last_updated TIMESTAMP,\n",
        "    start_date TIMESTAMP,\n",
        "    end_date TIMESTAMP,\n",
        "    is_active BOOLEAN\n",
        ");"
      ],
      "outputs": [],
      "execution_count": null,
      "metadata": {
        "microsoft": {
          "language": "sparksql"
        }
      }
    },
    {
      "cell_type": "code",
      "source": [
        "%%sql\n",
        "-- SCD type 2: Insert the updated rows (setting is_active = 0 and end_date for historical rows)\n",
        "INSERT INTO silver.PaymentMethods\n",
        "SELECT \n",
        "    target.PaymentMethodKey,\n",
        "    target.PaymentMethodID,\n",
        "    target.PaymentMethodName,\n",
        "    target.last_updated,\n",
        "    target.start_date, \n",
        "    FROM_UTC_TIMESTAMP(current_timestamp(), 'Asia/Ho_Chi_Minh') AS end_date, -- Expiration date\n",
        "    false AS is_active\n",
        "FROM silver.PaymentMethods AS target\n",
        "JOIN v_bronze_PaymentMethods AS source \n",
        "    ON target.PaymentMethodID = source.PaymentMethodID\n",
        "WHERE target.is_active = true  -- Only update active rows\n",
        "    AND (\n",
        "        target.PaymentMethodName <> source.PaymentMethodName -- Name has changed\n",
        "        OR target.last_updated <> source.last_updated -- Update timestamp has changed\n",
        "    );"
      ],
      "outputs": [],
      "execution_count": null,
      "metadata": {
        "microsoft": {
          "language": "sparksql"
        }
      }
    },
    {
      "cell_type": "code",
      "source": [
        "%%sql\n",
        "-- SCD Type 2: Drop old rows after update (which have is_active = 1)\n",
        "INSERT OVERWRITE silver.PaymentMethods\n",
        "SELECT * \n",
        "FROM silver.PaymentMethods AS target\n",
        "WHERE NOT EXISTS (\n",
        "    SELECT 1 \n",
        "    FROM v_bronze_PaymentMethods AS source \n",
        "    WHERE target.PaymentMethodID = source.PaymentMethodID\n",
        "    AND target.is_active = true\n",
        "    AND (\n",
        "        target.PaymentMethodName <> source.PaymentMethodName\n",
        "        OR target.last_updated <> source.last_updated\n",
        "    )\n",
        ");"
      ],
      "outputs": [],
      "execution_count": null,
      "metadata": {
        "microsoft": {
          "language": "sparksql"
        }
      }
    },
    {
      "cell_type": "code",
      "source": [
        "%%sql\n",
        "-- SCD Type 2: Insert new rows (new records)  \n",
        "WITH max_key AS (  \n",
        "    --Retrieve the maximum existing PaymentMethodKey in the Silver table  \n",
        "    SELECT COALESCE(MAX(PaymentMethodKey), 0) AS max_id FROM silver.PaymentMethods  \n",
        "),  \n",
        "new_data AS (  \n",
        "    --Create a list of new records to be inserted into the Silver table  \n",
        "    SELECT   \n",
        "        source.PaymentMethodID,  \n",
        "        source.PaymentMethodName,  \n",
        "        source.last_updated,  \n",
        "        FROM_UTC_TIMESTAMP(current_timestamp(), 'Asia/Ho_Chi_Minh') AS start_date, -- Start date of validity  \n",
        "        NULL AS end_date,  -- NULL value for end_date  \n",
        "        true AS is_active,  -- Mark the new record as active  \n",
        "        ROW_NUMBER() OVER (ORDER BY source.PaymentMethodID) AS rn -- Assign row numbers to new records rn\n",
        "    FROM v_bronze_PaymentMethods AS source  \n",
        "    LEFT JOIN silver.PaymentMethods AS target   \n",
        "        ON source.PaymentMethodID = target.PaymentMethodID  \n",
        "        AND target.is_active = true  -- Compare only with currently active records  \n",
        "    WHERE target.PaymentMethodID IS NULL  -- New records that do not exist in the Silver table  \n",
        "       OR target.PaymentMethodName <> source.PaymentMethodName  -- Name has changed  \n",
        "       OR target.last_updated <> source.last_updated  -- Last updated timestamp has changed  \n",
        ")  \n",
        "-- Insert new data into the Silver table  \n",
        "INSERT INTO silver.PaymentMethods  \n",
        "SELECT   \n",
        "    max_key.max_id + new_data.rn AS PaymentMethodKey, -- New surrogate key\n",
        "    new_data.PaymentMethodID,  \n",
        "    new_data.PaymentMethodName,  \n",
        "    new_data.last_updated,  \n",
        "    new_data.start_date,  \n",
        "    new_data.end_date,  \n",
        "    new_data.is_active  \n",
        "FROM new_data  \n",
        "CROSS JOIN max_key;  \n"
      ],
      "outputs": [],
      "execution_count": null,
      "metadata": {
        "microsoft": {
          "language": "sparksql"
        }
      }
    },
    {
      "cell_type": "code",
      "source": [
        "# Write to a Parquet file in the Silver layer of the storage account\n",
        "df_PaymentMethods = spark.sql(\"SELECT * FROM silver.PaymentMethods\")\n",
        "df_PaymentMethods.repartition(1).write.mode(\"overwrite\").parquet(\"abfss://final@bibik224161840.dfs.core.windows.net/silver/silver.PaymentMethods.parquet\")"
      ],
      "outputs": [],
      "execution_count": null,
      "metadata": {}
    },
    {
      "cell_type": "markdown",
      "source": [
        "# 6. StockItems"
      ],
      "metadata": {
        "nteract": {
          "transient": {
            "deleting": false
          }
        }
      }
    },
    {
      "cell_type": "code",
      "source": [
        "# Read parquet file in bronze\n",
        "df = spark.read.load(path='abfss://final@bibik224161840.dfs.core.windows.net/bronze/Warehouse.StockItems.parquet', format='parquet')\n",
        "\n",
        "# Add surrogate key column\n",
        "from pyspark.sql.window import Window\n",
        "from pyspark.sql.functions import row_number\n",
        "\n",
        "window_spec = Window.orderBy(\"StockItemID\")\n",
        "df = df.withColumn(\"StockItemKey\", row_number().over(window_spec))\n",
        "\n",
        "df = df.select(\"StockItemKey\", *[col for col in df.columns if col != \"StockItemKey\"])\n",
        "\n",
        "# Create a temporary view from the bronze Parquet data (df) as the source\n",
        "df.createOrReplaceTempView(\"v_bronze_StockItems\")\n"
      ],
      "outputs": [],
      "execution_count": null,
      "metadata": {}
    },
    {
      "cell_type": "code",
      "source": [
        "%%sql\n",
        "-- Create table in Lake Database\n",
        "USE silver;\n",
        "CREATE TABLE IF NOT EXISTS silver.StockItems (\n",
        "    StockItemKey INT, -- Surrogate Key\n",
        "    StockItemID INT,\n",
        "    StockItemName STRING,\n",
        "    SupplierID INT,\n",
        "    ColorID INT,\n",
        "    UnitPackageID INT,\n",
        "    OuterPackageID INT,\n",
        "    Brand STRING,\n",
        "    Size STRING,\n",
        "    LeadTimeDays INT,\n",
        "    QuantityPerOuter INT,\n",
        "    IsChillerStock BOOLEAN,\n",
        "    Barcode STRING,\n",
        "    TaxRate DECIMAL(18,3),\n",
        "    UnitPrice DECIMAL(18,2),\n",
        "    RecommendedRetailPrice DECIMAL(18,2),\n",
        "    TypicalWeightPerUnit DECIMAL(18,3),\n",
        "    MarketingComments STRING,\n",
        "    InternalComments STRING,\n",
        "    Photo BINARY,\n",
        "    CustomFields STRING,\n",
        "    Tags STRING,\n",
        "    SearchDetails STRING,\n",
        "    last_updated TIMESTAMP,\n",
        "    start_date TIMESTAMP,\n",
        "    end_date TIMESTAMP,\n",
        "    is_active BOOLEAN\n",
        ");\n",
        "\n"
      ],
      "outputs": [],
      "execution_count": null,
      "metadata": {
        "microsoft": {
          "language": "sparksql"
        }
      }
    },
    {
      "cell_type": "code",
      "source": [
        "%%sql\n",
        "-- SCD Type 2: Insert the updated rows (setting is_active = 0 and end_date for historical rows)\n",
        "INSERT INTO silver.StockItems\n",
        "SELECT\n",
        "    target.StockItemKey,\n",
        "    target.StockItemID,\n",
        "    target.StockItemName,\n",
        "    target.SupplierID,\n",
        "    target.ColorID,\n",
        "    target.UnitPackageID,\n",
        "    target.OuterPackageID,\n",
        "    target.Brand,\n",
        "    target.Size,\n",
        "    target.LeadTimeDays,\n",
        "    target.QuantityPerOuter,\n",
        "    target.IsChillerStock,\n",
        "    target.Barcode,\n",
        "    target.TaxRate,\n",
        "    target.UnitPrice,\n",
        "    target.RecommendedRetailPrice,\n",
        "    target.TypicalWeightPerUnit,\n",
        "    target.MarketingComments,\n",
        "    target.InternalComments,\n",
        "    target.Photo,\n",
        "    target.CustomFields,\n",
        "    target.Tags,\n",
        "    target.SearchDetails,\n",
        "    target.last_updated,\n",
        "    target.start_date,\n",
        "    FROM_UTC_TIMESTAMP(current_timestamp(), 'Asia/Ho_Chi_Minh') AS end_date, -- Expiration date\n",
        "    false AS is_active\n",
        "FROM silver.StockItems AS target\n",
        "JOIN v_bronze_StockItems AS source\n",
        "    ON target.StockItemID = source.StockItemID\n",
        "WHERE target.is_active = true\n",
        "    AND (\n",
        "        target.StockItemName <> source.StockItemName\n",
        "        OR target.SupplierID <> source.SupplierID\n",
        "        OR target.ColorID <> source.ColorID\n",
        "        OR target.UnitPackageID <> source.UnitPackageID\n",
        "        OR target.OuterPackageID <> source.OuterPackageID\n",
        "        OR target.Brand <> source.Brand\n",
        "        OR target.Size <> source.Size\n",
        "        OR target.LeadTimeDays <> source.LeadTimeDays\n",
        "        OR target.QuantityPerOuter <> source.QuantityPerOuter\n",
        "        OR target.IsChillerStock <> source.IsChillerStock\n",
        "        OR target.Barcode <> source.Barcode\n",
        "        OR target.TaxRate <> source.TaxRate\n",
        "        OR target.UnitPrice <> source.UnitPrice\n",
        "        OR target.RecommendedRetailPrice <> source.RecommendedRetailPrice\n",
        "        OR target.TypicalWeightPerUnit <> source.TypicalWeightPerUnit\n",
        "        OR target.MarketingComments <> source.MarketingComments\n",
        "        OR target.InternalComments <> source.InternalComments\n",
        "        OR target.Photo <> source.Photo\n",
        "        OR target.CustomFields <> source.CustomFields\n",
        "        OR target.Tags <> source.Tags\n",
        "        OR target.SearchDetails <> source.SearchDetails\n",
        "        OR target.last_updated <> source.last_updated\n",
        "    );\n"
      ],
      "outputs": [],
      "execution_count": null,
      "metadata": {
        "microsoft": {
          "language": "sparksql"
        }
      }
    },
    {
      "cell_type": "code",
      "source": [
        "%%sql\n",
        "-- SCD Type 2: Drop old rows after update (which have is_active = 1)\n",
        "INSERT OVERWRITE silver.StockItems\n",
        "SELECT *\n",
        "FROM silver.StockItems AS target\n",
        "WHERE NOT EXISTS (\n",
        "    SELECT 1\n",
        "    FROM v_bronze_StockItems AS source\n",
        "    WHERE target.StockItemID = source.StockItemID\n",
        "    AND target.is_active = true\n",
        "    AND (\n",
        "        target.StockItemName <> source.StockItemName\n",
        "        OR target.SupplierID <> source.SupplierID\n",
        "        OR target.ColorID <> source.ColorID\n",
        "        OR target.UnitPackageID <> source.UnitPackageID\n",
        "        OR target.OuterPackageID <> source.OuterPackageID\n",
        "        OR target.Brand <> source.Brand\n",
        "        OR target.Size <> source.Size\n",
        "        OR target.LeadTimeDays <> source.LeadTimeDays\n",
        "        OR target.QuantityPerOuter <> source.QuantityPerOuter\n",
        "        OR target.IsChillerStock <> source.IsChillerStock\n",
        "        OR target.Barcode <> source.Barcode\n",
        "        OR target.TaxRate <> source.TaxRate\n",
        "        OR target.UnitPrice <> source.UnitPrice\n",
        "        OR target.RecommendedRetailPrice <> source.RecommendedRetailPrice\n",
        "        OR target.TypicalWeightPerUnit <> source.TypicalWeightPerUnit\n",
        "        OR target.MarketingComments <> source.MarketingComments\n",
        "        OR target.InternalComments <> source.InternalComments\n",
        "        OR target.Photo <> source.Photo\n",
        "        OR target.CustomFields <> source.CustomFields\n",
        "        OR target.Tags <> source.Tags\n",
        "        OR target.SearchDetails <> source.SearchDetails\n",
        "        OR target.last_updated <> source.last_updated\n",
        "    )\n",
        ");"
      ],
      "outputs": [],
      "execution_count": null,
      "metadata": {
        "microsoft": {
          "language": "sparksql"
        }
      }
    },
    {
      "cell_type": "code",
      "source": [
        "%%sql\n",
        "-- SCD Type 2: Insert new rows (new records)\n",
        "WITH max_key AS (  \n",
        "    -- Retrieve the maximum existing StockItemKey in the Silver table  \n",
        "    SELECT COALESCE(MAX(StockItemKey), 0) AS max_id FROM silver.StockItems  \n",
        "),  \n",
        "new_data AS (  \n",
        "    -- Create a list of new records to be inserted into the Silver table  \n",
        "    SELECT  \n",
        "        source.StockItemID,  \n",
        "        source.StockItemName,  \n",
        "        source.SupplierID,  \n",
        "        source.ColorID,  \n",
        "        source.UnitPackageID,  \n",
        "        source.OuterPackageID,  \n",
        "        source.Brand,  \n",
        "        source.Size,  \n",
        "        source.LeadTimeDays,  \n",
        "        source.QuantityPerOuter,  \n",
        "        source.IsChillerStock,  \n",
        "        source.Barcode,  \n",
        "        source.TaxRate,  \n",
        "        source.UnitPrice,  \n",
        "        source.RecommendedRetailPrice,  \n",
        "        source.TypicalWeightPerUnit,  \n",
        "        source.MarketingComments,  \n",
        "        source.InternalComments,  \n",
        "        source.Photo,  \n",
        "        source.CustomFields,  \n",
        "        source.Tags,  \n",
        "        source.SearchDetails,  \n",
        "        source.last_updated,  \n",
        "        FROM_UTC_TIMESTAMP(current_timestamp(), 'Asia/Ho_Chi_Minh') AS start_date,  \n",
        "        NULL AS end_date,  \n",
        "        true AS is_active,  \n",
        "        ROW_NUMBER() OVER (ORDER BY source.StockItemID) AS rn  -- Assign row numbers to new records\n",
        "    FROM v_bronze_StockItems AS source  \n",
        "    LEFT JOIN silver.StockItems AS target  \n",
        "        ON source.StockItemID = target.StockItemID  \n",
        "        AND target.is_active = true  -- Compare only with currently active records  \n",
        "    WHERE target.StockItemID IS NULL  -- New records that do not exist in the Silver table  \n",
        "       OR target.StockItemName <> source.StockItemName  \n",
        "       OR target.SupplierID <> source.SupplierID  \n",
        "       OR target.ColorID <> source.ColorID  \n",
        "       OR target.UnitPackageID <> source.UnitPackageID  \n",
        "       OR target.OuterPackageID <> source.OuterPackageID  \n",
        "       OR target.Brand <> source.Brand  \n",
        "       OR target.Size <> source.Size  \n",
        "       OR target.LeadTimeDays <> source.LeadTimeDays  \n",
        "       OR target.QuantityPerOuter <> source.QuantityPerOuter  \n",
        "       OR target.IsChillerStock <> source.IsChillerStock  \n",
        "       OR target.Barcode <> source.Barcode  \n",
        "       OR target.TaxRate <> source.TaxRate  \n",
        "       OR target.UnitPrice <> source.UnitPrice  \n",
        "       OR target.RecommendedRetailPrice <> source.RecommendedRetailPrice  \n",
        "       OR target.TypicalWeightPerUnit <> source.TypicalWeightPerUnit  \n",
        "       OR target.MarketingComments <> source.MarketingComments  \n",
        "       OR target.InternalComments <> source.InternalComments  \n",
        "       OR target.Photo <> source.Photo  \n",
        "       OR target.CustomFields <> source.CustomFields  \n",
        "       OR target.Tags <> source.Tags  \n",
        "       OR target.SearchDetails <> source.SearchDetails  \n",
        "       OR target.last_updated <> source.last_updated  \n",
        ")  \n",
        "-- Insert new data into the Silver table  \n",
        "INSERT INTO silver.StockItems  \n",
        "SELECT  \n",
        "    max_key.max_id + new_data.rn AS StockItemKey, -- New surrogate key  \n",
        "    new_data.StockItemID,  \n",
        "    new_data.StockItemName,  \n",
        "    new_data.SupplierID,  \n",
        "    new_data.ColorID,  \n",
        "    new_data.UnitPackageID,  \n",
        "    new_data.OuterPackageID,  \n",
        "    new_data.Brand,  \n",
        "    new_data.Size,  \n",
        "    new_data.LeadTimeDays,  \n",
        "    new_data.QuantityPerOuter,  \n",
        "    new_data.IsChillerStock,  \n",
        "    new_data.Barcode,  \n",
        "    new_data.TaxRate,  \n",
        "    new_data.UnitPrice,  \n",
        "    new_data.RecommendedRetailPrice,  \n",
        "    new_data.TypicalWeightPerUnit,  \n",
        "    new_data.MarketingComments,  \n",
        "    new_data.InternalComments,  \n",
        "    new_data.Photo,  \n",
        "    new_data.CustomFields,  \n",
        "    new_data.Tags,  \n",
        "    new_data.SearchDetails,  \n",
        "    new_data.last_updated,  \n",
        "    new_data.start_date,  \n",
        "    new_data.end_date,  \n",
        "    new_data.is_active  \n",
        "FROM new_data  \n",
        "CROSS JOIN max_key;\n"
      ],
      "outputs": [],
      "execution_count": null,
      "metadata": {
        "microsoft": {
          "language": "sparksql"
        }
      }
    },
    {
      "cell_type": "code",
      "source": [
        "# Write to a Parquet file in the Silver layer of the storage account\n",
        "df_StockItems = spark.sql(\"SELECT * FROM silver.StockItems\")\n",
        "df_StockItems.repartition(1).write.mode(\"overwrite\").parquet(\"abfss://final@bibik224161840.dfs.core.windows.net/silver/silver.StockItems.parquet\")"
      ],
      "outputs": [],
      "execution_count": null,
      "metadata": {}
    },
    {
      "cell_type": "markdown",
      "source": [
        "# 7. StockGroups"
      ],
      "metadata": {
        "nteract": {
          "transient": {
            "deleting": false
          }
        }
      }
    },
    {
      "cell_type": "code",
      "source": [
        "# Read parquet file in bronze\n",
        "df = spark.read.load(path='abfss://final@bibik224161840.dfs.core.windows.net/bronze/Warehouse.StockGroups.parquet', format='parquet')\n",
        "\n",
        "# Add surrogate key column\n",
        "from pyspark.sql.window import Window\n",
        "from pyspark.sql.functions import row_number\n",
        "\n",
        "window_spec = Window.orderBy(\"StockGroupID\")\n",
        "df = df.withColumn(\"StockGroupKey\", row_number().over(window_spec))\n",
        "\n",
        "df = df.select(\"StockGroupKey\", *[col for col in df.columns if col != \"StockGroupKey\"])\n",
        "\n",
        "# Create a temporary view from the bronze Parquet data (df) as the source\n",
        "df.createOrReplaceTempView(\"v_bronze_StockGroups\")"
      ],
      "outputs": [],
      "execution_count": null,
      "metadata": {}
    },
    {
      "cell_type": "code",
      "source": [
        "%%sql\n",
        "-- Create table in Lake Database\n",
        "USE silver;\n",
        "CREATE TABLE IF NOT EXISTS silver.StockGroups (\n",
        "    StockGroupKey INT, -- Surrogate Key\n",
        "    StockGroupID INT,\n",
        "    StockGroupName STRING,\n",
        "    last_updated TIMESTAMP,\n",
        "    start_date TIMESTAMP,\n",
        "    end_date TIMESTAMP,\n",
        "    is_active BOOLEAN\n",
        ");\n"
      ],
      "outputs": [],
      "execution_count": null,
      "metadata": {
        "microsoft": {
          "language": "sparksql"
        }
      }
    },
    {
      "cell_type": "code",
      "source": [
        "%%sql\n",
        "-- SCD Type 2: Insert the updated rows (setting is_active = 0 and end_date for historical rows)\n",
        "INSERT INTO silver.StockGroups\n",
        "SELECT\n",
        "    target.StockGroupKey,\n",
        "    target.StockGroupID,\n",
        "    target.StockGroupName,\n",
        "    target.last_updated,\n",
        "    target.start_date,\n",
        "    FROM_UTC_TIMESTAMP(current_timestamp(), 'Asia/Ho_Chi_Minh') AS end_date, -- Expiration date\n",
        "    false AS is_active\n",
        "FROM silver.StockGroups AS target\n",
        "JOIN v_bronze_StockGroups AS source\n",
        "    ON target.StockGroupID = source.StockGroupID\n",
        "WHERE target.is_active = true\n",
        "    AND (\n",
        "        target.StockGroupName <> source.StockGroupName\n",
        "        OR target.last_updated <> source.last_updated\n",
        "    );\n"
      ],
      "outputs": [],
      "execution_count": null,
      "metadata": {
        "microsoft": {
          "language": "sparksql"
        }
      }
    },
    {
      "cell_type": "code",
      "source": [
        "%%sql\n",
        "-- SCD Type 2: Drop old rows after update (which have is_active = 1)\n",
        "INSERT OVERWRITE silver.StockGroups\n",
        "SELECT *\n",
        "FROM silver.StockGroups AS target\n",
        "WHERE NOT EXISTS (\n",
        "    SELECT 1\n",
        "    FROM v_bronze_StockGroups AS source\n",
        "    WHERE target.StockGroupID = source.StockGroupID\n",
        "    AND target.is_active = true\n",
        "    AND (\n",
        "        target.StockGroupName <> source.StockGroupName\n",
        "        OR target.last_updated <> source.last_updated\n",
        "    )\n",
        ");"
      ],
      "outputs": [],
      "execution_count": null,
      "metadata": {
        "microsoft": {
          "language": "sparksql"
        }
      }
    },
    {
      "cell_type": "code",
      "source": [
        "%%sql\n",
        "-- SCD Type 2: Insert new rows (new records)\n",
        "WITH max_key AS (  \n",
        "    SELECT COALESCE(MAX(StockGroupKey), 0) AS max_id FROM silver.StockGroups  \n",
        "),  \n",
        "new_data AS (  \n",
        "    SELECT  \n",
        "        source.StockGroupID,  \n",
        "        source.StockGroupName,  \n",
        "        source.last_updated,  \n",
        "        FROM_UTC_TIMESTAMP(current_timestamp(), 'Asia/Ho_Chi_Minh') AS start_date,  \n",
        "        NULL AS end_date,  \n",
        "        true AS is_active,  \n",
        "        ROW_NUMBER() OVER (ORDER BY source.StockGroupID) AS rn  \n",
        "    FROM v_bronze_StockGroups AS source  \n",
        "    LEFT JOIN silver.StockGroups AS target  \n",
        "        ON source.StockGroupID = target.StockGroupID  \n",
        "        AND target.is_active = true  \n",
        "    WHERE target.StockGroupID IS NULL  \n",
        "       OR target.StockGroupName <> source.StockGroupName  \n",
        "       OR target.last_updated <> source.last_updated  \n",
        ")  \n",
        "INSERT INTO silver.StockGroups  \n",
        "SELECT  \n",
        "    max_key.max_id + new_data.rn AS StockGroupKey,  \n",
        "    new_data.StockGroupID,  \n",
        "    new_data.StockGroupName,  \n",
        "    new_data.last_updated,  \n",
        "    new_data.start_date,  \n",
        "    new_data.end_date,  \n",
        "    new_data.is_active  \n",
        "FROM new_data  \n",
        "CROSS JOIN max_key;"
      ],
      "outputs": [],
      "execution_count": null,
      "metadata": {
        "microsoft": {
          "language": "sparksql"
        }
      }
    },
    {
      "cell_type": "code",
      "source": [
        "# Write to a Parquet file in the Silver layer of the storage account\n",
        "df_StockGroups = spark.sql(\"SELECT * FROM silver.StockGroups\")\n",
        "df_StockGroups.repartition(1).write.mode(\"overwrite\").parquet(\"abfss://final@bibik224161840.dfs.core.windows.net/silver/silver.StockGroups.parquet\")"
      ],
      "outputs": [],
      "execution_count": null,
      "metadata": {}
    },
    {
      "cell_type": "markdown",
      "source": [
        "# 8. StockItemStockGroups"
      ],
      "metadata": {
        "nteract": {
          "transient": {
            "deleting": false
          }
        }
      }
    },
    {
      "cell_type": "code",
      "source": [
        "# Read parquet file in bronze\n",
        "df = spark.read.load(path='abfss://final@bibik224161840.dfs.core.windows.net/bronze/Warehouse.StockItemStockGroups.parquet', format='parquet')\n",
        "\n",
        "# Add surrogate key column\n",
        "from pyspark.sql.window import Window\n",
        "from pyspark.sql.functions import row_number\n",
        "\n",
        "window_spec = Window.orderBy(\"StockItemStockGroupID\")\n",
        "df = df.withColumn(\"StockItemStockGroupKey\", row_number().over(window_spec))\n",
        "\n",
        "df = df.select(\"StockItemStockGroupKey\", *[col for col in df.columns if col != \"StockItemStockGroupKey\"])\n",
        "\n",
        "# Create a temporary view from the bronze Parquet data (df) as the source\n",
        "df.createOrReplaceTempView(\"v_bronze_StockItemStockGroups\")"
      ],
      "outputs": [],
      "execution_count": null,
      "metadata": {}
    },
    {
      "cell_type": "code",
      "source": [
        "%%sql\n",
        "-- Create table in Lake Database\n",
        "USE silver;\n",
        "CREATE TABLE IF NOT EXISTS silver.StockItemStockGroups (\n",
        "    StockItemStockGroupKey INT, -- Surrogate Key\n",
        "    StockItemStockGroupID INT,\n",
        "    StockItemID STRING,\n",
        "    StockGroupID STRING,\n",
        "    last_updated TIMESTAMP,\n",
        "    start_date TIMESTAMP,\n",
        "    end_date TIMESTAMP,\n",
        "    is_active BOOLEAN\n",
        ");\n"
      ],
      "outputs": [],
      "execution_count": null,
      "metadata": {
        "microsoft": {
          "language": "sparksql"
        }
      }
    },
    {
      "cell_type": "code",
      "source": [
        "%%sql\n",
        "-- SCD Type 2: Insert the updated rows (setting is_active = 0 and end_date for historical rows)\n",
        "INSERT INTO silver.StockItemStockGroups\n",
        "SELECT\n",
        "    target.StockItemStockGroupKey,\n",
        "    target.StockItemStockGroupID,\n",
        "    target.StockItemID,\n",
        "    target.StockGroupID,\n",
        "    target.last_updated,\n",
        "    target.start_date,\n",
        "    FROM_UTC_TIMESTAMP(current_timestamp(), 'Asia/Ho_Chi_Minh') AS end_date, -- Expiration date\n",
        "    false AS is_active\n",
        "FROM silver.StockItemStockGroups AS target\n",
        "JOIN v_bronze_StockItemStockGroups AS source\n",
        "    ON target.StockItemStockGroupID = source.StockItemStockGroupID\n",
        "WHERE target.is_active = true\n",
        "    AND (\n",
        "        target.StockItemID <> source.StockItemID\n",
        "        OR target.StockGroupID <> source.StockGroupID\n",
        "        OR target.last_updated <> source.last_updated\n",
        "    );\n",
        "\n"
      ],
      "outputs": [],
      "execution_count": null,
      "metadata": {
        "microsoft": {
          "language": "sparksql"
        }
      }
    },
    {
      "cell_type": "code",
      "source": [
        "%%sql\n",
        "-- SCD Type 2: Drop old rows after update (which have is_active = 1)\n",
        "INSERT OVERWRITE silver.StockItemStockGroups\n",
        "SELECT *\n",
        "FROM silver.StockItemStockGroups AS target\n",
        "WHERE NOT EXISTS (\n",
        "    SELECT 1\n",
        "    FROM v_bronze_StockItemStockGroups AS source\n",
        "    WHERE target.StockItemStockGroupID = source.StockItemStockGroupID\n",
        "    AND target.is_active = true\n",
        "    AND (\n",
        "        target.StockItemID <> source.StockItemID\n",
        "        OR target.StockGroupID <> source.StockGroupID\n",
        "        OR target.last_updated <> source.last_updated\n",
        "    )\n",
        ");\n"
      ],
      "outputs": [],
      "execution_count": null,
      "metadata": {
        "microsoft": {
          "language": "sparksql"
        }
      }
    },
    {
      "cell_type": "code",
      "source": [
        "%%sql\n",
        "-- SCD Type 2: Insert new rows (new records)\n",
        "WITH max_key AS (  \n",
        "    SELECT COALESCE(MAX(StockItemStockGroupKey), 0) AS max_id FROM silver.StockItemStockGroups  \n",
        "),  \n",
        "new_data AS (  \n",
        "    SELECT  \n",
        "        source.StockItemStockGroupID,  \n",
        "        source.StockItemID,  \n",
        "        source.StockGroupID,  \n",
        "        source.last_updated,  \n",
        "        FROM_UTC_TIMESTAMP(current_timestamp(), 'Asia/Ho_Chi_Minh') AS start_date,  \n",
        "        NULL AS end_date,  \n",
        "        true AS is_active,  \n",
        "        ROW_NUMBER() OVER (ORDER BY source.StockItemStockGroupID) AS rn  \n",
        "    FROM v_bronze_StockItemStockGroups AS source  \n",
        "    LEFT JOIN silver.StockItemStockGroups AS target  \n",
        "        ON source.StockItemStockGroupID = target.StockItemStockGroupID  \n",
        "        AND target.is_active = true  \n",
        "    WHERE target.StockItemStockGroupID IS NULL  \n",
        "       OR target.StockItemID <> source.StockItemID  \n",
        "       OR target.StockGroupID <> source.StockGroupID  \n",
        "       OR target.last_updated <> source.last_updated  \n",
        ")  \n",
        "INSERT INTO silver.StockItemStockGroups  \n",
        "SELECT  \n",
        "    max_key.max_id + new_data.rn AS StockItemStockGroupKey,  \n",
        "    new_data.StockItemStockGroupID,  \n",
        "    new_data.StockItemID,  \n",
        "    new_data.StockGroupID,  \n",
        "    new_data.last_updated,  \n",
        "    new_data.start_date,  \n",
        "    new_data.end_date,  \n",
        "    new_data.is_active  \n",
        "FROM new_data  \n",
        "CROSS JOIN max_key;"
      ],
      "outputs": [],
      "execution_count": null,
      "metadata": {
        "microsoft": {
          "language": "sparksql"
        }
      }
    },
    {
      "cell_type": "code",
      "source": [
        "# Write to a Parquet file in the Silver layer of the storage account\n",
        "df_StockItemStockGroups = spark.sql(\"SELECT * FROM silver.StockItemStockGroups\")\n",
        "df_StockItemStockGroups.repartition(1).write.mode(\"overwrite\").parquet(\"abfss://final@bibik224161840.dfs.core.windows.net/silver/silver.StockItemStockGroups.parquet\")"
      ],
      "outputs": [],
      "execution_count": null,
      "metadata": {}
    },
    {
      "cell_type": "markdown",
      "source": [
        "# 9. Suppliers"
      ],
      "metadata": {
        "nteract": {
          "transient": {
            "deleting": false
          }
        }
      }
    },
    {
      "cell_type": "code",
      "source": [
        "# Read parquet file in bronze\n",
        "df = spark.read.load(path='abfss://final@bibik224161840.dfs.core.windows.net/bronze/Purchasing.Suppliers.parquet', format='parquet')\n",
        "\n",
        "# Add surrogate key column\n",
        "from pyspark.sql.window import Window\n",
        "from pyspark.sql.functions import row_number\n",
        "\n",
        "window_spec = Window.orderBy(\"SupplierID\")\n",
        "df = df.withColumn(\"SupplierKey\", row_number().over(window_spec))\n",
        "\n",
        "df = df.select(\"SupplierKey\", *[col for col in df.columns if col != \"SupplierKey\"])\n",
        "\n",
        "# Create a temporary view from the bronze Parquet data (df) as the source\n",
        "df.createOrReplaceTempView(\"v_bronze_Suppliers\")"
      ],
      "outputs": [],
      "execution_count": null,
      "metadata": {}
    },
    {
      "cell_type": "code",
      "source": [
        "%%sql\n",
        "-- Create table in Lake Database\n",
        "USE silver;\n",
        "CREATE TABLE IF NOT EXISTS silver.Suppliers (\n",
        "    SupplierKey INT, -- Surrogate Key\n",
        "    SupplierID INT,\n",
        "    SupplierName STRING,\n",
        "    SupplierCategoryID INT,\n",
        "    PrimaryContactPersonID INT,\n",
        "    AlternateContactPersonID INT,\n",
        "    DeliveryMethodID INT,\n",
        "    DeliveryCityID INT,\n",
        "    PostalCityID INT,\n",
        "    SupplierReference STRING,\n",
        "    BankAccountName STRING,\n",
        "    BankAccountBranch STRING,\n",
        "    BankAccountCode STRING,\n",
        "    BankAccountNumber STRING,\n",
        "    BankInternationalCode STRING,\n",
        "    PaymentDays INT,\n",
        "    InternalComments STRING,\n",
        "    PhoneNumber STRING,\n",
        "    FaxNumber STRING,\n",
        "    WebsiteURL STRING,\n",
        "    DeliveryAddressLine1 STRING,\n",
        "    DeliveryAddressLine2 STRING,\n",
        "    DeliveryPostalCode STRING,\n",
        "    PostalAddressLine1 STRING,\n",
        "    PostalAddressLine2 STRING,\n",
        "    PostalPostalCode STRING,\n",
        "    last_updated TIMESTAMP,\n",
        "    DeliveryLocation STRING,\n",
        "    start_date TIMESTAMP,\n",
        "    end_date TIMESTAMP,\n",
        "    is_active BOOLEAN\n",
        ");"
      ],
      "outputs": [],
      "execution_count": null,
      "metadata": {
        "microsoft": {
          "language": "sparksql"
        }
      }
    },
    {
      "cell_type": "code",
      "source": [
        "%%sql\n",
        "-- SCD Type 2: Insert the updated rows (setting is_active = 0 and end_date for historical rows)\n",
        "INSERT INTO silver.Suppliers\n",
        "SELECT\n",
        "    target.SupplierKey,\n",
        "    target.SupplierID,\n",
        "    target.SupplierName,\n",
        "    target.SupplierCategoryID,\n",
        "    target.PrimaryContactPersonID,\n",
        "    target.AlternateContactPersonID,\n",
        "    target.DeliveryMethodID,\n",
        "    target.DeliveryCityID,\n",
        "    target.PostalCityID,\n",
        "    target.SupplierReference,\n",
        "    target.BankAccountName,\n",
        "    target.BankAccountBranch,\n",
        "    target.BankAccountCode,\n",
        "    target.BankAccountNumber,\n",
        "    target.BankInternationalCode,\n",
        "    target.PaymentDays,\n",
        "    target.InternalComments,\n",
        "    target.PhoneNumber,\n",
        "    target.FaxNumber,\n",
        "    target.WebsiteURL,\n",
        "    target.DeliveryAddressLine1,\n",
        "    target.DeliveryAddressLine2,\n",
        "    target.DeliveryPostalCode,\n",
        "    target.PostalAddressLine1,\n",
        "    target.PostalAddressLine2,\n",
        "    target.PostalPostalCode,\n",
        "    target.last_updated,\n",
        "    target.DeliveryLocation,\n",
        "    target.start_date,\n",
        "    FROM_UTC_TIMESTAMP(current_timestamp(), 'Asia/Ho_Chi_Minh') AS end_date, -- Expiration date\n",
        "    false AS is_active\n",
        "FROM silver.Suppliers AS target\n",
        "JOIN v_bronze_Suppliers AS source\n",
        "    ON target.SupplierID = source.SupplierID\n",
        "WHERE target.is_active = true\n",
        "    AND (\n",
        "        target.SupplierName <> source.SupplierName\n",
        "        OR target.SupplierCategoryID <> source.SupplierCategoryID\n",
        "        OR target.PrimaryContactPersonID <> source.PrimaryContactPersonID\n",
        "        OR target.AlternateContactPersonID <> source.AlternateContactPersonID\n",
        "        OR target.DeliveryMethodID <> source.DeliveryMethodID\n",
        "        OR target.DeliveryCityID <> source.DeliveryCityID\n",
        "        OR target.PostalCityID <> source.PostalCityID\n",
        "        OR target.SupplierReference <> source.SupplierReference\n",
        "        OR target.BankAccountName <> source.BankAccountName\n",
        "        OR target.BankAccountBranch <> source.BankAccountBranch\n",
        "        OR target.BankAccountCode <> source.BankAccountCode\n",
        "        OR target.BankAccountNumber <> source.BankAccountNumber\n",
        "        OR target.BankInternationalCode <> source.BankInternationalCode\n",
        "        OR target.PaymentDays <> source.PaymentDays\n",
        "        OR target.InternalComments <> source.InternalComments\n",
        "        OR target.PhoneNumber <> source.PhoneNumber\n",
        "        OR target.FaxNumber <> source.FaxNumber\n",
        "        OR target.WebsiteURL <> source.WebsiteURL\n",
        "        OR target.DeliveryAddressLine1 <> source.DeliveryAddressLine1\n",
        "        OR target.DeliveryAddressLine2 <> source.DeliveryAddressLine2\n",
        "        OR target.DeliveryPostalCode <> source.DeliveryPostalCode\n",
        "        OR target.PostalAddressLine1 <> source.PostalAddressLine1\n",
        "        OR target.PostalAddressLine2 <> source.PostalAddressLine2\n",
        "        OR target.PostalPostalCode <> source.PostalPostalCode\n",
        "        OR target.DeliveryLocation <> source.DeliveryLocation\n",
        "        OR target.last_updated <> source.last_updated\n",
        "    );\n",
        "\n"
      ],
      "outputs": [],
      "execution_count": null,
      "metadata": {
        "microsoft": {
          "language": "sparksql"
        }
      }
    },
    {
      "cell_type": "code",
      "source": [
        "%%sql\n",
        "-- SCD Type 2: Drop old rows after update (which have is_active = 1)\n",
        "INSERT OVERWRITE silver.Suppliers\n",
        "SELECT *\n",
        "FROM silver.Suppliers AS target\n",
        "WHERE NOT EXISTS (\n",
        "    SELECT 1\n",
        "    FROM v_bronze_Suppliers AS source\n",
        "    WHERE target.SupplierID = source.SupplierID\n",
        "    AND target.is_active = true\n",
        "    AND (\n",
        "        target.SupplierName <> source.SupplierName\n",
        "        OR target.SupplierCategoryID <> source.SupplierCategoryID\n",
        "        OR target.PrimaryContactPersonID <> source.PrimaryContactPersonID\n",
        "        OR target.AlternateContactPersonID <> source.AlternateContactPersonID\n",
        "        OR target.DeliveryMethodID <> source.DeliveryMethodID\n",
        "        OR target.DeliveryCityID <> source.DeliveryCityID\n",
        "        OR target.PostalCityID <> source.PostalCityID\n",
        "        OR target.SupplierReference <> source.SupplierReference\n",
        "        OR target.BankAccountName <> source.BankAccountName\n",
        "        OR target.BankAccountBranch <> source.BankAccountBranch\n",
        "        OR target.BankAccountCode <> source.BankAccountCode\n",
        "        OR target.BankAccountNumber <> source.BankAccountNumber\n",
        "        OR target.BankInternationalCode <> source.BankInternationalCode\n",
        "        OR target.PaymentDays <> source.PaymentDays\n",
        "        OR target.InternalComments <> source.InternalComments\n",
        "        OR target.PhoneNumber <> source.PhoneNumber\n",
        "        OR target.FaxNumber <> source.FaxNumber\n",
        "        OR target.WebsiteURL <> source.WebsiteURL\n",
        "        OR target.DeliveryAddressLine1 <> source.DeliveryAddressLine1\n",
        "        OR target.DeliveryAddressLine2 <> source.DeliveryAddressLine2\n",
        "        OR target.DeliveryPostalCode <> source.DeliveryPostalCode\n",
        "        OR target.PostalAddressLine1 <> source.PostalAddressLine1\n",
        "        OR target.PostalAddressLine2 <> source.PostalAddressLine2\n",
        "        OR target.PostalPostalCode <> source.PostalPostalCode\n",
        "        OR target.DeliveryLocation <> source.DeliveryLocation\n",
        "        OR target.last_updated <> source.last_updated\n",
        "    )\n",
        ");"
      ],
      "outputs": [],
      "execution_count": null,
      "metadata": {
        "microsoft": {
          "language": "sparksql"
        }
      }
    },
    {
      "cell_type": "code",
      "source": [
        "%%sql\n",
        "-- SCD Type 2: Insert new rows (new records)\n",
        "WITH max_key AS (  \n",
        "    -- Retrieve the maximum existing SupplierKey in the Silver table  \n",
        "    SELECT COALESCE(MAX(SupplierKey), 0) AS max_id FROM silver.Suppliers  \n",
        "),  \n",
        "new_data AS (  \n",
        "    -- Create a list of new records to be inserted into the Silver table  \n",
        "    SELECT  \n",
        "        source.SupplierID,  \n",
        "        source.SupplierName,  \n",
        "        source.SupplierCategoryID,  \n",
        "        source.PrimaryContactPersonID,  \n",
        "        source.AlternateContactPersonID,  \n",
        "        source.DeliveryMethodID,  \n",
        "        source.DeliveryCityID,  \n",
        "        source.PostalCityID,  \n",
        "        source.SupplierReference,  \n",
        "        source.BankAccountName,  \n",
        "        source.BankAccountBranch,  \n",
        "        source.BankAccountCode,  \n",
        "        source.BankAccountNumber,  \n",
        "        source.BankInternationalCode,  \n",
        "        source.PaymentDays,  \n",
        "        source.InternalComments,  \n",
        "        source.PhoneNumber,  \n",
        "        source.FaxNumber,  \n",
        "        source.WebsiteURL,  \n",
        "        source.DeliveryAddressLine1,  \n",
        "        source.DeliveryAddressLine2,  \n",
        "        source.DeliveryPostalCode,  \n",
        "        source.PostalAddressLine1,  \n",
        "        source.PostalAddressLine2,  \n",
        "        source.PostalPostalCode,  \n",
        "        source.last_updated,  \n",
        "        source.DeliveryLocation,  \n",
        "        FROM_UTC_TIMESTAMP(current_timestamp(), 'Asia/Ho_Chi_Minh') AS start_date,  \n",
        "        NULL AS end_date,  \n",
        "        true AS is_active,  \n",
        "        ROW_NUMBER() OVER (ORDER BY source.SupplierID) AS rn  -- Assign row numbers to new records\n",
        "    FROM v_bronze_Suppliers AS source  \n",
        "    LEFT JOIN silver.Suppliers AS target  \n",
        "        ON source.SupplierID = target.SupplierID  \n",
        "        AND target.is_active = true  -- Compare only with currently active records  \n",
        "    WHERE target.SupplierID IS NULL  -- New records that do not exist in the Silver table  \n",
        "       OR target.SupplierName <> source.SupplierName  -- Name has changed  \n",
        "       OR target.SupplierCategoryID <> source.SupplierCategoryID  \n",
        "       OR target.PrimaryContactPersonID <> source.PrimaryContactPersonID  \n",
        "       OR target.AlternateContactPersonID <> source.AlternateContactPersonID  \n",
        "       OR target.DeliveryMethodID <> source.DeliveryMethodID  \n",
        "       OR target.DeliveryCityID <> source.DeliveryCityID  \n",
        "       OR target.PostalCityID <> source.PostalCityID  \n",
        "       OR target.SupplierReference <> source.SupplierReference  \n",
        "       OR target.BankAccountName <> source.BankAccountName  \n",
        "       OR target.BankAccountBranch <> source.BankAccountBranch  \n",
        "       OR target.BankAccountCode <> source.BankAccountCode  \n",
        "       OR target.BankAccountNumber <> source.BankAccountNumber  \n",
        "       OR target.BankInternationalCode <> source.BankInternationalCode  \n",
        "       OR target.PaymentDays <> source.PaymentDays  \n",
        "       OR target.InternalComments <> source.InternalComments  \n",
        "       OR target.PhoneNumber <> source.PhoneNumber  \n",
        "       OR target.FaxNumber <> source.FaxNumber  \n",
        "       OR target.WebsiteURL <> source.WebsiteURL  \n",
        "       OR target.DeliveryAddressLine1 <> source.DeliveryAddressLine1  \n",
        "       OR target.DeliveryAddressLine2 <> source.DeliveryAddressLine2  \n",
        "       OR target.DeliveryPostalCode <> source.DeliveryPostalCode  \n",
        "       OR target.PostalAddressLine1 <> source.PostalAddressLine1  \n",
        "       OR target.PostalAddressLine2 <> source.PostalAddressLine2  \n",
        "       OR target.PostalPostalCode <> source.PostalPostalCode  \n",
        "       OR target.DeliveryLocation <> source.DeliveryLocation  \n",
        "       OR target.last_updated <> source.last_updated  \n",
        ")  \n",
        "-- Insert new data into the Silver table  \n",
        "INSERT INTO silver.Suppliers  \n",
        "SELECT  \n",
        "    max_key.max_id + new_data.rn AS SupplierKey, -- New surrogate key  \n",
        "    new_data.SupplierID,  \n",
        "    new_data.SupplierName,  \n",
        "    new_data.SupplierCategoryID,  \n",
        "    new_data.PrimaryContactPersonID,  \n",
        "    new_data.AlternateContactPersonID,  \n",
        "    new_data.DeliveryMethodID,  \n",
        "    new_data.DeliveryCityID,  \n",
        "    new_data.PostalCityID,  \n",
        "    new_data.SupplierReference,  \n",
        "    new_data.BankAccountName,  \n",
        "    new_data.BankAccountBranch,  \n",
        "    new_data.BankAccountCode,  \n",
        "    new_data.BankAccountNumber,  \n",
        "    new_data.BankInternationalCode,  \n",
        "    new_data.PaymentDays,  \n",
        "    new_data.InternalComments,  \n",
        "    new_data.PhoneNumber,  \n",
        "    new_data.FaxNumber,  \n",
        "    new_data.WebsiteURL,  \n",
        "    new_data.DeliveryAddressLine1,  \n",
        "    new_data.DeliveryAddressLine2,  \n",
        "    new_data.DeliveryPostalCode,  \n",
        "    new_data.PostalAddressLine1,  \n",
        "    new_data.PostalAddressLine2,  \n",
        "    new_data.PostalPostalCode,  \n",
        "    new_data.last_updated,  \n",
        "    new_data.DeliveryLocation,  \n",
        "    new_data.start_date,  \n",
        "    new_data.end_date,  \n",
        "    new_data.is_active  \n",
        "FROM new_data  \n",
        "CROSS JOIN max_key;\n"
      ],
      "outputs": [],
      "execution_count": null,
      "metadata": {
        "microsoft": {
          "language": "sparksql"
        }
      }
    },
    {
      "cell_type": "code",
      "source": [
        "df_Suppliers = spark.sql(\"SELECT * FROM silver.Suppliers\")\n",
        "df_Suppliers.repartition(1).write.mode(\"overwrite\").parquet(\"abfss://final@bibik224161840.dfs.core.windows.net/silver/silver.Suppliers.parquet\")"
      ],
      "outputs": [],
      "execution_count": null,
      "metadata": {}
    },
    {
      "cell_type": "markdown",
      "source": [
        "# 10. SupplierTransactions"
      ],
      "metadata": {
        "nteract": {
          "transient": {
            "deleting": false
          }
        }
      }
    },
    {
      "cell_type": "code",
      "source": [
        "# Read parquet file in bronze\n",
        "df = spark.read.load(path='abfss://final@bibik224161840.dfs.core.windows.net/bronze/Purchasing.SupplierTransactions.parquet', format='parquet')\n",
        "\n",
        "# Add surrogate key column\n",
        "from pyspark.sql.window import Window\n",
        "from pyspark.sql.functions import row_number\n",
        "\n",
        "window_spec = Window.orderBy(\"SupplierTransactionID\")\n",
        "df = df.withColumn(\"SupplierTransactionKey\", row_number().over(window_spec))\n",
        "\n",
        "df = df.select(\"SupplierTransactionKey\", *[col for col in df.columns if col != \"SupplierTransactionKey\"])\n",
        "\n",
        "# Create a temporary view from the bronze Parquet data (df) as the source\n",
        "df.createOrReplaceTempView(\"v_bronze_SupplierTransactions\")"
      ],
      "outputs": [],
      "execution_count": null,
      "metadata": {}
    },
    {
      "cell_type": "code",
      "source": [
        "%%sql\n",
        "-- Create table in Lake Database\n",
        "USE silver;\n",
        "CREATE TABLE IF NOT EXISTS silver.SupplierTransactions (\n",
        "    SupplierTransactionKey INT, -- Surrogate Key\n",
        "    SupplierTransactionID INT,\n",
        "    SupplierID INT,\n",
        "    TransactionTypeID INT,\n",
        "    PurchaseOrderID INT,\n",
        "    PaymentMethodID INT,\n",
        "    SupplierInvoiceNumber STRING,\n",
        "    TransactionDate DATE,\n",
        "    AmountExcludingTax DECIMAL(18,2),\n",
        "    TaxAmount DECIMAL(18,2),\n",
        "    TransactionAmount DECIMAL(18,2),\n",
        "    OutstandingBalance DECIMAL(18,2),\n",
        "    FinalizationDate DATE,\n",
        "    IsFinalized BOOLEAN,\n",
        "    last_updated TIMESTAMP,\n",
        "    start_date TIMESTAMP,\n",
        "    end_date TIMESTAMP,\n",
        "    is_active BOOLEAN\n",
        ");"
      ],
      "outputs": [],
      "execution_count": null,
      "metadata": {
        "microsoft": {
          "language": "sparksql"
        }
      }
    },
    {
      "cell_type": "code",
      "source": [
        "%%sql\n",
        "-- SCD Type 2: Insert the updated rows (setting is_active = 0 and end_date for historical rows)\n",
        "INSERT INTO silver.SupplierTransactions\n",
        "SELECT\n",
        "    target.SupplierTransactionKey,\n",
        "    target.SupplierTransactionID,\n",
        "    target.SupplierID,\n",
        "    target.TransactionTypeID,\n",
        "    target.PurchaseOrderID,\n",
        "    target.PaymentMethodID,\n",
        "    target.SupplierInvoiceNumber,\n",
        "    target.TransactionDate,\n",
        "    target.AmountExcludingTax,\n",
        "    target.TaxAmount,\n",
        "    target.TransactionAmount,\n",
        "    target.OutstandingBalance,\n",
        "    target.FinalizationDate,\n",
        "    target.IsFinalized,\n",
        "    target.last_updated,\n",
        "    target.start_date,\n",
        "    FROM_UTC_TIMESTAMP(current_timestamp(), 'Asia/Ho_Chi_Minh') AS end_date, -- Expiration date\n",
        "    false AS is_active\n",
        "FROM silver.SupplierTransactions AS target\n",
        "JOIN v_bronze_SupplierTransactions AS source\n",
        "    ON target.SupplierTransactionID = source.SupplierTransactionID\n",
        "WHERE target.is_active = true\n",
        "    AND (\n",
        "        target.SupplierID <> source.SupplierID\n",
        "        OR target.TransactionTypeID <> source.TransactionTypeID\n",
        "        OR target.PurchaseOrderID <> source.PurchaseOrderID\n",
        "        OR target.PaymentMethodID <> source.PaymentMethodID\n",
        "        OR target.SupplierInvoiceNumber <> source.SupplierInvoiceNumber\n",
        "        OR target.TransactionDate <> source.TransactionDate\n",
        "        OR target.AmountExcludingTax <> source.AmountExcludingTax\n",
        "        OR target.TaxAmount <> source.TaxAmount\n",
        "        OR target.TransactionAmount <> source.TransactionAmount\n",
        "        OR target.OutstandingBalance <> source.OutstandingBalance\n",
        "        OR target.FinalizationDate <> source.FinalizationDate\n",
        "        OR target.IsFinalized <> source.IsFinalized\n",
        "        OR target.last_updated <> source.last_updated\n",
        "    );"
      ],
      "outputs": [],
      "execution_count": null,
      "metadata": {
        "microsoft": {
          "language": "sparksql"
        }
      }
    },
    {
      "cell_type": "code",
      "source": [
        "%%sql\n",
        "-- SCD Type 2: Drop old rows after update (which have is_active = 1)\n",
        "INSERT OVERWRITE silver.SupplierTransactions\n",
        "SELECT *\n",
        "FROM silver.SupplierTransactions AS target\n",
        "WHERE NOT EXISTS (\n",
        "    SELECT 1\n",
        "    FROM v_bronze_SupplierTransactions AS source\n",
        "    WHERE target.SupplierTransactionID = source.SupplierTransactionID\n",
        "    AND target.is_active = true\n",
        "    AND (\n",
        "        target.SupplierID <> source.SupplierID\n",
        "        OR target.TransactionTypeID <> source.TransactionTypeID\n",
        "        OR target.PurchaseOrderID <> source.PurchaseOrderID\n",
        "        OR target.PaymentMethodID <> source.PaymentMethodID\n",
        "        OR target.SupplierInvoiceNumber <> source.SupplierInvoiceNumber\n",
        "        OR target.TransactionDate <> source.TransactionDate\n",
        "        OR target.AmountExcludingTax <> source.AmountExcludingTax\n",
        "        OR target.TaxAmount <> source.TaxAmount\n",
        "        OR target.TransactionAmount <> source.TransactionAmount\n",
        "        OR target.OutstandingBalance <> source.OutstandingBalance\n",
        "        OR target.FinalizationDate <> source.FinalizationDate\n",
        "        OR target.IsFinalized <> source.IsFinalized\n",
        "        OR target.last_updated <> source.last_updated\n",
        "    )\n",
        ");"
      ],
      "outputs": [],
      "execution_count": null,
      "metadata": {
        "microsoft": {
          "language": "sparksql"
        }
      }
    },
    {
      "cell_type": "code",
      "source": [
        "%%sql\n",
        "-- SCD Type 2: Insert new rows (new records)\n",
        "WITH max_key AS (  \n",
        "    SELECT COALESCE(MAX(SupplierTransactionKey), 0) AS max_id FROM silver.SupplierTransactions  \n",
        "),  \n",
        "new_data AS (  \n",
        "    SELECT  \n",
        "        source.SupplierTransactionID,  \n",
        "        source.SupplierID,  \n",
        "        source.TransactionTypeID,  \n",
        "        source.PurchaseOrderID,  \n",
        "        source.PaymentMethodID,  \n",
        "        source.SupplierInvoiceNumber,  \n",
        "        source.TransactionDate,  \n",
        "        source.AmountExcludingTax,  \n",
        "        source.TaxAmount,  \n",
        "        source.TransactionAmount,  \n",
        "        source.OutstandingBalance,  \n",
        "        source.FinalizationDate,  \n",
        "        source.IsFinalized,  \n",
        "        source.last_updated,  \n",
        "        FROM_UTC_TIMESTAMP(current_timestamp(), 'Asia/Ho_Chi_Minh') AS start_date,  \n",
        "        NULL AS end_date,  \n",
        "        true AS is_active,  \n",
        "        ROW_NUMBER() OVER (ORDER BY source.SupplierTransactionID) AS rn  \n",
        "    FROM v_bronze_SupplierTransactions AS source  \n",
        "    LEFT JOIN silver.SupplierTransactions AS target  \n",
        "        ON source.SupplierTransactionID = target.SupplierTransactionID  \n",
        "        AND target.is_active = true  \n",
        "    WHERE target.SupplierTransactionID IS NULL  \n",
        "       OR target.SupplierID <> source.SupplierID  \n",
        "       OR target.TransactionTypeID <> source.TransactionTypeID  \n",
        "       OR target.PurchaseOrderID <> source.PurchaseOrderID  \n",
        "       OR target.PaymentMethodID <> source.PaymentMethodID  \n",
        "       OR target.SupplierInvoiceNumber <> source.SupplierInvoiceNumber  \n",
        "       OR target.TransactionDate <> source.TransactionDate  \n",
        "       OR target.AmountExcludingTax <> source.AmountExcludingTax  \n",
        "       OR target.TaxAmount <> source.TaxAmount  \n",
        "       OR target.TransactionAmount <> source.TransactionAmount  \n",
        "       OR target.OutstandingBalance <> source.OutstandingBalance  \n",
        "       OR target.FinalizationDate <> source.FinalizationDate  \n",
        "       OR target.IsFinalized <> source.IsFinalized  \n",
        "       OR target.last_updated <> source.last_updated  \n",
        ")  \n",
        "INSERT INTO silver.SupplierTransactions  \n",
        "SELECT  \n",
        "    max_key.max_id + new_data.rn AS SupplierTransactionKey,  \n",
        "    new_data.SupplierTransactionID,  \n",
        "    new_data.SupplierID,  \n",
        "    new_data.TransactionTypeID,  \n",
        "    new_data.PurchaseOrderID,  \n",
        "    new_data.PaymentMethodID,  \n",
        "    new_data.SupplierInvoiceNumber,  \n",
        "    new_data.TransactionDate,  \n",
        "    new_data.AmountExcludingTax,  \n",
        "    new_data.TaxAmount,  \n",
        "    new_data.TransactionAmount,  \n",
        "    new_data.OutstandingBalance,  \n",
        "    new_data.FinalizationDate,  \n",
        "    new_data.IsFinalized,  \n",
        "    new_data.last_updated,  \n",
        "    new_data.start_date,  \n",
        "    new_data.end_date,  \n",
        "    new_data.is_active  \n",
        "FROM new_data  \n",
        "CROSS JOIN max_key;"
      ],
      "outputs": [],
      "execution_count": null,
      "metadata": {
        "microsoft": {
          "language": "sparksql"
        }
      }
    },
    {
      "cell_type": "code",
      "source": [
        "# Write to a Parquet file in the Silver layer of the storage account\n",
        "df_SupplierTransactions = spark.sql(\"SELECT * FROM silver.SupplierTransactions\")\n",
        "df_SupplierTransactions.repartition(1).write.mode(\"overwrite\").parquet(\"abfss://final@bibik224161840.dfs.core.windows.net/silver/silver.SupplierTransactions.parquet\")"
      ],
      "outputs": [],
      "execution_count": null,
      "metadata": {}
    },
    {
      "cell_type": "markdown",
      "source": [
        "# 11. People"
      ],
      "metadata": {
        "nteract": {
          "transient": {
            "deleting": false
          }
        }
      }
    },
    {
      "cell_type": "code",
      "source": [
        "# Read parquet file in bronze\n",
        "df = spark.read.load(path='abfss://final@bibik224161840.dfs.core.windows.net/bronze/Application.People.parquet', format='parquet')\n",
        "\n",
        "# Add surrogate key column\n",
        "from pyspark.sql.window import Window\n",
        "from pyspark.sql.functions import row_number\n",
        "\n",
        "window_spec = Window.orderBy(\"PersonID\")\n",
        "df = df.withColumn(\"PersonKey\", row_number().over(window_spec))\n",
        "\n",
        "df = df.select(\"PersonKey\", *[col for col in df.columns if col != \"PersonKey\"])\n",
        "\n",
        "# Create a temporary view from the bronze Parquet data (df) as the source\n",
        "df.createOrReplaceTempView(\"v_bronze_People\")"
      ],
      "outputs": [],
      "execution_count": null,
      "metadata": {}
    },
    {
      "cell_type": "code",
      "source": [
        "%%sql\n",
        "-- Create table in Lake Database\n",
        "USE silver;\n",
        "CREATE TABLE IF NOT EXISTS silver.People (\n",
        "    PersonKey INT, -- Surrogate Key\n",
        "    PersonID INT,\n",
        "    FullName STRING,\n",
        "    PreferredName STRING,\n",
        "    SearchName STRING,\n",
        "    IsPermittedToLogon BOOLEAN,\n",
        "    LogonName STRING,\n",
        "    IsExternalLogonProvider BOOLEAN,\n",
        "    HashedPassword BINARY,\n",
        "    IsSystemUser BOOLEAN,\n",
        "    IsEmployee BOOLEAN,\n",
        "    IsSalesperson BOOLEAN,\n",
        "    UserPreferences STRING,\n",
        "    PhoneNumber STRING,\n",
        "    FaxNumber STRING,\n",
        "    EmailAddress STRING,\n",
        "    Photo BINARY,\n",
        "    CustomFields STRING,\n",
        "    OtherLanguages STRING,\n",
        "    last_updated TIMESTAMP,\n",
        "    start_date TIMESTAMP,\n",
        "    end_date TIMESTAMP,\n",
        "    is_active BOOLEAN\n",
        ");"
      ],
      "outputs": [],
      "execution_count": null,
      "metadata": {
        "microsoft": {
          "language": "sparksql"
        }
      }
    },
    {
      "cell_type": "code",
      "source": [
        "%%sql\n",
        "-- SCD Type 2: Insert the updated rows (setting is_active = 0 and end_date for historical rows)\n",
        "INSERT INTO silver.People\n",
        "SELECT\n",
        "    target.PersonKey,\n",
        "    target.PersonID,\n",
        "    target.FullName,\n",
        "    target.PreferredName,\n",
        "    target.SearchName,\n",
        "    target.IsPermittedToLogon,\n",
        "    target.LogonName,\n",
        "    target.IsExternalLogonProvider,\n",
        "    target.HashedPassword,\n",
        "    target.IsSystemUser,\n",
        "    target.IsEmployee,\n",
        "    target.IsSalesperson,\n",
        "    target.UserPreferences,\n",
        "    target.PhoneNumber,\n",
        "    target.FaxNumber,\n",
        "    target.EmailAddress,\n",
        "    target.Photo,\n",
        "    target.CustomFields,\n",
        "    target.OtherLanguages,\n",
        "    target.last_updated,\n",
        "    target.start_date,\n",
        "    FROM_UTC_TIMESTAMP(current_timestamp(), 'Asia/Ho_Chi_Minh') AS end_date, -- Expiration date\n",
        "    false AS is_active\n",
        "FROM silver.People AS target\n",
        "JOIN v_bronze_People AS source\n",
        "    ON target.PersonID = source.PersonID\n",
        "WHERE target.is_active = true\n",
        "    AND (\n",
        "        target.FullName <> source.FullName\n",
        "        OR target.PreferredName <> source.PreferredName\n",
        "        OR target.SearchName <> source.SearchName\n",
        "        OR target.IsPermittedToLogon <> source.IsPermittedToLogon\n",
        "        OR target.LogonName <> source.LogonName\n",
        "        OR target.IsExternalLogonProvider <> source.IsExternalLogonProvider\n",
        "        OR target.HashedPassword <> source.HashedPassword\n",
        "        OR target.IsSystemUser <> source.IsSystemUser\n",
        "        OR target.IsEmployee <> source.IsEmployee\n",
        "        OR target.IsSalesperson <> source.IsSalesperson\n",
        "        OR target.UserPreferences <> source.UserPreferences\n",
        "        OR target.PhoneNumber <> source.PhoneNumber\n",
        "        OR target.FaxNumber <> source.FaxNumber\n",
        "        OR target.EmailAddress <> source.EmailAddress\n",
        "        OR target.Photo <> source.Photo\n",
        "        OR target.CustomFields <> source.CustomFields\n",
        "        OR target.OtherLanguages <> source.OtherLanguages\n",
        "        OR target.last_updated <> source.last_updated\n",
        "    );"
      ],
      "outputs": [],
      "execution_count": null,
      "metadata": {
        "microsoft": {
          "language": "sparksql"
        }
      }
    },
    {
      "cell_type": "code",
      "source": [
        "%%sql\n",
        "-- SCD Type 2: Drop old rows after update (which have is_active = 1)\n",
        "INSERT OVERWRITE silver.People\n",
        "SELECT *\n",
        "FROM silver.People AS target\n",
        "WHERE NOT EXISTS (\n",
        "    SELECT 1\n",
        "    FROM v_bronze_People AS source\n",
        "    WHERE target.PersonID = source.PersonID\n",
        "    AND target.is_active = true\n",
        "    AND (\n",
        "        target.FullName <> source.FullName\n",
        "        OR target.PreferredName <> source.PreferredName\n",
        "        OR target.SearchName <> source.SearchName\n",
        "        OR target.IsPermittedToLogon <> source.IsPermittedToLogon\n",
        "        OR target.LogonName <> source.LogonName\n",
        "        OR target.IsExternalLogonProvider <> source.IsExternalLogonProvider\n",
        "        OR target.HashedPassword <> source.HashedPassword\n",
        "        OR target.IsSystemUser <> source.IsSystemUser\n",
        "        OR target.IsEmployee <> source.IsEmployee\n",
        "        OR target.IsSalesperson <> source.IsSalesperson\n",
        "        OR target.UserPreferences <> source.UserPreferences\n",
        "        OR target.PhoneNumber <> source.PhoneNumber\n",
        "        OR target.FaxNumber <> source.FaxNumber\n",
        "        OR target.EmailAddress <> source.EmailAddress\n",
        "        OR target.Photo <> source.Photo\n",
        "        OR target.CustomFields <> source.CustomFields\n",
        "        OR target.OtherLanguages <> source.OtherLanguages\n",
        "        OR target.last_updated <> source.last_updated\n",
        "    )\n",
        ");"
      ],
      "outputs": [],
      "execution_count": null,
      "metadata": {
        "microsoft": {
          "language": "sparksql"
        }
      }
    },
    {
      "cell_type": "code",
      "source": [
        "%%sql\n",
        "-- SCD Type 2: Insert new rows (new records)\n",
        "WITH max_key AS (  \n",
        "    SELECT COALESCE(MAX(PersonKey), 0) AS max_id FROM silver.People  \n",
        "),  \n",
        "new_data AS (  \n",
        "    SELECT  \n",
        "        source.PersonID,  \n",
        "        source.FullName,  \n",
        "        source.PreferredName,  \n",
        "        source.SearchName,  \n",
        "        source.IsPermittedToLogon,  \n",
        "        source.LogonName,  \n",
        "        source.IsExternalLogonProvider,  \n",
        "        source.HashedPassword,  \n",
        "        source.IsSystemUser,  \n",
        "        source.IsEmployee,  \n",
        "        source.IsSalesperson,  \n",
        "        source.UserPreferences,  \n",
        "        source.PhoneNumber,  \n",
        "        source.FaxNumber,  \n",
        "        source.EmailAddress,  \n",
        "        source.Photo,  \n",
        "        source.CustomFields,  \n",
        "        source.OtherLanguages,  \n",
        "        source.last_updated,  \n",
        "        FROM_UTC_TIMESTAMP(current_timestamp(), 'Asia/Ho_Chi_Minh') AS start_date,  \n",
        "        NULL AS end_date,  \n",
        "        true AS is_active,  \n",
        "        ROW_NUMBER() OVER (ORDER BY source.PersonID) AS rn  \n",
        "    FROM v_bronze_People AS source  \n",
        "    LEFT JOIN silver.People AS target  \n",
        "        ON source.PersonID = target.PersonID  \n",
        "        AND target.is_active = true  \n",
        "    WHERE target.PersonID IS NULL  \n",
        "       OR target.FullName <> source.FullName  \n",
        "       OR target.PreferredName <> source.PreferredName  \n",
        "       OR target.SearchName <> source.SearchName  \n",
        "       OR target.IsPermittedToLogon <> source.IsPermittedToLogon  \n",
        "       OR target.LogonName <> source.LogonName  \n",
        "       OR target.IsExternalLogonProvider <> source.IsExternalLogonProvider  \n",
        "       OR target.HashedPassword <> source.HashedPassword  \n",
        "       OR target.IsSystemUser <> source.IsSystemUser  \n",
        "       OR target.IsEmployee <> source.IsEmployee  \n",
        "       OR target.IsSalesperson <> source.IsSalesperson  \n",
        "       OR target.UserPreferences <> source.UserPreferences  \n",
        "       OR target.PhoneNumber <> source.PhoneNumber  \n",
        "       OR target.FaxNumber <> source.FaxNumber  \n",
        "       OR target.EmailAddress <> source.EmailAddress  \n",
        "       OR target.Photo <> source.Photo  \n",
        "       OR target.CustomFields <> source.CustomFields  \n",
        "       OR target.OtherLanguages <> source.OtherLanguages  \n",
        "       OR target.last_updated <> source.last_updated  \n",
        ")  \n",
        "INSERT INTO silver.People  \n",
        "SELECT  \n",
        "    max_key.max_id + new_data.rn AS PersonKey,  \n",
        "    new_data.PersonID,  \n",
        "    new_data.FullName,  \n",
        "    new_data.PreferredName,  \n",
        "    new_data.SearchName,  \n",
        "    new_data.IsPermittedToLogon,  \n",
        "    new_data.LogonName,  \n",
        "    new_data.IsExternalLogonProvider,  \n",
        "    new_data.HashedPassword,  \n",
        "    new_data.IsSystemUser,  \n",
        "    new_data.IsEmployee,  \n",
        "    new_data.IsSalesperson,  \n",
        "    new_data.UserPreferences,  \n",
        "    new_data.PhoneNumber,  \n",
        "    new_data.FaxNumber,  \n",
        "    new_data.EmailAddress,  \n",
        "    new_data.Photo,  \n",
        "    new_data.CustomFields,  \n",
        "    new_data.OtherLanguages,  \n",
        "    new_data.last_updated,  \n",
        "    new_data.start_date,  \n",
        "    new_data.end_date,  \n",
        "    new_data.is_active  \n",
        "FROM new_data  \n",
        "CROSS JOIN max_key;\n"
      ],
      "outputs": [],
      "execution_count": null,
      "metadata": {
        "microsoft": {
          "language": "sparksql"
        }
      }
    },
    {
      "cell_type": "code",
      "source": [
        "# Write to a Parquet file in the Silver layer of the storage account\n",
        "df_People = spark.sql(\"SELECT * FROM silver.People\")\n",
        "df_People.repartition(1).write.mode(\"overwrite\").parquet(\"abfss://final@bibik224161840.dfs.core.windows.net/silver/silver.People.parquet\")"
      ],
      "outputs": [],
      "execution_count": null,
      "metadata": {}
    },
    {
      "cell_type": "markdown",
      "source": [
        "# 12. PurchaseOrders"
      ],
      "metadata": {
        "nteract": {
          "transient": {
            "deleting": false
          }
        }
      }
    },
    {
      "cell_type": "code",
      "source": [
        "# Read parquet file in bronze\n",
        "df = spark.read.load(path='abfss://final@bibik224161840.dfs.core.windows.net/bronze/Purchasing.PurchaseOrders.parquet', format='parquet')\n",
        "\n",
        "# Add surrogate key column\n",
        "from pyspark.sql.window import Window\n",
        "from pyspark.sql.functions import row_number\n",
        "\n",
        "window_spec = Window.orderBy(\"PurchaseOrderID\")\n",
        "df = df.withColumn(\"PurchaseOrderKey\", row_number().over(window_spec))\n",
        "\n",
        "df = df.select(\"PurchaseOrderKey\", *[col for col in df.columns if col != \"PurchaseOrderKey\"])\n",
        "\n",
        "# Create a temporary view from the bronze Parquet data (df) as the source\n",
        "df.createOrReplaceTempView(\"v_bronze_PurchaseOrders\")"
      ],
      "outputs": [
        {
          "output_type": "display_data",
          "data": {
            "application/vnd.livy.statement-meta+json": {
              "spark_pool": "sparkpool",
              "statement_id": 2,
              "statement_ids": [
                2
              ],
              "state": "finished",
              "livy_statement_state": "available",
              "spark_jobs": null,
              "session_id": "72",
              "normalized_state": "finished",
              "queued_time": "2025-03-20T10:21:43.7105364Z",
              "session_start_time": "2025-03-20T10:21:43.7115946Z",
              "execution_start_time": "2025-03-20T10:22:20.3796968Z",
              "execution_finish_time": "2025-03-20T10:22:29.6248097Z",
              "parent_msg_id": "8cc09017-fdfa-4fe3-8c84-acdb3a11be75"
            },
            "text/plain": "StatementMeta(sparkpool, 72, 2, Finished, Available, Finished)"
          },
          "metadata": {}
        }
      ],
      "execution_count": 3,
      "metadata": {}
    },
    {
      "cell_type": "code",
      "source": [
        "%%sql\n",
        "-- Create table in Lake Database\n",
        "USE silver;\n",
        "CREATE TABLE IF NOT EXISTS silver.PurchaseOrders (\n",
        "    PurchaseOrderKey INT, -- Surrogate Key\n",
        "    PurchaseOrderID INT,\n",
        "    SupplierID INT,\n",
        "    OrderDate TIMESTAMP,\n",
        "    DeliveryMethodID INT,\n",
        "    ContactPersonID INT,\n",
        "    ExpectedDeliveryDate TIMESTAMP,\n",
        "    SupplierReference STRING,\n",
        "    IsOrderFinalized BOOLEAN,\n",
        "    Comments STRING,\n",
        "    InternalComments STRING,\n",
        "    last_updated TIMESTAMP,\n",
        "    start_date TIMESTAMP,\n",
        "    end_date TIMESTAMP,\n",
        "    is_active BOOLEAN\n",
        ");\n"
      ],
      "outputs": [
        {
          "output_type": "display_data",
          "data": {
            "application/vnd.livy.statement-meta+json": {
              "spark_pool": "sparkpool",
              "statement_id": 4,
              "statement_ids": [
                3,
                4
              ],
              "state": "finished",
              "livy_statement_state": "available",
              "spark_jobs": null,
              "session_id": "72",
              "normalized_state": "finished",
              "queued_time": "2025-03-20T10:22:39.4985049Z",
              "session_start_time": null,
              "execution_start_time": "2025-03-20T10:22:39.4990427Z",
              "execution_finish_time": "2025-03-20T10:22:49.2883854Z",
              "parent_msg_id": "d36b9828-46cc-4a50-b296-3b569e3a4520"
            },
            "text/plain": "StatementMeta(sparkpool, 72, 4, Finished, Available, Finished)"
          },
          "metadata": {}
        },
        {
          "output_type": "execute_result",
          "execution_count": 4,
          "data": {
            "application/vnd.synapse.sparksql-result+json": {
              "schema": {
                "type": "struct",
                "fields": []
              },
              "data": []
            },
            "text/plain": "<Spark SQL result set with 0 rows and 0 fields>"
          },
          "metadata": {}
        },
        {
          "output_type": "execute_result",
          "execution_count": 4,
          "data": {
            "application/vnd.synapse.sparksql-result+json": {
              "schema": {
                "type": "struct",
                "fields": []
              },
              "data": []
            },
            "text/plain": "<Spark SQL result set with 0 rows and 0 fields>"
          },
          "metadata": {}
        }
      ],
      "execution_count": 4,
      "metadata": {
        "microsoft": {
          "language": "sparksql"
        },
        "collapsed": false
      }
    },
    {
      "cell_type": "code",
      "source": [
        "%%sql\n",
        "-- SCD Type 2: Insert the updated rows (setting is_active = 0 and end_date for historical rows)\n",
        "INSERT INTO silver.PurchaseOrders\n",
        "SELECT\n",
        "    target.PurchaseOrderKey,\n",
        "    target.PurchaseOrderID,\n",
        "    target.SupplierID,\n",
        "    target.OrderDate,\n",
        "    target.DeliveryMethodID,\n",
        "    target.ContactPersonID,\n",
        "    target.ExpectedDeliveryDate,\n",
        "    target.SupplierReference,\n",
        "    target.IsOrderFinalized,\n",
        "    target.Comments,\n",
        "    target.InternalComments,\n",
        "    target.last_updated,\n",
        "    target.start_date,\n",
        "    FROM_UTC_TIMESTAMP(current_timestamp(), 'Asia/Ho_Chi_Minh') AS end_date, -- Expiration date\n",
        "    false AS is_active\n",
        "FROM silver.PurchaseOrders AS target\n",
        "JOIN v_bronze_PurchaseOrders AS source\n",
        "    ON target.PurchaseOrderID = source.PurchaseOrderID\n",
        "WHERE target.is_active = true\n",
        "    AND (\n",
        "        target.SupplierID <> source.SupplierID\n",
        "        OR target.OrderDate <> source.OrderDate\n",
        "        OR target.DeliveryMethodID <> source.DeliveryMethodID\n",
        "        OR target.ContactPersonID <> source.ContactPersonID\n",
        "        OR target.ExpectedDeliveryDate <> source.ExpectedDeliveryDate\n",
        "        OR target.SupplierReference <> source.SupplierReference\n",
        "        OR target.IsOrderFinalized <> source.IsOrderFinalized\n",
        "        OR target.Comments <> source.Comments\n",
        "        OR target.InternalComments <> source.InternalComments\n",
        "        OR target.last_updated <> source.last_updated\n",
        "    );"
      ],
      "outputs": [
        {
          "output_type": "display_data",
          "data": {
            "application/vnd.livy.statement-meta+json": {
              "spark_pool": "sparkpool",
              "statement_id": 5,
              "statement_ids": [
                5
              ],
              "state": "finished",
              "livy_statement_state": "available",
              "spark_jobs": null,
              "session_id": "72",
              "normalized_state": "finished",
              "queued_time": "2025-03-20T10:22:56.0196077Z",
              "session_start_time": null,
              "execution_start_time": "2025-03-20T10:22:56.0212075Z",
              "execution_finish_time": "2025-03-20T10:23:08.211476Z",
              "parent_msg_id": "bbf7411e-9bd2-4224-a6ca-c59bbf2645d0"
            },
            "text/plain": "StatementMeta(sparkpool, 72, 5, Finished, Available, Finished)"
          },
          "metadata": {}
        },
        {
          "output_type": "execute_result",
          "execution_count": 5,
          "data": {
            "application/vnd.synapse.sparksql-result+json": {
              "schema": {
                "type": "struct",
                "fields": []
              },
              "data": []
            },
            "text/plain": "<Spark SQL result set with 0 rows and 0 fields>"
          },
          "metadata": {}
        }
      ],
      "execution_count": 5,
      "metadata": {
        "microsoft": {
          "language": "sparksql"
        },
        "collapsed": false
      }
    },
    {
      "cell_type": "code",
      "source": [
        "%%sql\n",
        "-- SCD Type 2: Drop old rows after update (which have is_active = 1)\n",
        "INSERT OVERWRITE silver.PurchaseOrders\n",
        "SELECT *\n",
        "FROM silver.PurchaseOrders AS target\n",
        "WHERE NOT EXISTS (\n",
        "    SELECT 1\n",
        "    FROM v_bronze_PurchaseOrders AS source\n",
        "    WHERE target.PurchaseOrderID = source.PurchaseOrderID\n",
        "    AND target.is_active = true\n",
        "    AND (\n",
        "        target.SupplierID <> source.SupplierID\n",
        "        OR target.OrderDate <> source.OrderDate\n",
        "        OR target.DeliveryMethodID <> source.DeliveryMethodID\n",
        "        OR target.ContactPersonID <> source.ContactPersonID\n",
        "        OR target.ExpectedDeliveryDate <> source.ExpectedDeliveryDate\n",
        "        OR target.SupplierReference <> source.SupplierReference\n",
        "        OR target.IsOrderFinalized <> source.IsOrderFinalized\n",
        "        OR target.Comments <> source.Comments\n",
        "        OR target.InternalComments <> source.InternalComments\n",
        "        OR target.last_updated <> source.last_updated\n",
        "    )\n",
        ");\n"
      ],
      "outputs": [
        {
          "output_type": "display_data",
          "data": {
            "application/vnd.livy.statement-meta+json": {
              "spark_pool": "sparkpool",
              "statement_id": 6,
              "statement_ids": [
                6
              ],
              "state": "finished",
              "livy_statement_state": "available",
              "spark_jobs": null,
              "session_id": "72",
              "normalized_state": "finished",
              "queued_time": "2025-03-20T10:22:56.1528956Z",
              "session_start_time": null,
              "execution_start_time": "2025-03-20T10:23:08.2135138Z",
              "execution_finish_time": "2025-03-20T10:23:16.9139584Z",
              "parent_msg_id": "d695ac96-8408-44ab-bf5b-c614e3452888"
            },
            "text/plain": "StatementMeta(sparkpool, 72, 6, Finished, Available, Finished)"
          },
          "metadata": {}
        },
        {
          "output_type": "execute_result",
          "execution_count": 6,
          "data": {
            "application/vnd.synapse.sparksql-result+json": {
              "schema": {
                "type": "struct",
                "fields": []
              },
              "data": []
            },
            "text/plain": "<Spark SQL result set with 0 rows and 0 fields>"
          },
          "metadata": {}
        }
      ],
      "execution_count": 6,
      "metadata": {
        "microsoft": {
          "language": "sparksql"
        },
        "collapsed": false
      }
    },
    {
      "cell_type": "code",
      "source": [
        "%%sql\n",
        "-- SCD Type 2: Insert new rows (new records)\n",
        "WITH max_key AS (  \n",
        "    SELECT COALESCE(MAX(PurchaseOrderKey), 0) AS max_id FROM silver.PurchaseOrders  \n",
        "),  \n",
        "new_data AS (  \n",
        "    SELECT  \n",
        "        source.PurchaseOrderID,  \n",
        "        source.SupplierID,  \n",
        "        source.OrderDate,  \n",
        "        source.DeliveryMethodID,  \n",
        "        source.ContactPersonID,  \n",
        "        source.ExpectedDeliveryDate,  \n",
        "        source.SupplierReference,  \n",
        "        source.IsOrderFinalized,  \n",
        "        source.Comments,  \n",
        "        source.InternalComments,  \n",
        "        source.last_updated,  \n",
        "        FROM_UTC_TIMESTAMP(current_timestamp(), 'Asia/Ho_Chi_Minh') AS start_date,  \n",
        "        NULL AS end_date,  \n",
        "        true AS is_active,  \n",
        "        ROW_NUMBER() OVER (ORDER BY source.PurchaseOrderID) AS rn  \n",
        "    FROM v_bronze_PurchaseOrders AS source  \n",
        "    LEFT JOIN silver.PurchaseOrders AS target  \n",
        "        ON source.PurchaseOrderID = target.PurchaseOrderID  \n",
        "        AND target.is_active = true  \n",
        "    WHERE target.PurchaseOrderID IS NULL  \n",
        "       OR target.SupplierID <> source.SupplierID  \n",
        "       OR target.OrderDate <> source.OrderDate  \n",
        "       OR target.DeliveryMethodID <> source.DeliveryMethodID  \n",
        "       OR target.ContactPersonID <> source.ContactPersonID  \n",
        "       OR target.ExpectedDeliveryDate <> source.ExpectedDeliveryDate  \n",
        "       OR target.SupplierReference <> source.SupplierReference  \n",
        "       OR target.IsOrderFinalized <> source.IsOrderFinalized  \n",
        "       OR target.Comments <> source.Comments  \n",
        "       OR target.InternalComments <> source.InternalComments  \n",
        "       OR target.last_updated <> source.last_updated  \n",
        ")  \n",
        "INSERT INTO silver.PurchaseOrders  \n",
        "SELECT  \n",
        "    max_key.max_id + new_data.rn AS PurchaseOrderKey,  \n",
        "    new_data.PurchaseOrderID,  \n",
        "    new_data.SupplierID,  \n",
        "    new_data.OrderDate,  \n",
        "    new_data.DeliveryMethodID,  \n",
        "    new_data.ContactPersonID,  \n",
        "    new_data.ExpectedDeliveryDate,  \n",
        "    new_data.SupplierReference,  \n",
        "    new_data.IsOrderFinalized,  \n",
        "    new_data.Comments,  \n",
        "    new_data.InternalComments,  \n",
        "    new_data.last_updated,  \n",
        "    new_data.start_date,  \n",
        "    new_data.end_date,  \n",
        "    new_data.is_active  \n",
        "FROM new_data  \n",
        "CROSS JOIN max_key;"
      ],
      "outputs": [
        {
          "output_type": "display_data",
          "data": {
            "application/vnd.livy.statement-meta+json": {
              "spark_pool": "sparkpool",
              "statement_id": 7,
              "statement_ids": [
                7
              ],
              "state": "finished",
              "livy_statement_state": "available",
              "spark_jobs": null,
              "session_id": "72",
              "normalized_state": "finished",
              "queued_time": "2025-03-20T10:22:56.3242355Z",
              "session_start_time": null,
              "execution_start_time": "2025-03-20T10:23:16.9157605Z",
              "execution_finish_time": "2025-03-20T10:23:24.2191474Z",
              "parent_msg_id": "3734f2ec-a3fe-43f8-a9e2-9a1e9328d65d"
            },
            "text/plain": "StatementMeta(sparkpool, 72, 7, Finished, Available, Finished)"
          },
          "metadata": {}
        },
        {
          "output_type": "execute_result",
          "execution_count": 7,
          "data": {
            "application/vnd.synapse.sparksql-result+json": {
              "schema": {
                "type": "struct",
                "fields": []
              },
              "data": []
            },
            "text/plain": "<Spark SQL result set with 0 rows and 0 fields>"
          },
          "metadata": {}
        }
      ],
      "execution_count": 7,
      "metadata": {
        "microsoft": {
          "language": "sparksql"
        },
        "collapsed": false
      }
    },
    {
      "cell_type": "code",
      "source": [
        "# Write to a Parquet file in the Silver layer of the storage account\n",
        "df_PurchaseOrders = spark.sql(\"SELECT * FROM silver.PurchaseOrders\")\n",
        "df_PurchaseOrders.repartition(1).write.mode(\"overwrite\").parquet(\"abfss://final@bibik224161840.dfs.core.windows.net/silver/silver.PurchaseOrders.parquet\")"
      ],
      "outputs": [
        {
          "output_type": "display_data",
          "data": {
            "application/vnd.livy.statement-meta+json": {
              "spark_pool": "sparkpool",
              "statement_id": 8,
              "statement_ids": [
                8
              ],
              "state": "finished",
              "livy_statement_state": "available",
              "spark_jobs": null,
              "session_id": "72",
              "normalized_state": "finished",
              "queued_time": "2025-03-20T10:22:56.5942988Z",
              "session_start_time": null,
              "execution_start_time": "2025-03-20T10:23:24.2212312Z",
              "execution_finish_time": "2025-03-20T10:23:28.223623Z",
              "parent_msg_id": "969000f9-19a3-4529-bd9e-cebc2c0e9a9b"
            },
            "text/plain": "StatementMeta(sparkpool, 72, 8, Finished, Available, Finished)"
          },
          "metadata": {}
        }
      ],
      "execution_count": 8,
      "metadata": {}
    },
    {
      "cell_type": "markdown",
      "source": [
        "# 13. PurchaseOrderLines"
      ],
      "metadata": {
        "nteract": {
          "transient": {
            "deleting": false
          }
        }
      }
    },
    {
      "cell_type": "code",
      "source": [
        "# Read parquet file in bronze\n",
        "df = spark.read.load(path='abfss://final@bibik224161840.dfs.core.windows.net/bronze/Purchasing.PurchaseOrderLines.parquet', format='parquet')\n",
        "\n",
        "# Add surrogate key column\n",
        "from pyspark.sql.window import Window\n",
        "from pyspark.sql.functions import row_number\n",
        "\n",
        "window_spec = Window.orderBy(\"PurchaseOrderLineID\")\n",
        "df = df.withColumn(\"PurchaseOrderLineKey\", row_number().over(window_spec))\n",
        "\n",
        "df = df.select(\"PurchaseOrderLineKey\", *[col for col in df.columns if col != \"PurchaseOrderLineKey\"])\n",
        "\n",
        "# Create a temporary view from the bronze Parquet data (df) as the source\n",
        "df.createOrReplaceTempView(\"v_bronze_PurchaseOrderLines\")"
      ],
      "outputs": [
        {
          "output_type": "display_data",
          "data": {
            "application/vnd.livy.statement-meta+json": {
              "spark_pool": "sparkpool",
              "statement_id": 9,
              "statement_ids": [
                9
              ],
              "state": "finished",
              "livy_statement_state": "available",
              "spark_jobs": null,
              "session_id": "72",
              "normalized_state": "finished",
              "queued_time": "2025-03-20T10:22:56.7111146Z",
              "session_start_time": null,
              "execution_start_time": "2025-03-20T10:23:28.2353395Z",
              "execution_finish_time": "2025-03-20T10:23:29.3928269Z",
              "parent_msg_id": "be0008ff-b319-43f6-9304-57910608af79"
            },
            "text/plain": "StatementMeta(sparkpool, 72, 9, Finished, Available, Finished)"
          },
          "metadata": {}
        }
      ],
      "execution_count": 9,
      "metadata": {}
    },
    {
      "cell_type": "code",
      "source": [
        "%%sql\n",
        "-- Create table in Lake Database\n",
        "USE silver;\n",
        "CREATE TABLE IF NOT EXISTS silver.PurchaseOrderLines (\n",
        "    PurchaseOrderLineKey INT, -- Surrogate Key\n",
        "    PurchaseOrderLineID INT,\n",
        "    PurchaseOrderID INT,\n",
        "    StockItemID INT,\n",
        "    OrderedOuters INT,\n",
        "    Description STRING,\n",
        "    ReceivedOuters INT,\n",
        "    PackageTypeID INT,\n",
        "    ExpectedUnitPricePerOuter DECIMAL(18,2),\n",
        "    LastReceiptDate TIMESTAMP,\n",
        "    IsOrderLineFinalized BOOLEAN,\n",
        "    last_updated TIMESTAMP,\n",
        "    start_date TIMESTAMP,\n",
        "    end_date TIMESTAMP,\n",
        "    is_active BOOLEAN\n",
        ");"
      ],
      "outputs": [
        {
          "output_type": "display_data",
          "data": {
            "application/vnd.livy.statement-meta+json": {
              "spark_pool": "sparkpool",
              "statement_id": 11,
              "statement_ids": [
                10,
                11
              ],
              "state": "finished",
              "livy_statement_state": "available",
              "spark_jobs": null,
              "session_id": "72",
              "normalized_state": "finished",
              "queued_time": "2025-03-20T10:23:30.5366247Z",
              "session_start_time": null,
              "execution_start_time": "2025-03-20T10:23:30.5372415Z",
              "execution_finish_time": "2025-03-20T10:23:32.5349861Z",
              "parent_msg_id": "86491ec1-d447-46ab-a644-ca5b2d6426b3"
            },
            "text/plain": "StatementMeta(sparkpool, 72, 11, Finished, Available, Finished)"
          },
          "metadata": {}
        },
        {
          "output_type": "execute_result",
          "execution_count": 10,
          "data": {
            "application/vnd.synapse.sparksql-result+json": {
              "schema": {
                "type": "struct",
                "fields": []
              },
              "data": []
            },
            "text/plain": "<Spark SQL result set with 0 rows and 0 fields>"
          },
          "metadata": {}
        },
        {
          "output_type": "execute_result",
          "execution_count": 10,
          "data": {
            "application/vnd.synapse.sparksql-result+json": {
              "schema": {
                "type": "struct",
                "fields": []
              },
              "data": []
            },
            "text/plain": "<Spark SQL result set with 0 rows and 0 fields>"
          },
          "metadata": {}
        }
      ],
      "execution_count": 10,
      "metadata": {
        "microsoft": {
          "language": "sparksql"
        },
        "collapsed": false
      }
    },
    {
      "cell_type": "code",
      "source": [
        "%%sql\n",
        "-- SCD Type 2: Insert the updated rows (setting is_active = 0 and end_date for historical rows)\n",
        "INSERT INTO silver.PurchaseOrderLines\n",
        "SELECT\n",
        "    target.PurchaseOrderLineKey,\n",
        "    target.PurchaseOrderLineID,\n",
        "    target.PurchaseOrderID,\n",
        "    target.StockItemID,\n",
        "    target.OrderedOuters,\n",
        "    target.Description,\n",
        "    target.ReceivedOuters,\n",
        "    target.PackageTypeID,\n",
        "    target.ExpectedUnitPricePerOuter,\n",
        "    target.LastReceiptDate,\n",
        "    target.IsOrderLineFinalized,\n",
        "    target.last_updated,\n",
        "    target.start_date,\n",
        "    FROM_UTC_TIMESTAMP(current_timestamp(), 'Asia/Ho_Chi_Minh') AS end_date, -- Expiration date\n",
        "    false AS is_active\n",
        "FROM silver.PurchaseOrderLines AS target\n",
        "JOIN v_bronze_PurchaseOrderLines AS source\n",
        "    ON target.PurchaseOrderLineID = source.PurchaseOrderLineID\n",
        "WHERE target.is_active = true\n",
        "    AND (\n",
        "        target.PurchaseOrderID <> source.PurchaseOrderID\n",
        "        OR target.StockItemID <> source.StockItemID\n",
        "        OR target.OrderedOuters <> source.OrderedOuters\n",
        "        OR target.Description <> source.Description\n",
        "        OR target.ReceivedOuters <> source.ReceivedOuters\n",
        "        OR target.PackageTypeID <> source.PackageTypeID\n",
        "        OR target.ExpectedUnitPricePerOuter <> source.ExpectedUnitPricePerOuter\n",
        "        OR target.LastReceiptDate <> source.LastReceiptDate\n",
        "        OR target.IsOrderLineFinalized <> source.IsOrderLineFinalized\n",
        "        OR target.last_updated <> source.last_updated\n",
        "    );"
      ],
      "outputs": [
        {
          "output_type": "display_data",
          "data": {
            "application/vnd.livy.statement-meta+json": {
              "spark_pool": "sparkpool",
              "statement_id": 12,
              "statement_ids": [
                12
              ],
              "state": "finished",
              "livy_statement_state": "available",
              "spark_jobs": null,
              "session_id": "72",
              "normalized_state": "finished",
              "queued_time": "2025-03-20T10:22:57.1120988Z",
              "session_start_time": null,
              "execution_start_time": "2025-03-20T10:23:32.5367224Z",
              "execution_finish_time": "2025-03-20T10:23:36.4865198Z",
              "parent_msg_id": "46c64056-144b-4c87-b274-3b498128ea56"
            },
            "text/plain": "StatementMeta(sparkpool, 72, 12, Finished, Available, Finished)"
          },
          "metadata": {}
        },
        {
          "output_type": "execute_result",
          "execution_count": 11,
          "data": {
            "application/vnd.synapse.sparksql-result+json": {
              "schema": {
                "type": "struct",
                "fields": []
              },
              "data": []
            },
            "text/plain": "<Spark SQL result set with 0 rows and 0 fields>"
          },
          "metadata": {}
        }
      ],
      "execution_count": 11,
      "metadata": {
        "microsoft": {
          "language": "sparksql"
        },
        "collapsed": false
      }
    },
    {
      "cell_type": "code",
      "source": [
        "%%sql\n",
        "-- SCD Type 2: Drop old rows after update (which have is_active = 1)\n",
        "INSERT OVERWRITE silver.PurchaseOrderLines\n",
        "SELECT *\n",
        "FROM silver.PurchaseOrderLines AS target\n",
        "WHERE NOT EXISTS (\n",
        "    SELECT 1\n",
        "    FROM v_bronze_PurchaseOrderLines AS source\n",
        "    WHERE target.PurchaseOrderLineID = source.PurchaseOrderLineID\n",
        "    AND target.is_active = true\n",
        "    AND (\n",
        "        target.PurchaseOrderID <> source.PurchaseOrderID\n",
        "        OR target.StockItemID <> source.StockItemID\n",
        "        OR target.OrderedOuters <> source.OrderedOuters\n",
        "        OR target.Description <> source.Description\n",
        "        OR target.ReceivedOuters <> source.ReceivedOuters\n",
        "        OR target.PackageTypeID <> source.PackageTypeID\n",
        "        OR target.ExpectedUnitPricePerOuter <> source.ExpectedUnitPricePerOuter\n",
        "        OR target.LastReceiptDate <> source.LastReceiptDate\n",
        "        OR target.IsOrderLineFinalized <> source.IsOrderLineFinalized\n",
        "        OR target.last_updated <> source.last_updated\n",
        "    )\n",
        ");"
      ],
      "outputs": [
        {
          "output_type": "display_data",
          "data": {
            "application/vnd.livy.statement-meta+json": {
              "spark_pool": "sparkpool",
              "statement_id": 13,
              "statement_ids": [
                13
              ],
              "state": "finished",
              "livy_statement_state": "available",
              "spark_jobs": null,
              "session_id": "72",
              "normalized_state": "finished",
              "queued_time": "2025-03-20T10:22:57.4279071Z",
              "session_start_time": null,
              "execution_start_time": "2025-03-20T10:23:36.4886407Z",
              "execution_finish_time": "2025-03-20T10:23:41.2000531Z",
              "parent_msg_id": "4a131f6f-2fb2-4957-a3ee-93aea38359ca"
            },
            "text/plain": "StatementMeta(sparkpool, 72, 13, Finished, Available, Finished)"
          },
          "metadata": {}
        },
        {
          "output_type": "execute_result",
          "execution_count": 12,
          "data": {
            "application/vnd.synapse.sparksql-result+json": {
              "schema": {
                "type": "struct",
                "fields": []
              },
              "data": []
            },
            "text/plain": "<Spark SQL result set with 0 rows and 0 fields>"
          },
          "metadata": {}
        }
      ],
      "execution_count": 12,
      "metadata": {
        "microsoft": {
          "language": "sparksql"
        },
        "collapsed": false
      }
    },
    {
      "cell_type": "code",
      "source": [
        "%%sql\n",
        "-- SCD Type 2: Insert new rows (new records)\n",
        "WITH max_key AS (  \n",
        "    SELECT COALESCE(MAX(PurchaseOrderLineKey), 0) AS max_id FROM silver.PurchaseOrderLines  \n",
        "),  \n",
        "new_data AS (  \n",
        "    SELECT  \n",
        "        source.PurchaseOrderLineID,  \n",
        "        source.PurchaseOrderID,  \n",
        "        source.StockItemID,  \n",
        "        source.OrderedOuters,  \n",
        "        source.Description,  \n",
        "        source.ReceivedOuters,  \n",
        "        source.PackageTypeID,  \n",
        "        source.ExpectedUnitPricePerOuter,  \n",
        "        source.LastReceiptDate,  \n",
        "        source.IsOrderLineFinalized,  \n",
        "        source.last_updated,  \n",
        "        FROM_UTC_TIMESTAMP(current_timestamp(), 'Asia/Ho_Chi_Minh') AS start_date,  \n",
        "        NULL AS end_date,  \n",
        "        true AS is_active,  \n",
        "        ROW_NUMBER() OVER (ORDER BY source.PurchaseOrderLineID) AS rn  \n",
        "    FROM v_bronze_PurchaseOrderLines AS source  \n",
        "    LEFT JOIN silver.PurchaseOrderLines AS target  \n",
        "        ON source.PurchaseOrderLineID = target.PurchaseOrderLineID  \n",
        "        AND target.is_active = true  \n",
        "    WHERE target.PurchaseOrderLineID IS NULL  \n",
        "       OR target.PurchaseOrderID <> source.PurchaseOrderID  \n",
        "       OR target.StockItemID <> source.StockItemID  \n",
        "       OR target.OrderedOuters <> source.OrderedOuters  \n",
        "       OR target.Description <> source.Description  \n",
        "       OR target.ReceivedOuters <> source.ReceivedOuters  \n",
        "       OR target.PackageTypeID <> source.PackageTypeID  \n",
        "       OR target.ExpectedUnitPricePerOuter <> source.ExpectedUnitPricePerOuter  \n",
        "       OR target.LastReceiptDate <> source.LastReceiptDate  \n",
        "       OR target.IsOrderLineFinalized <> source.IsOrderLineFinalized  \n",
        "       OR target.last_updated <> source.last_updated  \n",
        ")  \n",
        "INSERT INTO silver.PurchaseOrderLines  \n",
        "SELECT  \n",
        "    max_key.max_id + new_data.rn AS PurchaseOrderLineKey,  \n",
        "    new_data.PurchaseOrderLineID,  \n",
        "    new_data.PurchaseOrderID,  \n",
        "    new_data.StockItemID,  \n",
        "    new_data.OrderedOuters,  \n",
        "    new_data.Description,  \n",
        "    new_data.ReceivedOuters,  \n",
        "    new_data.PackageTypeID,  \n",
        "    new_data.ExpectedUnitPricePerOuter,  \n",
        "    new_data.LastReceiptDate,  \n",
        "    new_data.IsOrderLineFinalized,  \n",
        "    new_data.last_updated,  \n",
        "    new_data.start_date,  \n",
        "    new_data.end_date,  \n",
        "    new_data.is_active  \n",
        "FROM new_data  \n",
        "CROSS JOIN max_key;"
      ],
      "outputs": [
        {
          "output_type": "display_data",
          "data": {
            "application/vnd.livy.statement-meta+json": {
              "spark_pool": "sparkpool",
              "statement_id": 14,
              "statement_ids": [
                14
              ],
              "state": "finished",
              "livy_statement_state": "available",
              "spark_jobs": null,
              "session_id": "72",
              "normalized_state": "finished",
              "queued_time": "2025-03-20T10:22:57.5411457Z",
              "session_start_time": null,
              "execution_start_time": "2025-03-20T10:23:41.2021883Z",
              "execution_finish_time": "2025-03-20T10:23:48.0933739Z",
              "parent_msg_id": "6c250f76-255d-43fb-8e0e-c3c05795ebfa"
            },
            "text/plain": "StatementMeta(sparkpool, 72, 14, Finished, Available, Finished)"
          },
          "metadata": {}
        },
        {
          "output_type": "execute_result",
          "execution_count": 13,
          "data": {
            "application/vnd.synapse.sparksql-result+json": {
              "schema": {
                "type": "struct",
                "fields": []
              },
              "data": []
            },
            "text/plain": "<Spark SQL result set with 0 rows and 0 fields>"
          },
          "metadata": {}
        }
      ],
      "execution_count": 13,
      "metadata": {
        "microsoft": {
          "language": "sparksql"
        },
        "collapsed": false
      }
    },
    {
      "cell_type": "code",
      "source": [
        "# Write to a Parquet file in the Silver layer of the storage account\n",
        "df_PurchaseOrderLines = spark.sql(\"SELECT * FROM silver.PurchaseOrderLines\")\n",
        "df_PurchaseOrderLines.repartition(1).write.mode(\"overwrite\").parquet(\"abfss://final@bibik224161840.dfs.core.windows.net/silver/silver.PurchaseOrderLines.parquet\")"
      ],
      "outputs": [
        {
          "output_type": "display_data",
          "data": {
            "application/vnd.livy.statement-meta+json": {
              "spark_pool": "sparkpool",
              "statement_id": 15,
              "statement_ids": [
                15
              ],
              "state": "finished",
              "livy_statement_state": "available",
              "spark_jobs": null,
              "session_id": "72",
              "normalized_state": "finished",
              "queued_time": "2025-03-20T10:22:57.6361295Z",
              "session_start_time": null,
              "execution_start_time": "2025-03-20T10:23:48.0953472Z",
              "execution_finish_time": "2025-03-20T10:23:50.7350039Z",
              "parent_msg_id": "baab229b-a2bb-48a6-a89f-661c4c3d5172"
            },
            "text/plain": "StatementMeta(sparkpool, 72, 15, Finished, Available, Finished)"
          },
          "metadata": {}
        }
      ],
      "execution_count": 14,
      "metadata": {}
    }
  ],
  "metadata": {
    "kernelspec": {
      "name": "synapse_pyspark",
      "language": "Python",
      "display_name": "Synapse PySpark"
    },
    "language_info": {
      "name": "python"
    },
    "kernel_info": {
      "name": "synapse_pyspark"
    },
    "description": null,
    "save_output": true,
    "synapse_widget": {
      "version": "0.1",
      "state": {}
    }
  },
  "nbformat": 4,
  "nbformat_minor": 2
}