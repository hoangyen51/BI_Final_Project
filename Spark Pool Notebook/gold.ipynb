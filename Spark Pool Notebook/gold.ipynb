{
  "cells": [
    {
      "cell_type": "markdown",
      "source": [
        "# 1. dimDeliveryMethods"
      ],
      "metadata": {
        "nteract": {
          "transient": {
            "deleting": false
          }
        }
      }
    },
    {
      "cell_type": "code",
      "source": [
        "%%sql\n",
        "-- Create table in Lake Database\n",
        "CREATE TABLE IF NOT EXISTS gold.dim_DeliveryMethods (\n",
        "    DeliveryMethodKey int, \n",
        "    DeliveryMethodID int,\n",
        "    DeliveryMethodName string,\n",
        "    start_date timestamp,\n",
        "    end_date timestamp,\n",
        "    is_active boolean\n",
        ")"
      ],
      "outputs": [
        {
          "output_type": "display_data",
          "data": {
            "application/vnd.livy.statement-meta+json": {
              "spark_pool": "sparkpool",
              "statement_id": 1,
              "statement_ids": [
                1
              ],
              "state": "finished",
              "livy_statement_state": "available",
              "spark_jobs": null,
              "session_id": "74",
              "normalized_state": "finished",
              "queued_time": "2025-03-20T10:26:56.3395506Z",
              "session_start_time": "2025-03-20T10:26:56.3409179Z",
              "execution_start_time": "2025-03-20T10:27:55.9627944Z",
              "execution_finish_time": "2025-03-20T10:28:02.823928Z",
              "parent_msg_id": "3a4fcaaa-64d2-4a1b-a046-2813df5403c1"
            },
            "text/plain": "StatementMeta(sparkpool, 74, 1, Finished, Available, Finished)"
          },
          "metadata": {}
        },
        {
          "output_type": "execute_result",
          "execution_count": 39,
          "data": {
            "application/vnd.synapse.sparksql-result+json": {
              "schema": {
                "type": "struct",
                "fields": []
              },
              "data": []
            },
            "text/plain": "<Spark SQL result set with 0 rows and 0 fields>"
          },
          "metadata": {}
        }
      ],
      "execution_count": 39,
      "metadata": {
        "microsoft": {
          "language": "sparksql"
        },
        "collapsed": false
      }
    },
    {
      "cell_type": "code",
      "source": [
        "%%sql\n",
        "-- Clear all data from the dimension table before inserting fresh data\n",
        "TRUNCATE TABLE gold.dim_DeliveryMethods "
      ],
      "outputs": [
        {
          "output_type": "display_data",
          "data": {
            "application/vnd.livy.statement-meta+json": {
              "spark_pool": "sparkpool",
              "statement_id": 2,
              "statement_ids": [
                2
              ],
              "state": "finished",
              "livy_statement_state": "available",
              "spark_jobs": null,
              "session_id": "74",
              "normalized_state": "finished",
              "queued_time": "2025-03-20T10:26:56.4443286Z",
              "session_start_time": null,
              "execution_start_time": "2025-03-20T10:28:02.8259358Z",
              "execution_finish_time": "2025-03-20T10:28:05.6666682Z",
              "parent_msg_id": "96eb2213-3fc1-4eab-b79a-2f484d8dc286"
            },
            "text/plain": "StatementMeta(sparkpool, 74, 2, Finished, Available, Finished)"
          },
          "metadata": {}
        },
        {
          "output_type": "execute_result",
          "execution_count": 40,
          "data": {
            "application/vnd.synapse.sparksql-result+json": {
              "schema": {
                "type": "struct",
                "fields": []
              },
              "data": []
            },
            "text/plain": "<Spark SQL result set with 0 rows and 0 fields>"
          },
          "metadata": {}
        }
      ],
      "execution_count": 40,
      "metadata": {
        "microsoft": {
          "language": "sparksql"
        },
        "collapsed": false
      }
    },
    {
      "cell_type": "code",
      "source": [
        "%%sql\n",
        "-- Insert data from the Silver Layer into the Gold Layer\n",
        "INSERT INTO gold.dim_DeliveryMethods\n",
        "SELECT \n",
        "    DeliveryMethodKey,\n",
        "    DeliveryMethodID,\n",
        "    DeliveryMethodName,\n",
        "    start_date,\n",
        "    end_date,\n",
        "    is_active\n",
        "FROM silver.DeliveryMethods;"
      ],
      "outputs": [
        {
          "output_type": "display_data",
          "data": {
            "application/vnd.livy.statement-meta+json": {
              "spark_pool": "sparkpool",
              "statement_id": 3,
              "statement_ids": [
                3
              ],
              "state": "finished",
              "livy_statement_state": "available",
              "spark_jobs": null,
              "session_id": "74",
              "normalized_state": "finished",
              "queued_time": "2025-03-20T10:26:56.5322432Z",
              "session_start_time": null,
              "execution_start_time": "2025-03-20T10:28:05.668465Z",
              "execution_finish_time": "2025-03-20T10:28:16.2762018Z",
              "parent_msg_id": "4c32146c-6402-4cb9-8552-174b3fe690b1"
            },
            "text/plain": "StatementMeta(sparkpool, 74, 3, Finished, Available, Finished)"
          },
          "metadata": {}
        },
        {
          "output_type": "execute_result",
          "execution_count": 41,
          "data": {
            "application/vnd.synapse.sparksql-result+json": {
              "schema": {
                "type": "struct",
                "fields": []
              },
              "data": []
            },
            "text/plain": "<Spark SQL result set with 0 rows and 0 fields>"
          },
          "metadata": {}
        }
      ],
      "execution_count": 41,
      "metadata": {
        "microsoft": {
          "language": "sparksql"
        },
        "collapsed": false
      }
    },
    {
      "cell_type": "code",
      "source": [
        "# Write to a Parquet file in the Gold layer of the storage account\n",
        "df_dim_DeliveryMethods = spark.sql(\"SELECT * FROM gold.dim_DeliveryMethods\")\n",
        "df_dim_DeliveryMethods.repartition(1).write.mode(\"overwrite\").parquet(\"abfss://final@bibik224161840.dfs.core.windows.net/gold/gold.dimDeliveryMethods.parquet\")"
      ],
      "outputs": [
        {
          "output_type": "display_data",
          "data": {
            "application/vnd.livy.statement-meta+json": {
              "spark_pool": "sparkpool",
              "statement_id": 5,
              "statement_ids": [
                5
              ],
              "state": "finished",
              "livy_statement_state": "available",
              "spark_jobs": null,
              "session_id": "74",
              "normalized_state": "finished",
              "queued_time": "2025-03-20T10:26:56.6471819Z",
              "session_start_time": null,
              "execution_start_time": "2025-03-20T10:28:24.1507054Z",
              "execution_finish_time": "2025-03-20T10:28:28.1170109Z",
              "parent_msg_id": "39291960-40e0-454c-8186-4b011fa934c1"
            },
            "text/plain": "StatementMeta(sparkpool, 74, 5, Finished, Available, Finished)"
          },
          "metadata": {}
        }
      ],
      "execution_count": 42,
      "metadata": {}
    },
    {
      "cell_type": "markdown",
      "source": [
        "# 2. dimPaymentMethods"
      ],
      "metadata": {
        "nteract": {
          "transient": {
            "deleting": false
          }
        }
      }
    },
    {
      "cell_type": "code",
      "source": [
        "%%sql\n",
        "-- Create table in Lake Database\n",
        "CREATE TABLE IF NOT EXISTS gold.dim_PaymentMethods (\n",
        "    PaymentMethodKey int, \n",
        "    PaymentMethodID int,\n",
        "    PaymentMethodName string,\n",
        "    start_date timestamp,\n",
        "    end_date timestamp,\n",
        "    is_active boolean\n",
        ")"
      ],
      "outputs": [
        {
          "output_type": "display_data",
          "data": {
            "application/vnd.livy.statement-meta+json": {
              "spark_pool": "sparkpool",
              "statement_id": 6,
              "statement_ids": [
                6
              ],
              "state": "finished",
              "livy_statement_state": "available",
              "spark_jobs": null,
              "session_id": "74",
              "normalized_state": "finished",
              "queued_time": "2025-03-20T10:26:56.8693452Z",
              "session_start_time": null,
              "execution_start_time": "2025-03-20T10:28:28.1290566Z",
              "execution_finish_time": "2025-03-20T10:28:29.9784609Z",
              "parent_msg_id": "1486b990-e49a-41ca-9ee8-d979767da2a8"
            },
            "text/plain": "StatementMeta(sparkpool, 74, 6, Finished, Available, Finished)"
          },
          "metadata": {}
        },
        {
          "output_type": "execute_result",
          "execution_count": 43,
          "data": {
            "application/vnd.synapse.sparksql-result+json": {
              "schema": {
                "type": "struct",
                "fields": []
              },
              "data": []
            },
            "text/plain": "<Spark SQL result set with 0 rows and 0 fields>"
          },
          "metadata": {}
        }
      ],
      "execution_count": 43,
      "metadata": {
        "microsoft": {
          "language": "sparksql"
        },
        "collapsed": false
      }
    },
    {
      "cell_type": "code",
      "source": [
        "%%sql\n",
        "-- Clear all data from the dimension table before inserting fresh data\n",
        "TRUNCATE TABLE gold.dim_PaymentMethods "
      ],
      "outputs": [
        {
          "output_type": "display_data",
          "data": {
            "application/vnd.livy.statement-meta+json": {
              "spark_pool": "sparkpool",
              "statement_id": 7,
              "statement_ids": [
                7
              ],
              "state": "finished",
              "livy_statement_state": "available",
              "spark_jobs": null,
              "session_id": "74",
              "normalized_state": "finished",
              "queued_time": "2025-03-20T10:26:57.0127058Z",
              "session_start_time": null,
              "execution_start_time": "2025-03-20T10:28:29.9802138Z",
              "execution_finish_time": "2025-03-20T10:28:31.8209544Z",
              "parent_msg_id": "57dbba1a-047a-4630-9f96-0da87b82ca82"
            },
            "text/plain": "StatementMeta(sparkpool, 74, 7, Finished, Available, Finished)"
          },
          "metadata": {}
        },
        {
          "output_type": "execute_result",
          "execution_count": 44,
          "data": {
            "application/vnd.synapse.sparksql-result+json": {
              "schema": {
                "type": "struct",
                "fields": []
              },
              "data": []
            },
            "text/plain": "<Spark SQL result set with 0 rows and 0 fields>"
          },
          "metadata": {}
        }
      ],
      "execution_count": 44,
      "metadata": {
        "microsoft": {
          "language": "sparksql"
        },
        "collapsed": false
      }
    },
    {
      "cell_type": "code",
      "source": [
        "%%sql\n",
        "-- Insert data from the Silver Layer into the Gold Layer\n",
        "INSERT INTO gold.dim_PaymentMethods\n",
        "SELECT \n",
        "    PaymentMethodKey,\n",
        "    PaymentMethodID,\n",
        "    PaymentMethodName,\n",
        "    start_date,\n",
        "    end_date,\n",
        "    is_active\n",
        "FROM silver.PaymentMethods;"
      ],
      "outputs": [
        {
          "output_type": "display_data",
          "data": {
            "application/vnd.livy.statement-meta+json": {
              "spark_pool": "sparkpool",
              "statement_id": 8,
              "statement_ids": [
                8
              ],
              "state": "finished",
              "livy_statement_state": "available",
              "spark_jobs": null,
              "session_id": "74",
              "normalized_state": "finished",
              "queued_time": "2025-03-20T10:26:57.1556464Z",
              "session_start_time": null,
              "execution_start_time": "2025-03-20T10:28:31.8228291Z",
              "execution_finish_time": "2025-03-20T10:28:37.1659321Z",
              "parent_msg_id": "0cc78574-8192-40ca-8057-2c766a14ba5f"
            },
            "text/plain": "StatementMeta(sparkpool, 74, 8, Finished, Available, Finished)"
          },
          "metadata": {}
        },
        {
          "output_type": "execute_result",
          "execution_count": 45,
          "data": {
            "application/vnd.synapse.sparksql-result+json": {
              "schema": {
                "type": "struct",
                "fields": []
              },
              "data": []
            },
            "text/plain": "<Spark SQL result set with 0 rows and 0 fields>"
          },
          "metadata": {}
        }
      ],
      "execution_count": 45,
      "metadata": {
        "microsoft": {
          "language": "sparksql"
        },
        "collapsed": false
      }
    },
    {
      "cell_type": "code",
      "source": [
        "# Write to a Parquet file in the Gold layer of the storage account\n",
        "df_dim_PaymentMethods = spark.sql(\"SELECT * FROM gold.dim_PaymentMethods\")\n",
        "df_dim_PaymentMethods.repartition(1).write.mode(\"overwrite\").parquet(\"abfss://final@bibik224161840.dfs.core.windows.net/gold/gold.dimPaymentMethods.parquet\")"
      ],
      "outputs": [
        {
          "output_type": "display_data",
          "data": {
            "application/vnd.livy.statement-meta+json": {
              "spark_pool": "sparkpool",
              "statement_id": 9,
              "statement_ids": [
                9
              ],
              "state": "finished",
              "livy_statement_state": "available",
              "spark_jobs": null,
              "session_id": "74",
              "normalized_state": "finished",
              "queued_time": "2025-03-20T10:26:57.2728102Z",
              "session_start_time": null,
              "execution_start_time": "2025-03-20T10:28:37.1677236Z",
              "execution_finish_time": "2025-03-20T10:28:39.0738531Z",
              "parent_msg_id": "435b5712-a7f5-48a0-9ebe-d77993a03883"
            },
            "text/plain": "StatementMeta(sparkpool, 74, 9, Finished, Available, Finished)"
          },
          "metadata": {}
        }
      ],
      "execution_count": 46,
      "metadata": {}
    },
    {
      "cell_type": "markdown",
      "source": [
        "# 3. dimEmployees"
      ],
      "metadata": {
        "nteract": {
          "transient": {
            "deleting": false
          }
        }
      }
    },
    {
      "cell_type": "code",
      "source": [
        "%%sql\n",
        "-- Create table in Lake Database\n",
        "CREATE TABLE IF NOT EXISTS gold.dim_Employees (\n",
        "    EmployeeKey INT,         \n",
        "    EmployeeID INT,          \n",
        "    FullName STRING,         \n",
        "    PreferredName STRING,    \n",
        "    SearchName STRING,       \n",
        "    IsPermittedToLogon BOOLEAN,  \n",
        "    LogonName STRING,        \n",
        "    IsExternalLogonProvider BOOLEAN,  \n",
        "    HashedPassword BINARY,   \n",
        "    IsSystemUser BOOLEAN,    \n",
        "    IsEmployee BOOLEAN,      \n",
        "    IsSalesperson BOOLEAN,   \n",
        "    UserPreferences STRING,  \n",
        "    PhoneNumber STRING,      \n",
        "    FaxNumber STRING,        \n",
        "    EmailAddress STRING,     \n",
        "    start_date TIMESTAMP,    \n",
        "    end_date TIMESTAMP,      \n",
        "    is_active BOOLEAN        \n",
        ");"
      ],
      "outputs": [
        {
          "output_type": "display_data",
          "data": {
            "application/vnd.livy.statement-meta+json": {
              "spark_pool": "sparkpool",
              "statement_id": 10,
              "statement_ids": [
                10
              ],
              "state": "finished",
              "livy_statement_state": "available",
              "spark_jobs": null,
              "session_id": "74",
              "normalized_state": "finished",
              "queued_time": "2025-03-20T10:26:57.3747571Z",
              "session_start_time": null,
              "execution_start_time": "2025-03-20T10:28:39.0838471Z",
              "execution_finish_time": "2025-03-20T10:28:40.1784987Z",
              "parent_msg_id": "c0f2dcb4-b46d-476d-979a-5120032b8fbc"
            },
            "text/plain": "StatementMeta(sparkpool, 74, 10, Finished, Available, Finished)"
          },
          "metadata": {}
        },
        {
          "output_type": "execute_result",
          "execution_count": 47,
          "data": {
            "application/vnd.synapse.sparksql-result+json": {
              "schema": {
                "type": "struct",
                "fields": []
              },
              "data": []
            },
            "text/plain": "<Spark SQL result set with 0 rows and 0 fields>"
          },
          "metadata": {}
        }
      ],
      "execution_count": 47,
      "metadata": {
        "microsoft": {
          "language": "sparksql"
        },
        "collapsed": false
      }
    },
    {
      "cell_type": "code",
      "source": [
        "%%sql\n",
        "-- Clear all data from the dimension table before inserting fresh data\n",
        "TRUNCATE TABLE gold.dim_Employees;"
      ],
      "outputs": [
        {
          "output_type": "display_data",
          "data": {
            "application/vnd.livy.statement-meta+json": {
              "spark_pool": "sparkpool",
              "statement_id": 11,
              "statement_ids": [
                11
              ],
              "state": "finished",
              "livy_statement_state": "available",
              "spark_jobs": null,
              "session_id": "74",
              "normalized_state": "finished",
              "queued_time": "2025-03-20T10:26:57.4725533Z",
              "session_start_time": null,
              "execution_start_time": "2025-03-20T10:28:40.1801942Z",
              "execution_finish_time": "2025-03-20T10:28:42.0694033Z",
              "parent_msg_id": "4788aa0c-4519-428f-aedb-9e6e02882fb2"
            },
            "text/plain": "StatementMeta(sparkpool, 74, 11, Finished, Available, Finished)"
          },
          "metadata": {}
        },
        {
          "output_type": "execute_result",
          "execution_count": 48,
          "data": {
            "application/vnd.synapse.sparksql-result+json": {
              "schema": {
                "type": "struct",
                "fields": []
              },
              "data": []
            },
            "text/plain": "<Spark SQL result set with 0 rows and 0 fields>"
          },
          "metadata": {}
        }
      ],
      "execution_count": 48,
      "metadata": {
        "microsoft": {
          "language": "sparksql"
        },
        "collapsed": false
      }
    },
    {
      "cell_type": "code",
      "source": [
        "%%sql\n",
        "-- Insert data from the Silver Layer into the Gold Layer\n",
        "INSERT INTO gold.dim_Employees\n",
        "SELECT\n",
        "    PersonKey AS EmployeeKey,       \n",
        "    PersonID AS EmployeeID,         \n",
        "    FullName,                       \n",
        "    PreferredName,                  \n",
        "    SearchName,                     \n",
        "    IsPermittedToLogon,             \n",
        "    LogonName,                      \n",
        "    IsExternalLogonProvider,        \n",
        "    HashedPassword,                 \n",
        "    IsSystemUser,                   \n",
        "    IsEmployee,                     \n",
        "    IsSalesperson,                  \n",
        "    UserPreferences,                \n",
        "    PhoneNumber,                    \n",
        "    FaxNumber,                      \n",
        "    EmailAddress,                   \n",
        "    start_date,\n",
        "    end_date,\n",
        "    is_active\n",
        "FROM silver.People;\n"
      ],
      "outputs": [
        {
          "output_type": "display_data",
          "data": {
            "application/vnd.livy.statement-meta+json": {
              "spark_pool": "sparkpool",
              "statement_id": 12,
              "statement_ids": [
                12
              ],
              "state": "finished",
              "livy_statement_state": "available",
              "spark_jobs": null,
              "session_id": "74",
              "normalized_state": "finished",
              "queued_time": "2025-03-20T10:26:57.7129434Z",
              "session_start_time": null,
              "execution_start_time": "2025-03-20T10:28:42.0712049Z",
              "execution_finish_time": "2025-03-20T10:28:47.3651821Z",
              "parent_msg_id": "f137fa80-b05a-4670-88e1-6367bd8a7b87"
            },
            "text/plain": "StatementMeta(sparkpool, 74, 12, Finished, Available, Finished)"
          },
          "metadata": {}
        },
        {
          "output_type": "execute_result",
          "execution_count": 49,
          "data": {
            "application/vnd.synapse.sparksql-result+json": {
              "schema": {
                "type": "struct",
                "fields": []
              },
              "data": []
            },
            "text/plain": "<Spark SQL result set with 0 rows and 0 fields>"
          },
          "metadata": {}
        }
      ],
      "execution_count": 49,
      "metadata": {
        "microsoft": {
          "language": "sparksql"
        },
        "collapsed": false
      }
    },
    {
      "cell_type": "code",
      "source": [
        "# Write to a Parquet file in the Gold layer of the storage account\n",
        "df_dim_Employees = spark.sql(\"SELECT * FROM gold.dim_Employees\")\n",
        "df_dim_Employees.repartition(1).write.mode(\"overwrite\").parquet(\"abfss://final@bibik224161840.dfs.core.windows.net/gold/gold.dimEmployees.parquet\")"
      ],
      "outputs": [
        {
          "output_type": "display_data",
          "data": {
            "application/vnd.livy.statement-meta+json": {
              "spark_pool": "sparkpool",
              "statement_id": 13,
              "statement_ids": [
                13
              ],
              "state": "finished",
              "livy_statement_state": "available",
              "spark_jobs": null,
              "session_id": "74",
              "normalized_state": "finished",
              "queued_time": "2025-03-20T10:26:57.7136772Z",
              "session_start_time": null,
              "execution_start_time": "2025-03-20T10:28:47.3671948Z",
              "execution_finish_time": "2025-03-20T10:28:50.2461437Z",
              "parent_msg_id": "1612977d-bfd2-4cdc-b3b2-44e6f89ee44d"
            },
            "text/plain": "StatementMeta(sparkpool, 74, 13, Finished, Available, Finished)"
          },
          "metadata": {}
        }
      ],
      "execution_count": 50,
      "metadata": {}
    },
    {
      "cell_type": "markdown",
      "source": [
        "# 4. dimLocation"
      ],
      "metadata": {
        "nteract": {
          "transient": {
            "deleting": false
          }
        }
      }
    },
    {
      "cell_type": "code",
      "source": [
        "%%sql\n",
        "-- Create table in Lake Database\n",
        "CREATE TABLE IF NOT EXISTS gold.dim_Location (\n",
        "    CityKey INT, \n",
        "    CityID INT,\n",
        "    CityName STRING,\n",
        "    StateProvinceName STRING,\n",
        "    StateProvinceCode STRING,\n",
        "    CountryName STRING,\n",
        "    Continent STRING,\n",
        "    Region STRING,\n",
        "    Subregion STRING,\n",
        "    start_date TIMESTAMP,    \n",
        "    end_date TIMESTAMP,      \n",
        "    is_active BOOLEAN);"
      ],
      "outputs": [
        {
          "output_type": "display_data",
          "data": {
            "application/vnd.livy.statement-meta+json": {
              "spark_pool": "sparkpool",
              "statement_id": 14,
              "statement_ids": [
                14
              ],
              "state": "finished",
              "livy_statement_state": "available",
              "spark_jobs": null,
              "session_id": "74",
              "normalized_state": "finished",
              "queued_time": "2025-03-20T10:26:57.7555146Z",
              "session_start_time": null,
              "execution_start_time": "2025-03-20T10:28:50.256982Z",
              "execution_finish_time": "2025-03-20T10:28:51.3706962Z",
              "parent_msg_id": "c0dba614-a78a-4849-9d83-4459e48d5ae4"
            },
            "text/plain": "StatementMeta(sparkpool, 74, 14, Finished, Available, Finished)"
          },
          "metadata": {}
        },
        {
          "output_type": "execute_result",
          "execution_count": 51,
          "data": {
            "application/vnd.synapse.sparksql-result+json": {
              "schema": {
                "type": "struct",
                "fields": []
              },
              "data": []
            },
            "text/plain": "<Spark SQL result set with 0 rows and 0 fields>"
          },
          "metadata": {}
        }
      ],
      "execution_count": 51,
      "metadata": {
        "microsoft": {
          "language": "sparksql"
        },
        "collapsed": false
      }
    },
    {
      "cell_type": "code",
      "source": [
        "%%sql\n",
        "-- Clear all data from the dimension table before inserting fresh data\n",
        "TRUNCATE TABLE gold.dim_Location;"
      ],
      "outputs": [
        {
          "output_type": "display_data",
          "data": {
            "application/vnd.livy.statement-meta+json": {
              "spark_pool": "sparkpool",
              "statement_id": 15,
              "statement_ids": [
                15
              ],
              "state": "finished",
              "livy_statement_state": "available",
              "spark_jobs": null,
              "session_id": "74",
              "normalized_state": "finished",
              "queued_time": "2025-03-20T10:26:57.8976011Z",
              "session_start_time": null,
              "execution_start_time": "2025-03-20T10:28:51.3723403Z",
              "execution_finish_time": "2025-03-20T10:28:53.4233611Z",
              "parent_msg_id": "d09b26a8-0f2f-430e-9bc7-1d0f9720173f"
            },
            "text/plain": "StatementMeta(sparkpool, 74, 15, Finished, Available, Finished)"
          },
          "metadata": {}
        },
        {
          "output_type": "execute_result",
          "execution_count": 52,
          "data": {
            "application/vnd.synapse.sparksql-result+json": {
              "schema": {
                "type": "struct",
                "fields": []
              },
              "data": []
            },
            "text/plain": "<Spark SQL result set with 0 rows and 0 fields>"
          },
          "metadata": {}
        }
      ],
      "execution_count": 52,
      "metadata": {
        "microsoft": {
          "language": "sparksql"
        },
        "collapsed": false
      }
    },
    {
      "cell_type": "code",
      "source": [
        "%%sql\n",
        "-- Insert data from the Silver Layer into the Gold Layer\n",
        "INSERT INTO gold.dim_Location\n",
        "SELECT\n",
        "    c.CityKey, \n",
        "    c.CityID,\n",
        "    c.CityName,\n",
        "    s.StateProvinceName,\n",
        "    s.StateProvinceCode,\n",
        "    co.CountryName,\n",
        "    co.Continent,\n",
        "    co.Region,\n",
        "    co.Subregion,\n",
        "    c.start_date,\n",
        "    c.end_date,\n",
        "    c.is_active\n",
        "FROM silver.Cities c\n",
        "JOIN silver.StateProvinces s ON c.StateProvinceID = s.StateProvinceID\n",
        "JOIN silver.Countries co ON s.CountryID = co.CountryID;"
      ],
      "outputs": [
        {
          "output_type": "display_data",
          "data": {
            "application/vnd.livy.statement-meta+json": {
              "spark_pool": "sparkpool",
              "statement_id": 16,
              "statement_ids": [
                16
              ],
              "state": "finished",
              "livy_statement_state": "available",
              "spark_jobs": null,
              "session_id": "74",
              "normalized_state": "finished",
              "queued_time": "2025-03-20T10:26:57.954584Z",
              "session_start_time": null,
              "execution_start_time": "2025-03-20T10:28:53.4250592Z",
              "execution_finish_time": "2025-03-20T10:29:00.3222659Z",
              "parent_msg_id": "e950cc4b-5b9d-454d-be2b-fd70c293d1b6"
            },
            "text/plain": "StatementMeta(sparkpool, 74, 16, Finished, Available, Finished)"
          },
          "metadata": {}
        },
        {
          "output_type": "execute_result",
          "execution_count": 53,
          "data": {
            "application/vnd.synapse.sparksql-result+json": {
              "schema": {
                "type": "struct",
                "fields": []
              },
              "data": []
            },
            "text/plain": "<Spark SQL result set with 0 rows and 0 fields>"
          },
          "metadata": {}
        }
      ],
      "execution_count": 53,
      "metadata": {
        "microsoft": {
          "language": "sparksql"
        },
        "collapsed": false
      }
    },
    {
      "cell_type": "code",
      "source": [
        "# Write to a Parquet file in the Gold layer of the storage account\n",
        "df_dim_Location = spark.sql(\"SELECT * FROM gold.dim_Location\")\n",
        "df_dim_Location.repartition(1).write.mode(\"overwrite\").parquet(\"abfss://final@bibik224161840.dfs.core.windows.net/gold/gold.dimLocation.parquet\")"
      ],
      "outputs": [
        {
          "output_type": "display_data",
          "data": {
            "application/vnd.livy.statement-meta+json": {
              "spark_pool": "sparkpool",
              "statement_id": 17,
              "statement_ids": [
                17
              ],
              "state": "finished",
              "livy_statement_state": "available",
              "spark_jobs": null,
              "session_id": "74",
              "normalized_state": "finished",
              "queued_time": "2025-03-20T10:26:58.0663028Z",
              "session_start_time": null,
              "execution_start_time": "2025-03-20T10:29:00.3242965Z",
              "execution_finish_time": "2025-03-20T10:29:03.1929072Z",
              "parent_msg_id": "bc7ac9bc-31ad-4b19-858b-eb8fa7e102ee"
            },
            "text/plain": "StatementMeta(sparkpool, 74, 17, Finished, Available, Finished)"
          },
          "metadata": {}
        }
      ],
      "execution_count": 54,
      "metadata": {}
    },
    {
      "cell_type": "markdown",
      "source": [
        "# 5. dimStatus"
      ],
      "metadata": {
        "nteract": {
          "transient": {
            "deleting": false
          }
        }
      }
    },
    {
      "cell_type": "code",
      "source": [
        "%%sql\n",
        "-- Create table in Lake Database\n",
        "CREATE TABLE IF NOT EXISTS gold.dim_Status (\n",
        "    StatusKey INT,      \n",
        "    StatusID INT,    \n",
        "    Status STRING,\n",
        "    Description STRING,\n",
        "    start_date timestamp,\n",
        "    end_date timestamp,\n",
        "    is_active boolean \n",
        ");"
      ],
      "outputs": [
        {
          "output_type": "display_data",
          "data": {
            "application/vnd.livy.statement-meta+json": {
              "spark_pool": "sparkpool",
              "statement_id": 18,
              "statement_ids": [
                18
              ],
              "state": "finished",
              "livy_statement_state": "available",
              "spark_jobs": null,
              "session_id": "74",
              "normalized_state": "finished",
              "queued_time": "2025-03-20T10:26:58.2148158Z",
              "session_start_time": null,
              "execution_start_time": "2025-03-20T10:29:03.2039667Z",
              "execution_finish_time": "2025-03-20T10:29:04.3066071Z",
              "parent_msg_id": "42551e22-19b0-455b-beb9-44c4f5cd6ead"
            },
            "text/plain": "StatementMeta(sparkpool, 74, 18, Finished, Available, Finished)"
          },
          "metadata": {}
        },
        {
          "output_type": "execute_result",
          "execution_count": 55,
          "data": {
            "application/vnd.synapse.sparksql-result+json": {
              "schema": {
                "type": "struct",
                "fields": []
              },
              "data": []
            },
            "text/plain": "<Spark SQL result set with 0 rows and 0 fields>"
          },
          "metadata": {}
        }
      ],
      "execution_count": 55,
      "metadata": {
        "microsoft": {
          "language": "sparksql"
        },
        "collapsed": false
      }
    },
    {
      "cell_type": "code",
      "source": [
        "%%sql\n",
        "-- Clear all data from the dimension table before inserting fresh data\n",
        "TRUNCATE TABLE gold.dim_Status "
      ],
      "outputs": [
        {
          "output_type": "display_data",
          "data": {
            "application/vnd.livy.statement-meta+json": {
              "spark_pool": "sparkpool",
              "statement_id": 19,
              "statement_ids": [
                19
              ],
              "state": "finished",
              "livy_statement_state": "available",
              "spark_jobs": null,
              "session_id": "74",
              "normalized_state": "finished",
              "queued_time": "2025-03-20T10:26:58.3386157Z",
              "session_start_time": null,
              "execution_start_time": "2025-03-20T10:29:04.3084184Z",
              "execution_finish_time": "2025-03-20T10:29:06.1977071Z",
              "parent_msg_id": "d1fb32e8-516c-4c79-b8d1-0ea48bf0b563"
            },
            "text/plain": "StatementMeta(sparkpool, 74, 19, Finished, Available, Finished)"
          },
          "metadata": {}
        },
        {
          "output_type": "execute_result",
          "execution_count": 56,
          "data": {
            "application/vnd.synapse.sparksql-result+json": {
              "schema": {
                "type": "struct",
                "fields": []
              },
              "data": []
            },
            "text/plain": "<Spark SQL result set with 0 rows and 0 fields>"
          },
          "metadata": {}
        }
      ],
      "execution_count": 56,
      "metadata": {
        "microsoft": {
          "language": "sparksql"
        },
        "collapsed": false
      }
    },
    {
      "cell_type": "code",
      "source": [
        "%%sql\n",
        "-- Insert predefined status values into the Gold Layer\n",
        "INSERT INTO gold.dim_Status (StatusKey, StatusID, Status, Description, start_date, end_date, is_active)\n",
        "VALUES \n",
        "    (1, 0, 'Cancelled', 'Order has been cancelled', FROM_UTC_TIMESTAMP(current_timestamp(), 'Asia/Ho_Chi_Minh'), NULL, true),\n",
        "    (2, 1, 'Completed', 'Order has been finalized', FROM_UTC_TIMESTAMP(current_timestamp(), 'Asia/Ho_Chi_Minh'), NULL, true);"
      ],
      "outputs": [
        {
          "output_type": "display_data",
          "data": {
            "application/vnd.livy.statement-meta+json": {
              "spark_pool": "sparkpool",
              "statement_id": 20,
              "statement_ids": [
                20
              ],
              "state": "finished",
              "livy_statement_state": "available",
              "spark_jobs": null,
              "session_id": "74",
              "normalized_state": "finished",
              "queued_time": "2025-03-20T10:26:58.4282588Z",
              "session_start_time": null,
              "execution_start_time": "2025-03-20T10:29:06.1997842Z",
              "execution_finish_time": "2025-03-20T10:29:10.1367144Z",
              "parent_msg_id": "40919574-6827-4006-b0d1-cc58b5da3d95"
            },
            "text/plain": "StatementMeta(sparkpool, 74, 20, Finished, Available, Finished)"
          },
          "metadata": {}
        },
        {
          "output_type": "execute_result",
          "execution_count": 57,
          "data": {
            "application/vnd.synapse.sparksql-result+json": {
              "schema": {
                "type": "struct",
                "fields": []
              },
              "data": []
            },
            "text/plain": "<Spark SQL result set with 0 rows and 0 fields>"
          },
          "metadata": {}
        }
      ],
      "execution_count": 57,
      "metadata": {
        "microsoft": {
          "language": "sparksql"
        },
        "collapsed": false
      }
    },
    {
      "cell_type": "code",
      "source": [
        "# Write to a Parquet file in the Gold layer of the storage account\n",
        "df_dim_Status = spark.sql(\"SELECT * FROM gold.dim_Status\")\n",
        "df_dim_Status.repartition(1).write.mode(\"overwrite\").parquet(\"abfss://final@bibik224161840.dfs.core.windows.net/gold/gold.dimStatus.parquet\")"
      ],
      "outputs": [
        {
          "output_type": "display_data",
          "data": {
            "application/vnd.livy.statement-meta+json": {
              "spark_pool": "sparkpool",
              "statement_id": 21,
              "statement_ids": [
                21
              ],
              "state": "finished",
              "livy_statement_state": "available",
              "spark_jobs": null,
              "session_id": "74",
              "normalized_state": "finished",
              "queued_time": "2025-03-20T10:26:58.5103904Z",
              "session_start_time": null,
              "execution_start_time": "2025-03-20T10:29:10.1385458Z",
              "execution_finish_time": "2025-03-20T10:29:12.0434067Z",
              "parent_msg_id": "e0f3bcc8-42fd-4700-b0a2-6783f23f7051"
            },
            "text/plain": "StatementMeta(sparkpool, 74, 21, Finished, Available, Finished)"
          },
          "metadata": {}
        }
      ],
      "execution_count": 58,
      "metadata": {}
    },
    {
      "cell_type": "markdown",
      "source": [
        "# 6. dimStock"
      ],
      "metadata": {
        "nteract": {
          "transient": {
            "deleting": false
          }
        }
      }
    },
    {
      "cell_type": "code",
      "source": [
        "%%sql\n",
        "-- Create table in Lake Database\n",
        "CREATE TABLE IF NOT EXISTS gold.dim_Stock (\n",
        "    StockItemKey INT,  \n",
        "    StockItemID INT,\n",
        "    StockItemName STRING,\n",
        "    StockGroupName STRING,  \n",
        "    Brand STRING,\n",
        "    Size STRING,\n",
        "    LeadTimeDays INT,\n",
        "    QuantityPerOuter INT,\n",
        "    IsChillerStock BOOLEAN,\n",
        "    Barcode STRING,\n",
        "    TaxRate DECIMAL(18,3),\n",
        "    UnitPrice DECIMAL(18,2),\n",
        "    RecommendedRetailPrice DECIMAL(18,2),\n",
        "    TypicalWeightPerUnit DECIMAL(18,3),\n",
        "    start_date TIMESTAMP,    \n",
        "    end_date TIMESTAMP,      \n",
        "    is_active BOOLEAN        \n",
        ");"
      ],
      "outputs": [
        {
          "output_type": "display_data",
          "data": {
            "application/vnd.livy.statement-meta+json": {
              "spark_pool": "sparkpool",
              "statement_id": 22,
              "statement_ids": [
                22
              ],
              "state": "finished",
              "livy_statement_state": "available",
              "spark_jobs": null,
              "session_id": "74",
              "normalized_state": "finished",
              "queued_time": "2025-03-20T10:26:58.6053975Z",
              "session_start_time": null,
              "execution_start_time": "2025-03-20T10:29:12.0543134Z",
              "execution_finish_time": "2025-03-20T10:29:12.6073153Z",
              "parent_msg_id": "322d5975-5119-4d77-91bc-791bdf0a28e9"
            },
            "text/plain": "StatementMeta(sparkpool, 74, 22, Finished, Available, Finished)"
          },
          "metadata": {}
        },
        {
          "output_type": "execute_result",
          "execution_count": 59,
          "data": {
            "application/vnd.synapse.sparksql-result+json": {
              "schema": {
                "type": "struct",
                "fields": []
              },
              "data": []
            },
            "text/plain": "<Spark SQL result set with 0 rows and 0 fields>"
          },
          "metadata": {}
        }
      ],
      "execution_count": 59,
      "metadata": {
        "microsoft": {
          "language": "sparksql"
        },
        "collapsed": false
      }
    },
    {
      "cell_type": "code",
      "source": [
        "%%sql\n",
        "-- Clear all data from the dimension table before inserting fresh data\n",
        "TRUNCATE TABLE gold.dim_Stock;"
      ],
      "outputs": [
        {
          "output_type": "display_data",
          "data": {
            "application/vnd.livy.statement-meta+json": {
              "spark_pool": "sparkpool",
              "statement_id": 23,
              "statement_ids": [
                23
              ],
              "state": "finished",
              "livy_statement_state": "available",
              "spark_jobs": null,
              "session_id": "74",
              "normalized_state": "finished",
              "queued_time": "2025-03-20T10:26:58.6811751Z",
              "session_start_time": null,
              "execution_start_time": "2025-03-20T10:29:12.6093555Z",
              "execution_finish_time": "2025-03-20T10:29:14.4672833Z",
              "parent_msg_id": "c671c77b-d4cb-4006-ada9-8477aa32c0ec"
            },
            "text/plain": "StatementMeta(sparkpool, 74, 23, Finished, Available, Finished)"
          },
          "metadata": {}
        },
        {
          "output_type": "execute_result",
          "execution_count": 60,
          "data": {
            "application/vnd.synapse.sparksql-result+json": {
              "schema": {
                "type": "struct",
                "fields": []
              },
              "data": []
            },
            "text/plain": "<Spark SQL result set with 0 rows and 0 fields>"
          },
          "metadata": {}
        }
      ],
      "execution_count": 60,
      "metadata": {
        "microsoft": {
          "language": "sparksql"
        },
        "collapsed": false
      }
    },
    {
      "cell_type": "code",
      "source": [
        "%%sql\n",
        "-- Insert data from the Silver Layer into the Gold Layer\n",
        "INSERT INTO gold.dim_Stock\n",
        "SELECT\n",
        "    si.StockItemKey,  \n",
        "    si.StockItemID,\n",
        "    si.StockItemName,\n",
        "    sg.StockGroupName,  \n",
        "    si.Brand,\n",
        "    si.Size,\n",
        "    si.LeadTimeDays,\n",
        "    si.QuantityPerOuter,\n",
        "    si.IsChillerStock,\n",
        "    si.Barcode,\n",
        "    si.TaxRate,\n",
        "    si.UnitPrice,\n",
        "    si.RecommendedRetailPrice,\n",
        "    si.TypicalWeightPerUnit,\n",
        "    si.start_date,\n",
        "    si.end_date,\n",
        "    si.is_active\n",
        "FROM silver.StockItems si\n",
        "LEFT JOIN silver.StockItemStockGroups sisg ON si.StockItemID = sisg.StockItemID\n",
        "LEFT JOIN silver.StockGroups sg ON sisg.StockGroupID = sg.StockGroupID;"
      ],
      "outputs": [
        {
          "output_type": "display_data",
          "data": {
            "application/vnd.livy.statement-meta+json": {
              "spark_pool": "sparkpool",
              "statement_id": 24,
              "statement_ids": [
                24
              ],
              "state": "finished",
              "livy_statement_state": "available",
              "spark_jobs": null,
              "session_id": "74",
              "normalized_state": "finished",
              "queued_time": "2025-03-20T10:26:58.7547692Z",
              "session_start_time": null,
              "execution_start_time": "2025-03-20T10:29:14.469209Z",
              "execution_finish_time": "2025-03-20T10:29:19.7794262Z",
              "parent_msg_id": "3deceef8-b5a5-4c05-af1f-58ecdc6f188c"
            },
            "text/plain": "StatementMeta(sparkpool, 74, 24, Finished, Available, Finished)"
          },
          "metadata": {}
        },
        {
          "output_type": "execute_result",
          "execution_count": 61,
          "data": {
            "application/vnd.synapse.sparksql-result+json": {
              "schema": {
                "type": "struct",
                "fields": []
              },
              "data": []
            },
            "text/plain": "<Spark SQL result set with 0 rows and 0 fields>"
          },
          "metadata": {}
        }
      ],
      "execution_count": 61,
      "metadata": {
        "microsoft": {
          "language": "sparksql"
        },
        "collapsed": false
      }
    },
    {
      "cell_type": "code",
      "source": [
        "# Write to a Parquet file in the Gold layer of the storage account\n",
        "df_dim_Stock = spark.sql(\"SELECT * FROM gold.dim_Stock\")\n",
        "df_dim_Stock.repartition(1).write.mode(\"overwrite\").parquet(\"abfss://final@bibik224161840.dfs.core.windows.net/gold/gold.dimStock.parquet\")"
      ],
      "outputs": [
        {
          "output_type": "display_data",
          "data": {
            "application/vnd.livy.statement-meta+json": {
              "spark_pool": "sparkpool",
              "statement_id": 25,
              "statement_ids": [
                25
              ],
              "state": "finished",
              "livy_statement_state": "available",
              "spark_jobs": null,
              "session_id": "74",
              "normalized_state": "finished",
              "queued_time": "2025-03-20T10:26:58.8378323Z",
              "session_start_time": null,
              "execution_start_time": "2025-03-20T10:29:19.7814159Z",
              "execution_finish_time": "2025-03-20T10:29:21.7134386Z",
              "parent_msg_id": "6a5b6dcb-58d1-42bd-9e6b-d62b219d619b"
            },
            "text/plain": "StatementMeta(sparkpool, 74, 25, Finished, Available, Finished)"
          },
          "metadata": {}
        }
      ],
      "execution_count": 62,
      "metadata": {}
    },
    {
      "cell_type": "markdown",
      "source": [
        "# 7. dimSuppliers"
      ],
      "metadata": {
        "nteract": {
          "transient": {
            "deleting": false
          }
        }
      }
    },
    {
      "cell_type": "code",
      "source": [
        "%%sql\n",
        "-- Create table in Lake Database\n",
        "CREATE TABLE IF NOT EXISTS gold.dim_Suppliers (\n",
        "    SupplierKey INT,  \n",
        "    SupplierID INT,\n",
        "    SupplierReference STRING,\n",
        "    BankAccountName STRING,  \n",
        "    BankAccountBranch STRING,\n",
        "    BankAccountNumber STRING,\n",
        "    PaymentDays INT,\n",
        "    PhoneNumber STRING,\n",
        "    FaxNumber STRING,\n",
        "    DeliveryAddressLine1 STRING,\n",
        "    DeliveryAddressLine2 STRING,\n",
        "    DeliveryPostalCode STRING,\n",
        "    DeliveryLocation STRING,\n",
        "    start_date TIMESTAMP,    \n",
        "    end_date TIMESTAMP,      \n",
        "    is_active BOOLEAN        \n",
        ");"
      ],
      "outputs": [
        {
          "output_type": "display_data",
          "data": {
            "application/vnd.livy.statement-meta+json": {
              "spark_pool": "sparkpool",
              "statement_id": 26,
              "statement_ids": [
                26
              ],
              "state": "finished",
              "livy_statement_state": "available",
              "spark_jobs": null,
              "session_id": "74",
              "normalized_state": "finished",
              "queued_time": "2025-03-20T10:26:58.9870836Z",
              "session_start_time": null,
              "execution_start_time": "2025-03-20T10:29:21.724364Z",
              "execution_finish_time": "2025-03-20T10:29:22.2772414Z",
              "parent_msg_id": "10daf250-5554-40ba-9e47-b5e99fe6f480"
            },
            "text/plain": "StatementMeta(sparkpool, 74, 26, Finished, Available, Finished)"
          },
          "metadata": {}
        },
        {
          "output_type": "execute_result",
          "execution_count": 63,
          "data": {
            "application/vnd.synapse.sparksql-result+json": {
              "schema": {
                "type": "struct",
                "fields": []
              },
              "data": []
            },
            "text/plain": "<Spark SQL result set with 0 rows and 0 fields>"
          },
          "metadata": {}
        }
      ],
      "execution_count": 63,
      "metadata": {
        "microsoft": {
          "language": "sparksql"
        },
        "collapsed": false
      }
    },
    {
      "cell_type": "code",
      "source": [
        "%%sql\n",
        "-- Clear all data from the dimension table before inserting fresh data\n",
        "TRUNCATE TABLE gold.dim_Suppliers;"
      ],
      "outputs": [
        {
          "output_type": "display_data",
          "data": {
            "application/vnd.livy.statement-meta+json": {
              "spark_pool": "sparkpool",
              "statement_id": 27,
              "statement_ids": [
                27
              ],
              "state": "finished",
              "livy_statement_state": "available",
              "spark_jobs": null,
              "session_id": "74",
              "normalized_state": "finished",
              "queued_time": "2025-03-20T10:26:59.0155089Z",
              "session_start_time": null,
              "execution_start_time": "2025-03-20T10:29:22.2791438Z",
              "execution_finish_time": "2025-03-20T10:29:24.184599Z",
              "parent_msg_id": "bcb95894-d643-4d6e-a79f-e15cdb7ead26"
            },
            "text/plain": "StatementMeta(sparkpool, 74, 27, Finished, Available, Finished)"
          },
          "metadata": {}
        },
        {
          "output_type": "execute_result",
          "execution_count": 64,
          "data": {
            "application/vnd.synapse.sparksql-result+json": {
              "schema": {
                "type": "struct",
                "fields": []
              },
              "data": []
            },
            "text/plain": "<Spark SQL result set with 0 rows and 0 fields>"
          },
          "metadata": {}
        }
      ],
      "execution_count": 64,
      "metadata": {
        "microsoft": {
          "language": "sparksql"
        },
        "collapsed": false
      }
    },
    {
      "cell_type": "code",
      "source": [
        "%%sql\n",
        "-- Insert data from the Silver Layer into the Gold Layer\n",
        "INSERT INTO gold.dim_Suppliers\n",
        "SELECT\n",
        "    SupplierKey,  \n",
        "    SupplierID,\n",
        "    SupplierReference,\n",
        "    BankAccountName,  \n",
        "    BankAccountBranch,\n",
        "    BankAccountNumber,\n",
        "    PaymentDays,\n",
        "    PhoneNumber,\n",
        "    FaxNumber,\n",
        "    DeliveryAddressLine1,\n",
        "    DeliveryAddressLine2,\n",
        "    DeliveryPostalCode,\n",
        "    DeliveryLocation,\n",
        "    start_date,\n",
        "    end_date,\n",
        "    is_active\n",
        "FROM silver.Suppliers;"
      ],
      "outputs": [
        {
          "output_type": "display_data",
          "data": {
            "application/vnd.livy.statement-meta+json": {
              "spark_pool": "sparkpool",
              "statement_id": 28,
              "statement_ids": [
                28
              ],
              "state": "finished",
              "livy_statement_state": "available",
              "spark_jobs": null,
              "session_id": "74",
              "normalized_state": "finished",
              "queued_time": "2025-03-20T10:26:59.1369455Z",
              "session_start_time": null,
              "execution_start_time": "2025-03-20T10:29:24.1864697Z",
              "execution_finish_time": "2025-03-20T10:29:28.1694085Z",
              "parent_msg_id": "63f7c4c8-9d38-4e05-b24d-1df3a4505386"
            },
            "text/plain": "StatementMeta(sparkpool, 74, 28, Finished, Available, Finished)"
          },
          "metadata": {}
        },
        {
          "output_type": "execute_result",
          "execution_count": 65,
          "data": {
            "application/vnd.synapse.sparksql-result+json": {
              "schema": {
                "type": "struct",
                "fields": []
              },
              "data": []
            },
            "text/plain": "<Spark SQL result set with 0 rows and 0 fields>"
          },
          "metadata": {}
        }
      ],
      "execution_count": 65,
      "metadata": {
        "microsoft": {
          "language": "sparksql"
        },
        "collapsed": false
      }
    },
    {
      "cell_type": "code",
      "source": [
        "# Write to a Parquet file in the Gold layer of the storage account\n",
        "df_dim_Suppliers = spark.sql(\"SELECT * FROM gold.dim_Suppliers\")\n",
        "df_dim_Suppliers.repartition(1).write.mode(\"overwrite\").parquet(\"abfss://final@bibik224161840.dfs.core.windows.net/gold/gold.dimSuppliers.parquet\")"
      ],
      "outputs": [
        {
          "output_type": "display_data",
          "data": {
            "application/vnd.livy.statement-meta+json": {
              "spark_pool": "sparkpool",
              "statement_id": 29,
              "statement_ids": [
                29
              ],
              "state": "finished",
              "livy_statement_state": "available",
              "spark_jobs": null,
              "session_id": "74",
              "normalized_state": "finished",
              "queued_time": "2025-03-20T10:26:59.3148524Z",
              "session_start_time": null,
              "execution_start_time": "2025-03-20T10:29:28.1713999Z",
              "execution_finish_time": "2025-03-20T10:29:30.2420218Z",
              "parent_msg_id": "9a367de4-99c2-483f-9650-bf81efccacb5"
            },
            "text/plain": "StatementMeta(sparkpool, 74, 29, Finished, Available, Finished)"
          },
          "metadata": {}
        }
      ],
      "execution_count": 66,
      "metadata": {}
    },
    {
      "cell_type": "markdown",
      "source": [
        "# 8. dimTime"
      ],
      "metadata": {
        "nteract": {
          "transient": {
            "deleting": false
          }
        }
      }
    },
    {
      "cell_type": "code",
      "source": [
        "from pyspark.sql.functions import col, date_format, year, quarter, month, dayofweek, lit, expr, unix_timestamp\n",
        "from datetime import datetime, timedelta\n",
        "\n",
        "# Generate a list of dates from 2005 to 2030\n",
        "start_date = datetime(2005, 1, 1)\n",
        "end_date = datetime(2030, 12, 31)\n",
        "date_list = [(start_date + timedelta(days=x)) for x in range((end_date - start_date).days + 1)]\n",
        "\n",
        "# Convert to PySpark DataFrame\n",
        "df = spark.createDataFrame([(date,) for date in date_list], [\"Date\"])\n",
        "\n",
        "# Add necessary columns\n",
        "df = df.withColumn(\"DateKey\", date_format(col(\"Date\"), \"yyyyMMdd\").cast(\"int\")) \\\n",
        "       .withColumn(\"Year\", year(col(\"Date\"))) \\\n",
        "       .withColumn(\"StartYear\", unix_timestamp(expr(\"concat(Year, '-01-01')\"), \"yyyy-MM-dd\").cast(\"timestamp\")) \\\n",
        "       .withColumn(\"EndYear\", unix_timestamp(expr(\"concat(Year, '-12-31')\"), \"yyyy-MM-dd\").cast(\"timestamp\")) \\\n",
        "       .withColumn(\"Quarter\", quarter(col(\"Date\"))) \\\n",
        "       .withColumn(\"QuarterName\", expr(\"concat('Q', Quarter)\")) \\\n",
        "       .withColumn(\"StartQuarter\", expr(\"date_trunc('quarter', Date)\")) \\\n",
        "       .withColumn(\"EndQuarter\", expr(\"last_day(date_trunc('quarter', Date))\")) \\\n",
        "       .withColumn(\"Month\", month(col(\"Date\"))) \\\n",
        "       .withColumn(\"MonthName\", date_format(col(\"Date\"), \"MMMM\")) \\\n",
        "       .withColumn(\"MonthNameShort\", date_format(col(\"Date\"), \"MMM\")) \\\n",
        "       .withColumn(\"StartMonth\", expr(\"date_trunc('month', Date)\")) \\\n",
        "       .withColumn(\"EndMonth\", expr(\"last_day(Date)\")) \\\n",
        "       .withColumn(\"Day\", date_format(col(\"Date\"), \"dd\").cast(\"int\")) \\\n",
        "       .withColumn(\"DayofWeek\", dayofweek(col(\"Date\"))) \\\n",
        "       .withColumn(\"IsHoliday\", expr(\"case when DayofWeek IN (1, 7) then 1 else 0 end\").cast(\"boolean\"))\n",
        "\n",
        "\n",
        "df = df.select(\"DateKey\", *[col for col in df.columns if col != \"DateKey\"])"
      ],
      "outputs": [
        {
          "output_type": "display_data",
          "data": {
            "application/vnd.livy.statement-meta+json": {
              "spark_pool": "sparkpool",
              "statement_id": 30,
              "statement_ids": [
                30
              ],
              "state": "finished",
              "livy_statement_state": "available",
              "spark_jobs": null,
              "session_id": "74",
              "normalized_state": "finished",
              "queued_time": "2025-03-20T10:26:59.4248041Z",
              "session_start_time": null,
              "execution_start_time": "2025-03-20T10:29:30.2547612Z",
              "execution_finish_time": "2025-03-20T10:29:31.3726208Z",
              "parent_msg_id": "3b6d632f-31c3-4b29-aa33-9a387221c6c9"
            },
            "text/plain": "StatementMeta(sparkpool, 74, 30, Finished, Available, Finished)"
          },
          "metadata": {}
        }
      ],
      "execution_count": 67,
      "metadata": {}
    },
    {
      "cell_type": "code",
      "source": [
        "# Write DataFrame to the Gold Layer (Lake Database) in Parquet format\n",
        "df.write.mode(\"overwrite\").format(\"parquet\").saveAsTable(\"gold.dim_Time\")"
      ],
      "outputs": [
        {
          "output_type": "display_data",
          "data": {
            "application/vnd.livy.statement-meta+json": {
              "spark_pool": "sparkpool",
              "statement_id": 31,
              "statement_ids": [
                31
              ],
              "state": "finished",
              "livy_statement_state": "available",
              "spark_jobs": null,
              "session_id": "74",
              "normalized_state": "finished",
              "queued_time": "2025-03-20T10:26:59.5212007Z",
              "session_start_time": null,
              "execution_start_time": "2025-03-20T10:29:31.3834534Z",
              "execution_finish_time": "2025-03-20T10:29:36.7009249Z",
              "parent_msg_id": "f88e7ef5-aada-4ccd-ac83-adc864409935"
            },
            "text/plain": "StatementMeta(sparkpool, 74, 31, Finished, Available, Finished)"
          },
          "metadata": {}
        }
      ],
      "execution_count": 68,
      "metadata": {}
    },
    {
      "cell_type": "code",
      "source": [
        "# Write to a Parquet file in the Gold layer of the storage account\n",
        "df_dim_Time = spark.sql(\"SELECT * FROM gold.dim_Time\")\n",
        "df_dim_Time.repartition(1).write.mode(\"overwrite\").parquet(\"abfss://final@bibik224161840.dfs.core.windows.net/gold/gold.dimTime.parquet\")"
      ],
      "outputs": [
        {
          "output_type": "display_data",
          "data": {
            "application/vnd.livy.statement-meta+json": {
              "spark_pool": "sparkpool",
              "statement_id": 32,
              "statement_ids": [
                32
              ],
              "state": "finished",
              "livy_statement_state": "available",
              "spark_jobs": null,
              "session_id": "74",
              "normalized_state": "finished",
              "queued_time": "2025-03-20T10:26:59.6171661Z",
              "session_start_time": null,
              "execution_start_time": "2025-03-20T10:29:36.7117527Z",
              "execution_finish_time": "2025-03-20T10:29:39.5296718Z",
              "parent_msg_id": "7e8a4c28-a7c1-43a0-9cde-da360f926e05"
            },
            "text/plain": "StatementMeta(sparkpool, 74, 32, Finished, Available, Finished)"
          },
          "metadata": {}
        }
      ],
      "execution_count": 69,
      "metadata": {}
    },
    {
      "cell_type": "markdown",
      "source": [
        "# 9. factPurchaseOrders"
      ],
      "metadata": {
        "nteract": {
          "transient": {
            "deleting": false
          }
        }
      }
    },
    {
      "cell_type": "code",
      "source": [
        "%%sql\n",
        "-- Create table in Lake Database\n",
        "CREATE TABLE IF NOT EXISTS gold.fact_PurchaseOrders (\n",
        "    PurchaseOrderID INT,\n",
        "    StockItemKey INT,\n",
        "    SupplierKey INT,\n",
        "    EmployeeKey INT,\n",
        "    PaymentMethodKey INT,\n",
        "    DeliveryMethodKey INT,\n",
        "    CityKey INT,\n",
        "    StatusKey INT,\n",
        "    OrderDate INT,\n",
        "    ExpectedDeliveryDate INT,\n",
        "    OrderedOuters INT,\n",
        "    ReceivedOuters INT,\n",
        "    ExpectedUnitPricePerOuter DECIMAL(18,2),\n",
        "    LastReceiptDate INT,\n",
        "    TaxAmount DECIMAL(18,2),\n",
        "    TransactionAmount DECIMAL(18,2)\n",
        ") "
      ],
      "outputs": [
        {
          "output_type": "display_data",
          "data": {
            "application/vnd.livy.statement-meta+json": {
              "spark_pool": "sparkpool",
              "statement_id": 49,
              "statement_ids": [
                49
              ],
              "state": "finished",
              "livy_statement_state": "available",
              "spark_jobs": null,
              "session_id": "74",
              "normalized_state": "finished",
              "queued_time": "2025-03-20T10:58:27.5380736Z",
              "session_start_time": null,
              "execution_start_time": "2025-03-20T10:58:27.5394597Z",
              "execution_finish_time": "2025-03-20T10:58:28.1170753Z",
              "parent_msg_id": "61219787-7d31-4830-a5ce-b4b4dd65c191"
            },
            "text/plain": "StatementMeta(sparkpool, 74, 49, Finished, Available, Finished)"
          },
          "metadata": {}
        },
        {
          "output_type": "execute_result",
          "execution_count": 86,
          "data": {
            "application/vnd.synapse.sparksql-result+json": {
              "schema": {
                "type": "struct",
                "fields": []
              },
              "data": []
            },
            "text/plain": "<Spark SQL result set with 0 rows and 0 fields>"
          },
          "metadata": {}
        }
      ],
      "execution_count": 86,
      "metadata": {
        "microsoft": {
          "language": "sparksql"
        },
        "collapsed": false
      }
    },
    {
      "cell_type": "code",
      "source": [
        "%%sql\n",
        "-- Clear all data from the dimension table before inserting fresh data\n",
        "TRUNCATE TABLE gold.fact_PurchaseOrders;"
      ],
      "outputs": [
        {
          "output_type": "display_data",
          "data": {
            "application/vnd.livy.statement-meta+json": {
              "spark_pool": "sparkpool",
              "statement_id": 50,
              "statement_ids": [
                50
              ],
              "state": "finished",
              "livy_statement_state": "available",
              "spark_jobs": null,
              "session_id": "74",
              "normalized_state": "finished",
              "queued_time": "2025-03-20T10:58:30.2376951Z",
              "session_start_time": null,
              "execution_start_time": "2025-03-20T10:58:30.2391163Z",
              "execution_finish_time": "2025-03-20T10:58:32.0778323Z",
              "parent_msg_id": "a458e1fa-9c23-4df9-a6f5-fbc53fda5ddb"
            },
            "text/plain": "StatementMeta(sparkpool, 74, 50, Finished, Available, Finished)"
          },
          "metadata": {}
        },
        {
          "output_type": "execute_result",
          "execution_count": 87,
          "data": {
            "application/vnd.synapse.sparksql-result+json": {
              "schema": {
                "type": "struct",
                "fields": []
              },
              "data": []
            },
            "text/plain": "<Spark SQL result set with 0 rows and 0 fields>"
          },
          "metadata": {}
        }
      ],
      "execution_count": 87,
      "metadata": {
        "microsoft": {
          "language": "sparksql"
        },
        "collapsed": false
      }
    },
    {
      "cell_type": "code",
      "source": [
        "%%sql\n",
        "INSERT INTO gold.fact_PurchaseOrders\n",
        "SELECT \n",
        "    po.PurchaseOrderID,\n",
        "    ds.StockItemKey,\n",
        "    dsu.SupplierKey,\n",
        "    de.EmployeeKey,\n",
        "    dpm.PaymentMethodKey,\n",
        "    ddm.DeliveryMethodKey,\n",
        "    dl.CityKey,\n",
        "    CASE \n",
        "        WHEN po.IsOrderFinalized = 'TRUE' THEN 1 \n",
        "        ELSE 2 \n",
        "    END AS StatusKey,\n",
        "    CAST(DATE_FORMAT(po.OrderDate, 'yyyyMMdd') AS INT) AS OrderDate,\n",
        "    CAST(DATE_FORMAT(po.ExpectedDeliveryDate, 'yyyyMMdd') AS INT) AS ExpectedDeliveryDate,\n",
        "    pol.OrderedOuters,\n",
        "    pol.ReceivedOuters,\n",
        "    pol.ExpectedUnitPricePerOuter,\n",
        "    CAST(DATE_FORMAT(pol.LastReceiptDate, 'yyyyMMdd') AS INT) AS LastReceiptDate,\n",
        "    st.TaxAmount,\n",
        "    st.TransactionAmount\n",
        "FROM silver.PurchaseOrders po\n",
        "JOIN silver.PurchaseOrderLines pol ON po.PurchaseOrderID = pol.PurchaseOrderID\n",
        "JOIN gold.dim_Stock ds ON pol.StockItemID = ds.StockItemID  \n",
        "JOIN gold.dim_Suppliers dsu ON po.SupplierID = dsu.SupplierID  \n",
        "JOIN gold.dim_Employees de ON po.ContactPersonID = de.EmployeeID  \n",
        "JOIN silver.supplierTransactions st ON po.PurchaseOrderID = st.PurchaseOrderID  \n",
        "JOIN gold.dim_PaymentMethods dpm ON st.PaymentMethodID = dpm.PaymentMethodID  \n",
        "JOIN gold.dim_DeliveryMethods ddm ON po.DeliveryMethodID = ddm.DeliveryMethodKey  \n",
        "JOIN silver.suppliers s ON po.SupplierID = s.SupplierID  -- Thêm JOIN để lấy DeliveryCityID từ silver.suppliers  \n",
        "JOIN gold.dim_Location dl ON s.DeliveryCityID = dl.CityID;  -- Sửa để lấy từ silver.suppliers  \n"
      ],
      "outputs": [
        {
          "output_type": "display_data",
          "data": {
            "application/vnd.livy.statement-meta+json": {
              "spark_pool": "sparkpool",
              "statement_id": 51,
              "statement_ids": [
                51
              ],
              "state": "finished",
              "livy_statement_state": "available",
              "spark_jobs": null,
              "session_id": "74",
              "normalized_state": "finished",
              "queued_time": "2025-03-20T10:58:33.0930129Z",
              "session_start_time": null,
              "execution_start_time": "2025-03-20T10:58:33.0947064Z",
              "execution_finish_time": "2025-03-20T10:58:39.9316472Z",
              "parent_msg_id": "e5f28989-5b06-4b61-9dbc-b5944a59dc7e"
            },
            "text/plain": "StatementMeta(sparkpool, 74, 51, Finished, Available, Finished)"
          },
          "metadata": {}
        },
        {
          "output_type": "execute_result",
          "execution_count": 88,
          "data": {
            "application/vnd.synapse.sparksql-result+json": {
              "schema": {
                "type": "struct",
                "fields": []
              },
              "data": []
            },
            "text/plain": "<Spark SQL result set with 0 rows and 0 fields>"
          },
          "metadata": {}
        }
      ],
      "execution_count": 88,
      "metadata": {
        "microsoft": {
          "language": "sparksql"
        },
        "collapsed": false
      }
    },
    {
      "cell_type": "code",
      "source": [
        "# Write to a Parquet file in the Gold layer of the storage account\n",
        "df_fact_PurchaseOrders = spark.sql(\"SELECT * FROM gold.fact_PurchaseOrders\")\n",
        "df_fact_PurchaseOrders.repartition(1).write.mode(\"overwrite\").parquet(\"abfss://final@bibik224161840.dfs.core.windows.net/gold/gold.factPurchaseOrders.parquet\")"
      ],
      "outputs": [
        {
          "output_type": "display_data",
          "data": {
            "application/vnd.livy.statement-meta+json": {
              "spark_pool": "sparkpool",
              "statement_id": 46,
              "statement_ids": [
                46
              ],
              "state": "finished",
              "livy_statement_state": "available",
              "spark_jobs": null,
              "session_id": "74",
              "normalized_state": "finished",
              "queued_time": "2025-03-20T10:56:42.725761Z",
              "session_start_time": null,
              "execution_start_time": "2025-03-20T10:56:42.7272345Z",
              "execution_finish_time": "2025-03-20T10:56:44.569059Z",
              "parent_msg_id": "7cd68a28-f34d-40dc-ac49-bdcf18121f5a"
            },
            "text/plain": "StatementMeta(sparkpool, 74, 46, Finished, Available, Finished)"
          },
          "metadata": {}
        }
      ],
      "execution_count": 83,
      "metadata": {}
    }
  ],
  "metadata": {
    "language_info": {
      "name": "python"
    },
    "kernelspec": {
      "name": "synapse_pyspark",
      "language": "Python",
      "display_name": "Synapse PySpark"
    },
    "kernel_info": {
      "name": "synapse_pyspark"
    },
    "description": null,
    "save_output": true,
    "synapse_widget": {
      "version": "0.1",
      "state": {}
    }
  },
  "nbformat": 4,
  "nbformat_minor": 2
}